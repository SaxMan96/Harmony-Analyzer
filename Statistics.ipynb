{
 "cells": [
  {
   "cell_type": "code",
   "execution_count": null,
   "metadata": {},
   "outputs": [],
   "source": [
    "import pandas as pd\n",
    "import numpy as np\n",
    "import ast\n",
    "from collections import Counter, OrderedDict\n",
    "import matplotlib.pyplot as plt\n",
    "\n",
    "df = pd.read_csv(\"songs_and_chords.csv\")\n",
    "data = [ast.literal_eval(chords_string) for chords_string in df[\"encoded_chords\"]]\n",
    "\n",
    "lens = [len(chords) for chords in data]\n",
    "labels = np.arange(min(lens), max(lens) + 1)\n",
    "values = np.zeros(labels.shape)\n",
    "unique, counts = np.unique(lens, return_counts=True)\n",
    "values[unique] = counts\n",
    "width = 1\n",
    "plt.bar(labels, values, width)\n",
    "plt.xticks(labels + width * 0.5, labels)\n",
    "ax = plt.gca()\n",
    "for n, label in enumerate(ax.xaxis.get_ticklabels()):\n",
    "    if n % 8 != 0:\n",
    "        label.set_visible(False)\n",
    "ax.set_title(\"Chords Progression Lengths Distribution\")\n",
    "ax.set_xlabel(\"Chords Progression Length\")\n",
    "ax.set_ylabel(\"Number of Songs\")\n",
    "fig = plt.gcf()\n",
    "fig.set_size_inches(15, 8)\n",
    "plt.show()"
   ]
  },
  {
   "cell_type": "code",
   "execution_count": 3,
   "metadata": {},
   "outputs": [
    {
     "data": {
      "text/plain": [
       "'major triad'"
      ]
     },
     "execution_count": 3,
     "metadata": {},
     "output_type": "execute_result"
    }
   ],
   "source": [
    "from pychord import note_to_chord\n",
    "import music21 \n",
    "c = music21.chord.Chord([72, 76, 79])\n",
    "c.commonName"
   ]
  },
  {
   "cell_type": "code",
   "execution_count": null,
   "metadata": {},
   "outputs": [],
   "source": [
    "\n",
    "note_to_chord([\"C\", \"Eb\", \"G\", \"B\", \"D\"])\n",
    "from pychord import Chord\n",
    "\n",
    "c = Chord([1, 5, 8])\n",
    "note_to_chord(c)"
   ]
  },
  {
   "cell_type": "code",
   "execution_count": null,
   "metadata": {},
   "outputs": [],
   "source": [
    "note_to_chord"
   ]
  },
  {
   "cell_type": "code",
   "execution_count": null,
   "metadata": {},
   "outputs": [],
   "source": []
  }
 ],
 "metadata": {
  "kernelspec": {
   "display_name": "Python 3",
   "language": "python",
   "name": "python3"
  },
  "language_info": {
   "codemirror_mode": {
    "name": "ipython",
    "version": 3
   },
   "file_extension": ".py",
   "mimetype": "text/x-python",
   "name": "python",
   "nbconvert_exporter": "python",
   "pygments_lexer": "ipython3",
   "version": "3.7.3"
  },
  "toc": {
   "base_numbering": 1,
   "nav_menu": {},
   "number_sections": true,
   "sideBar": true,
   "skip_h1_title": false,
   "title_cell": "Table of Contents",
   "title_sidebar": "Contents",
   "toc_cell": false,
   "toc_position": {},
   "toc_section_display": true,
   "toc_window_display": false
  }
 },
 "nbformat": 4,
 "nbformat_minor": 4
}
