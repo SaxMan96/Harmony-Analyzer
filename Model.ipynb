{
 "cells": [
  {
   "cell_type": "code",
   "execution_count": 28,
   "metadata": {},
   "outputs": [],
   "source": [
    "import pandas as pd\n",
    "import numpy as np\n",
    "import ast\n",
    "from collections import Counter, OrderedDict\n",
    "import matplotlib.pyplot as plt\n",
    "from sklearn.model_selection import train_test_split\n",
    "from utilities import *\n",
    "from music21.harmony import chordSymbolFigureFromChord as figureChord\n",
    "from music21.chord import Chord\n",
    "\n",
    "from tensorflow.keras.datasets import imdb\n",
    "from tensorflow.keras.models import Sequential, model_from_json\n",
    "from tensorflow.keras.layers import Dense, LSTM\n",
    "from tensorflow.python.keras.layers.embeddings import Embedding\n",
    "from tensorflow.keras.preprocessing import sequence\n",
    "\n",
    "import warnings\n",
    "\n",
    "warnings.filterwarnings(action=\"once\")"
   ]
  },
  {
   "cell_type": "markdown",
   "metadata": {},
   "source": [
    "LSTM requirements:\n",
    "\n",
    "- The LSTM input layer must be 3D.\n",
    "- LSTMs don’t like sequences of more than 200-400 time steps, so the data will need to be split into samples.\n",
    "- If you have a long sequence of thousands of observations, you must split it into samples and then reshape it for your LSTM model.\n",
    "- The LSTM needs data with the format of [samples, time steps and features].\n",
    "- The LSTM input layer is defined by the input_shape argument on the first hidden layer.\n",
    "- The input_shape argument takes a tuple of two values that define the number of time steps and features.\n",
    "- The number of samples is assumed to be 1 or more.\n",
    "- The reshape() function on NumPy arrays can be used to reshape your 1D or 2D data to be 3D.\n",
    "- The reshape() function takes a tuple as an argument that defines the new shape.\n"
   ]
  },
  {
   "cell_type": "code",
   "execution_count": 2,
   "metadata": {},
   "outputs": [
    {
     "name": "stderr",
     "output_type": "stream",
     "text": [
      "C:\\Users\\Mateusz\\Miniconda3\\envs\\tf-gpu-env\\lib\\importlib\\_bootstrap.py:219: RuntimeWarning: numpy.ufunc size changed, may indicate binary incompatibility. Expected 192 from C header, got 216 from PyObject\n",
      "  return f(*args, **kwds)\n",
      "C:\\Users\\Mateusz\\Miniconda3\\envs\\tf-gpu-env\\lib\\site-packages\\gensim\\corpora\\dictionary.py:11: DeprecationWarning: Using or importing the ABCs from 'collections' instead of from 'collections.abc' is deprecated, and in 3.8 it will stop working\n",
      "  from collections import Mapping, defaultdict\n",
      "C:\\Users\\Mateusz\\Miniconda3\\envs\\tf-gpu-env\\lib\\site-packages\\scipy\\sparse\\sparsetools.py:21: DeprecationWarning: `scipy.sparse.sparsetools` is deprecated!\n",
      "scipy.sparse.sparsetools is a private module for scipy.sparse, and should not be used.\n",
      "  _deprecated()\n",
      "C:\\Users\\Mateusz\\Miniconda3\\envs\\tf-gpu-env\\lib\\site-packages\\gensim\\models\\doc2vec.py:73: DeprecationWarning: Using or importing the ABCs from 'collections' instead of from 'collections.abc' is deprecated, and in 3.8 it will stop working\n",
      "  from collections import namedtuple, defaultdict, Iterable\n"
     ]
    }
   ],
   "source": [
    "from gensim.models import Word2Vec\n",
    "from gensim.models.fasttext import FastText\n",
    "import utilities as my_utils\n",
    "ft = FastText.load(\"./embeddings/fastText.model\")\n",
    "songs = my_utils.build_sentences()"
   ]
  },
  {
   "cell_type": "code",
   "execution_count": 4,
   "metadata": {},
   "outputs": [
    {
     "name": "stdout",
     "output_type": "stream",
     "text": [
      "(1243944, 3) (1243944,)\n"
     ]
    }
   ],
   "source": [
    "def prep_data(songs, sample_len = 4):\n",
    "    # Remove too short songs\n",
    "    songs = [chords for chords in songs if len(chords) > sample_len]\n",
    "    x = []\n",
    "    y = []\n",
    "    for chords in songs:\n",
    "        for i in range(len(chords)):\n",
    "            if i < len(chords) - sample_len:\n",
    "                x.append(chords[i: i + sample_len - 1])\n",
    "            else:\n",
    "                x.append(\n",
    "                    chords[i: len(chords) - 1]\n",
    "                    + chords[: (i + sample_len) % len(chords)]\n",
    "                )\n",
    "            y.append(chords[(i + sample_len) % len(chords)])\n",
    "    x = np.array(x)\n",
    "    y = np.array(y)\n",
    "    print(x.shape, y.shape)\n",
    "    return x, y\n",
    "\n",
    "X, y = prep_data(songs)"
   ]
  },
  {
   "cell_type": "code",
   "execution_count": 12,
   "metadata": {},
   "outputs": [
    {
     "data": {
      "application/vnd.jupyter.widget-view+json": {
       "model_id": "72c8b0c4637349ea89a7f2002d41de74",
       "version_major": 2,
       "version_minor": 0
      },
      "text/plain": [
       "HBox(children=(IntProgress(value=0, description='FastTextEmbedding encoding', max=1243944, style=ProgressStyle…"
      ]
     },
     "metadata": {},
     "output_type": "display_data"
    },
    {
     "name": "stdout",
     "output_type": "stream",
     "text": [
      "\n"
     ]
    }
   ],
   "source": [
    "from tqdm import tqdm_notebook as tqdm\n",
    "def encode_chords(X, y, model):\n",
    "    X_embedded = []\n",
    "    y_embedded = []\n",
    "    for X_sample, y_sample in tqdm(zip(X, y), total=X.shape[0], desc=str(model).split(\"(\")[0]+' Encoding'):\n",
    "        X_embedded.append(model.wv[X_sample])\n",
    "        y_embedded.append(model.wv[y_sample])\n",
    "    X_embedded = np.array(X_embedded)\n",
    "    y_embedded = np.array(y_embedded)\n",
    "    return X_embedded, y_embedded\n",
    "\n",
    "X_embedded, y_embedded = encode_chords(X, y, ft)"
   ]
  },
  {
   "cell_type": "code",
   "execution_count": 10,
   "metadata": {},
   "outputs": [
    {
     "name": "stdout",
     "output_type": "stream",
     "text": [
      "[-2.8218837   2.6679103   1.1131471  -1.3137835  -0.1720473   0.6520036\n",
      "  0.5008011  -1.3545598  -1.2499863   0.53334844  0.4341415  -0.02315862\n",
      "  1.7414213  -0.3618903  -2.1168952   1.6319815  -1.4610413   0.5977253\n",
      " -0.45896897  0.80857223  0.89994234  3.2679656   0.75783396 -2.9877284\n",
      "  0.79341704 -0.14857055 -0.98599106 -0.327897    1.6920537  -0.75195116\n",
      " -0.22168867  0.95694226  1.5130386  -1.2832272   0.33268866  1.0442535\n",
      " -1.9442675  -1.6550491  -0.05510071 -0.47213438  0.30764127 -0.30558968\n",
      " -0.3758615   0.75716263 -1.0502764  -1.1331551   1.2711804  -2.2275395\n",
      "  2.4989285  -2.1432517   0.85097796  0.2423095   1.6097819   1.6056014\n",
      " -1.3808945   1.0785171   0.16974561 -1.024235   -0.44757247  0.03198034\n",
      "  1.1975018   2.1273863   0.23836027 -2.0223749 ]\n"
     ]
    }
   ],
   "source": [
    "print(y_embedded[0])"
   ]
  },
  {
   "cell_type": "code",
   "execution_count": 145,
   "metadata": {},
   "outputs": [
    {
     "name": "stdout",
     "output_type": "stream",
     "text": [
      "Train:\t60%\n",
      "Test:\t20%\n",
      "Valid:\t20%\n"
     ]
    }
   ],
   "source": [
    "from sklearn.model_selection import train_test_split\n",
    "X_train, X_test, y_train, y_test = train_test_split(X_embedded, y_embedded, test_size=0.2, random_state=0)\n",
    "X_train, X_val, y_train, y_val = train_test_split(X_train, y_train, test_size=0.25, random_state=0)\n",
    "for name, X_set in zip([\"Train\", \"Test\", \"Valid\"],[X_train, X_test, X_val]):\n",
    "    print(name,\":\\t\", round(X_set.shape[0]/X_embedded.shape[0]*100),\"%\", sep=\"\")"
   ]
  },
  {
   "cell_type": "markdown",
   "metadata": {},
   "source": [
    "# Test Model\n",
    "\n",
    "import tensorflow as tf\n",
    "from tensorflow import keras\n",
    "from tensorflow.python.keras import models\n",
    "from tensorflow.python.keras.layers import Dense, Dropout\n",
    "\n",
    "model = keras.Sequential(\n",
    "    [\n",
    "        LSTM(64, input_shape=X_train.shape[1:]),\n",
    "        Dense(y_train.shape[1], activation='sigmoid')\n",
    "    ]\n",
    ")"
   ]
  },
  {
   "cell_type": "code",
   "execution_count": 146,
   "metadata": {},
   "outputs": [],
   "source": [
    "\n",
    "class Metrics(Callback):\n",
    "    def __init__(embedding):\n",
    "        self.embedding = embedding\n",
    "        \n",
    "    def on_train_begin(self, logs={}):\n",
    "        self._data = []\n",
    "\n",
    "    def on_epoch_end(self, batch, logs={}):\n",
    "        X_val, y_val = self.validation_data[0], self.validation_data[1]\n",
    "        y_predict = np.asarray(model.predict(X_val))\n",
    "\n",
    "        y_val = np.argmax(y_val, axis=1)\n",
    "        y_predict = np.argmax(y_predict, axis=1)\n",
    "\n",
    "        self._data.append({\n",
    "            'val_rocauc': roc_auc_score(y_val, y_predict),\n",
    "        })\n",
    "        return\n",
    "\n",
    "    def get_data(self):\n",
    "        return self._data\n"
   ]
  },
  {
   "cell_type": "code",
   "execution_count": 153,
   "metadata": {},
   "outputs": [
    {
     "data": {
      "text/plain": [
       "(3, 64)"
      ]
     },
     "execution_count": 153,
     "metadata": {},
     "output_type": "execute_result"
    }
   ],
   "source": [
    "X_train.shape[1:]"
   ]
  },
  {
   "cell_type": "code",
   "execution_count": 277,
   "metadata": {},
   "outputs": [],
   "source": [
    "model = Sequential(\n",
    "    [\n",
    "        LSTM(128, activation='relu', return_sequences=True, input_shape=X_train.shape[1:]),\n",
    "        LSTM(128),\n",
    "        Dense(y_train.shape[1])\n",
    "    ]\n",
    ")"
   ]
  },
  {
   "cell_type": "code",
   "execution_count": 374,
   "metadata": {},
   "outputs": [
    {
     "name": "stdout",
     "output_type": "stream",
     "text": [
      "Model: \"sequential_13\"\n",
      "_________________________________________________________________\n",
      "Layer (type)                 Output Shape              Param #   \n",
      "=================================================================\n",
      "lstm_22 (LSTM)               (None, 3, 128)            98816     \n",
      "_________________________________________________________________\n",
      "lstm_23 (LSTM)               (None, 128)               131584    \n",
      "_________________________________________________________________\n",
      "dense_14 (Dense)             (None, 64)                8256      \n",
      "=================================================================\n",
      "Total params: 238,656\n",
      "Trainable params: 238,656\n",
      "Non-trainable params: 0\n",
      "_________________________________________________________________\n",
      "None\n",
      "Train on 746366 samples, validate on 248789 samples\n",
      "Epoch 1/10\n",
      "745000/746366 [============================>.] - ETA: 8:05 - loss: 0.531 - ETA: 2:43 - loss: 0.530 - ETA: 1:38 - loss: 0.528 - ETA: 1:11 - loss: 0.530 - ETA: 55s - loss: 0.530 - ETA: 45s - loss: 0.53 - ETA: 39s - loss: 0.52 - ETA: 34s - loss: 0.52 - ETA: 30s - loss: 0.52 - ETA: 27s - loss: 0.52 - ETA: 24s - loss: 0.52 - ETA: 22s - loss: 0.52 - ETA: 20s - loss: 0.52 - ETA: 19s - loss: 0.52 - ETA: 17s - loss: 0.52 - ETA: 16s - loss: 0.52 - ETA: 15s - loss: 0.52 - ETA: 14s - loss: 0.52 - ETA: 13s - loss: 0.52 - ETA: 13s - loss: 0.52 - ETA: 12s - loss: 0.52 - ETA: 11s - loss: 0.52 - ETA: 11s - loss: 0.52 - ETA: 10s - loss: 0.52 - ETA: 10s - loss: 0.52 - ETA: 9s - loss: 0.5241 - ETA: 9s - loss: 0.523 - ETA: 9s - loss: 0.523 - ETA: 8s - loss: 0.523 - ETA: 8s - loss: 0.523 - ETA: 7s - loss: 0.522 - ETA: 7s - loss: 0.522 - ETA: 7s - loss: 0.522 - ETA: 7s - loss: 0.522 - ETA: 6s - loss: 0.521 - ETA: 6s - loss: 0.521 - ETA: 6s - loss: 0.521 - ETA: 5s - loss: 0.521 - ETA: 5s - loss: 0.521 - ETA: 5s - loss: 0.520 - ETA: 5s - loss: 0.520 - ETA: 5s - loss: 0.520 - ETA: 4s - loss: 0.520 - ETA: 4s - loss: 0.520 - ETA: 4s - loss: 0.519 - ETA: 4s - loss: 0.519 - ETA: 4s - loss: 0.519 - ETA: 3s - loss: 0.519 - ETA: 3s - loss: 0.519 - ETA: 3s - loss: 0.518 - ETA: 3s - loss: 0.518 - ETA: 3s - loss: 0.518 - ETA: 3s - loss: 0.518 - ETA: 2s - loss: 0.518 - ETA: 2s - loss: 0.518 - ETA: 2s - loss: 0.518 - ETA: 2s - loss: 0.518 - ETA: 2s - loss: 0.518 - ETA: 2s - loss: 0.517 - ETA: 1s - loss: 0.517 - ETA: 1s - loss: 0.517 - ETA: 1s - loss: 0.517 - ETA: 1s - loss: 0.517 - ETA: 1s - loss: 0.517 - ETA: 1s - loss: 0.517 - ETA: 1s - loss: 0.517 - ETA: 0s - loss: 0.517 - ETA: 0s - loss: 0.517 - ETA: 0s - loss: 0.517 - ETA: 0s - loss: 0.517 - ETA: 0s - loss: 0.516 - ETA: 0s - loss: 0.516 - ETA: 0s - loss: 0.516 - ETA: 0s - loss: 0.516 - ETA: 0s - loss: 0.5166epoch 0,\tloss 0.5166,\tval_loss 0.5236\tmean_cos_dist 0.3125\tval_mean_cos_dist 0.4347.\n",
      "746366/746366 [==============================] - 11s 15us/sample - loss: 0.5166 - val_loss: 0.5236\n",
      "Epoch 2/10\n",
      "745000/746366 [============================>.] - ETA: 5s - loss: 0.506 - ETA: 5s - loss: 0.508 - ETA: 5s - loss: 0.507 - ETA: 5s - loss: 0.509 - ETA: 5s - loss: 0.508 - ETA: 5s - loss: 0.507 - ETA: 5s - loss: 0.507 - ETA: 4s - loss: 0.506 - ETA: 4s - loss: 0.506 - ETA: 4s - loss: 0.506 - ETA: 4s - loss: 0.506 - ETA: 4s - loss: 0.506 - ETA: 4s - loss: 0.506 - ETA: 4s - loss: 0.507 - ETA: 4s - loss: 0.507 - ETA: 4s - loss: 0.506 - ETA: 4s - loss: 0.506 - ETA: 4s - loss: 0.506 - ETA: 4s - loss: 0.506 - ETA: 4s - loss: 0.506 - ETA: 3s - loss: 0.506 - ETA: 3s - loss: 0.506 - ETA: 3s - loss: 0.506 - ETA: 3s - loss: 0.506 - ETA: 3s - loss: 0.506 - ETA: 3s - loss: 0.505 - ETA: 3s - loss: 0.505 - ETA: 3s - loss: 0.505 - ETA: 3s - loss: 0.505 - ETA: 3s - loss: 0.505 - ETA: 3s - loss: 0.505 - ETA: 3s - loss: 0.505 - ETA: 3s - loss: 0.505 - ETA: 3s - loss: 0.505 - ETA: 2s - loss: 0.505 - ETA: 2s - loss: 0.505 - ETA: 2s - loss: 0.505 - ETA: 2s - loss: 0.505 - ETA: 2s - loss: 0.505 - ETA: 2s - loss: 0.505 - ETA: 2s - loss: 0.505 - ETA: 2s - loss: 0.505 - ETA: 2s - loss: 0.505 - ETA: 2s - loss: 0.505 - ETA: 2s - loss: 0.505 - ETA: 2s - loss: 0.505 - ETA: 2s - loss: 0.505 - ETA: 1s - loss: 0.505 - ETA: 1s - loss: 0.505 - ETA: 1s - loss: 0.505 - ETA: 1s - loss: 0.505 - ETA: 1s - loss: 0.505 - ETA: 1s - loss: 0.505 - ETA: 1s - loss: 0.505 - ETA: 1s - loss: 0.505 - ETA: 1s - loss: 0.504 - ETA: 1s - loss: 0.504 - ETA: 1s - loss: 0.504 - ETA: 1s - loss: 0.504 - ETA: 1s - loss: 0.504 - ETA: 1s - loss: 0.504 - ETA: 0s - loss: 0.504 - ETA: 0s - loss: 0.504 - ETA: 0s - loss: 0.504 - ETA: 0s - loss: 0.504 - ETA: 0s - loss: 0.504 - ETA: 0s - loss: 0.504 - ETA: 0s - loss: 0.504 - ETA: 0s - loss: 0.504 - ETA: 0s - loss: 0.504 - ETA: 0s - loss: 0.504 - ETA: 0s - loss: 0.504 - ETA: 0s - loss: 0.504 - ETA: 0s - loss: 0.504 - ETA: 0s - loss: 0.5046epoch 1,\tloss 0.5046,\tval_loss 0.5172\tmean_cos_dist 0.3173\tval_mean_cos_dist 0.4296.\n",
      "746366/746366 [==============================] - 7s 9us/sample - loss: 0.5046 - val_loss: 0.5172\n",
      "Epoch 3/10\n",
      "745000/746366 [============================>.] - ETA: 5s - loss: 0.500 - ETA: 5s - loss: 0.505 - ETA: 4s - loss: 0.505 - ETA: 4s - loss: 0.502 - ETA: 4s - loss: 0.501 - ETA: 4s - loss: 0.501 - ETA: 4s - loss: 0.501 - ETA: 4s - loss: 0.501 - ETA: 4s - loss: 0.502 - ETA: 4s - loss: 0.501 - ETA: 4s - loss: 0.501 - ETA: 4s - loss: 0.501 - ETA: 4s - loss: 0.501 - ETA: 4s - loss: 0.501 - ETA: 4s - loss: 0.501 - ETA: 4s - loss: 0.501 - ETA: 4s - loss: 0.500 - ETA: 3s - loss: 0.500 - ETA: 3s - loss: 0.500 - ETA: 3s - loss: 0.500 - ETA: 3s - loss: 0.500 - ETA: 3s - loss: 0.500 - ETA: 3s - loss: 0.500 - ETA: 3s - loss: 0.500 - ETA: 3s - loss: 0.500 - ETA: 3s - loss: 0.500 - ETA: 3s - loss: 0.500 - ETA: 3s - loss: 0.500 - ETA: 3s - loss: 0.500 - ETA: 3s - loss: 0.500 - ETA: 3s - loss: 0.500 - ETA: 3s - loss: 0.500 - ETA: 3s - loss: 0.500 - ETA: 2s - loss: 0.500 - ETA: 2s - loss: 0.500 - ETA: 2s - loss: 0.500 - ETA: 2s - loss: 0.500 - ETA: 2s - loss: 0.500 - ETA: 2s - loss: 0.500 - ETA: 2s - loss: 0.500 - ETA: 2s - loss: 0.500 - ETA: 2s - loss: 0.500 - ETA: 2s - loss: 0.500 - ETA: 2s - loss: 0.500 - ETA: 2s - loss: 0.500 - ETA: 2s - loss: 0.500 - ETA: 2s - loss: 0.500 - ETA: 1s - loss: 0.500 - ETA: 1s - loss: 0.500 - ETA: 1s - loss: 0.500 - ETA: 1s - loss: 0.500 - ETA: 1s - loss: 0.500 - ETA: 1s - loss: 0.500 - ETA: 1s - loss: 0.500 - ETA: 1s - loss: 0.500 - ETA: 1s - loss: 0.500 - ETA: 1s - loss: 0.500 - ETA: 1s - loss: 0.500 - ETA: 1s - loss: 0.500 - ETA: 1s - loss: 0.500 - ETA: 1s - loss: 0.500 - ETA: 0s - loss: 0.500 - ETA: 0s - loss: 0.500 - ETA: 0s - loss: 0.500 - ETA: 0s - loss: 0.500 - ETA: 0s - loss: 0.500 - ETA: 0s - loss: 0.500 - ETA: 0s - loss: 0.500 - ETA: 0s - loss: 0.500 - ETA: 0s - loss: 0.500 - ETA: 0s - loss: 0.500 - ETA: 0s - loss: 0.500 - ETA: 0s - loss: 0.500 - ETA: 0s - loss: 0.500 - ETA: 0s - loss: 0.5001epoch 2,\tloss 0.5001,\tval_loss 0.5141\tmean_cos_dist 0.3212\tval_mean_cos_dist 0.4257.\n",
      "746366/746366 [==============================] - 7s 9us/sample - loss: 0.5001 - val_loss: 0.5141\n",
      "Epoch 4/10\n",
      "745000/746366 [============================>.] - ETA: 5s - loss: 0.502 - ETA: 5s - loss: 0.498 - ETA: 5s - loss: 0.497 - ETA: 4s - loss: 0.497 - ETA: 4s - loss: 0.497 - ETA: 4s - loss: 0.496 - ETA: 4s - loss: 0.497 - ETA: 4s - loss: 0.497 - ETA: 4s - loss: 0.497 - ETA: 4s - loss: 0.497 - ETA: 4s - loss: 0.496 - ETA: 4s - loss: 0.496 - ETA: 4s - loss: 0.496 - ETA: 4s - loss: 0.497 - ETA: 4s - loss: 0.497 - ETA: 4s - loss: 0.497 - ETA: 4s - loss: 0.497 - ETA: 4s - loss: 0.497 - ETA: 4s - loss: 0.497 - ETA: 4s - loss: 0.497 - ETA: 3s - loss: 0.497 - ETA: 3s - loss: 0.496 - ETA: 3s - loss: 0.496 - ETA: 3s - loss: 0.496 - ETA: 3s - loss: 0.497 - ETA: 3s - loss: 0.496 - ETA: 3s - loss: 0.497 - ETA: 3s - loss: 0.496 - ETA: 3s - loss: 0.497 - ETA: 3s - loss: 0.497 - ETA: 3s - loss: 0.497 - ETA: 3s - loss: 0.497 - ETA: 3s - loss: 0.497 - ETA: 3s - loss: 0.497 - ETA: 2s - loss: 0.497 - ETA: 2s - loss: 0.497 - ETA: 2s - loss: 0.497 - ETA: 2s - loss: 0.497 - ETA: 2s - loss: 0.497 - ETA: 2s - loss: 0.497 - ETA: 2s - loss: 0.497 - ETA: 2s - loss: 0.497 - ETA: 2s - loss: 0.497 - ETA: 2s - loss: 0.497 - ETA: 2s - loss: 0.497 - ETA: 2s - loss: 0.497 - ETA: 2s - loss: 0.497 - ETA: 1s - loss: 0.497 - ETA: 1s - loss: 0.497 - ETA: 1s - loss: 0.497 - ETA: 1s - loss: 0.497 - ETA: 1s - loss: 0.497 - ETA: 1s - loss: 0.497 - ETA: 1s - loss: 0.497 - ETA: 1s - loss: 0.497 - ETA: 1s - loss: 0.497 - ETA: 1s - loss: 0.497 - ETA: 1s - loss: 0.497 - ETA: 1s - loss: 0.497 - ETA: 1s - loss: 0.497 - ETA: 1s - loss: 0.497 - ETA: 0s - loss: 0.497 - ETA: 0s - loss: 0.497 - ETA: 0s - loss: 0.497 - ETA: 0s - loss: 0.497 - ETA: 0s - loss: 0.497 - ETA: 0s - loss: 0.497 - ETA: 0s - loss: 0.497 - ETA: 0s - loss: 0.497 - ETA: 0s - loss: 0.497 - ETA: 0s - loss: 0.497 - ETA: 0s - loss: 0.497 - ETA: 0s - loss: 0.497 - ETA: 0s - loss: 0.497 - ETA: 0s - loss: 0.4976epoch 3,\tloss 0.4976,\tval_loss 0.5122\tmean_cos_dist 0.3230\tval_mean_cos_dist 0.4228.\n",
      "746366/746366 [==============================] - 7s 9us/sample - loss: 0.4976 - val_loss: 0.5122\n",
      "Epoch 5/10\n",
      "745000/746366 [============================>.] - ETA: 5s - loss: 0.489 - ETA: 5s - loss: 0.491 - ETA: 5s - loss: 0.493 - ETA: 5s - loss: 0.494 - ETA: 5s - loss: 0.495 - ETA: 4s - loss: 0.495 - ETA: 4s - loss: 0.495 - ETA: 4s - loss: 0.495 - ETA: 4s - loss: 0.494 - ETA: 4s - loss: 0.495 - ETA: 4s - loss: 0.495 - ETA: 4s - loss: 0.495 - ETA: 4s - loss: 0.495 - ETA: 4s - loss: 0.495 - ETA: 4s - loss: 0.495 - ETA: 4s - loss: 0.495 - ETA: 4s - loss: 0.495 - ETA: 4s - loss: 0.495 - ETA: 4s - loss: 0.495 - ETA: 4s - loss: 0.495 - ETA: 3s - loss: 0.495 - ETA: 3s - loss: 0.495 - ETA: 3s - loss: 0.495 - ETA: 3s - loss: 0.495 - ETA: 3s - loss: 0.495 - ETA: 3s - loss: 0.495 - ETA: 3s - loss: 0.495 - ETA: 3s - loss: 0.495 - ETA: 3s - loss: 0.495 - ETA: 3s - loss: 0.495 - ETA: 3s - loss: 0.495 - ETA: 3s - loss: 0.495 - ETA: 3s - loss: 0.495 - ETA: 3s - loss: 0.495 - ETA: 2s - loss: 0.495 - ETA: 2s - loss: 0.495 - ETA: 2s - loss: 0.495 - ETA: 2s - loss: 0.495 - ETA: 2s - loss: 0.495 - ETA: 2s - loss: 0.495 - ETA: 2s - loss: 0.495 - ETA: 2s - loss: 0.495 - ETA: 2s - loss: 0.495 - ETA: 2s - loss: 0.495 - ETA: 2s - loss: 0.495 - ETA: 2s - loss: 0.495 - ETA: 2s - loss: 0.495 - ETA: 1s - loss: 0.495 - ETA: 1s - loss: 0.495 - ETA: 1s - loss: 0.495 - ETA: 1s - loss: 0.495 - ETA: 1s - loss: 0.495 - ETA: 1s - loss: 0.495 - ETA: 1s - loss: 0.495 - ETA: 1s - loss: 0.495 - ETA: 1s - loss: 0.495 - ETA: 1s - loss: 0.495 - ETA: 1s - loss: 0.495 - ETA: 1s - loss: 0.495 - ETA: 1s - loss: 0.495 - ETA: 1s - loss: 0.495 - ETA: 0s - loss: 0.495 - ETA: 0s - loss: 0.495 - ETA: 0s - loss: 0.495 - ETA: 0s - loss: 0.496 - ETA: 0s - loss: 0.495 - ETA: 0s - loss: 0.495 - ETA: 0s - loss: 0.495 - ETA: 0s - loss: 0.495 - ETA: 0s - loss: 0.495 - ETA: 0s - loss: 0.495 - ETA: 0s - loss: 0.495 - ETA: 0s - loss: 0.495 - ETA: 0s - loss: 0.495 - ETA: 0s - loss: 0.4958epoch 4,\tloss 0.4958,\tval_loss 0.5110\tmean_cos_dist 0.3252\tval_mean_cos_dist 0.4214.\n",
      "746366/746366 [==============================] - 7s 9us/sample - loss: 0.4958 - val_loss: 0.5110\n",
      "Epoch 6/10\n",
      "745000/746366 [============================>.] - ETA: 5s - loss: 0.491 - ETA: 5s - loss: 0.491 - ETA: 5s - loss: 0.492 - ETA: 4s - loss: 0.491 - ETA: 4s - loss: 0.492 - ETA: 4s - loss: 0.493 - ETA: 4s - loss: 0.493 - ETA: 4s - loss: 0.493 - ETA: 4s - loss: 0.493 - ETA: 4s - loss: 0.493 - ETA: 4s - loss: 0.493 - ETA: 4s - loss: 0.493 - ETA: 4s - loss: 0.493 - ETA: 4s - loss: 0.493 - ETA: 4s - loss: 0.493 - ETA: 4s - loss: 0.493 - ETA: 4s - loss: 0.493 - ETA: 3s - loss: 0.493 - ETA: 3s - loss: 0.493 - ETA: 3s - loss: 0.493 - ETA: 3s - loss: 0.493 - ETA: 3s - loss: 0.493 - ETA: 3s - loss: 0.493 - ETA: 3s - loss: 0.493 - ETA: 3s - loss: 0.493 - ETA: 3s - loss: 0.493 - ETA: 3s - loss: 0.493 - ETA: 3s - loss: 0.493 - ETA: 3s - loss: 0.493 - ETA: 3s - loss: 0.493 - ETA: 3s - loss: 0.493 - ETA: 3s - loss: 0.493 - ETA: 2s - loss: 0.493 - ETA: 2s - loss: 0.493 - ETA: 2s - loss: 0.494 - ETA: 2s - loss: 0.493 - ETA: 2s - loss: 0.493 - ETA: 2s - loss: 0.493 - ETA: 2s - loss: 0.493 - ETA: 2s - loss: 0.493 - ETA: 2s - loss: 0.493 - ETA: 2s - loss: 0.493 - ETA: 2s - loss: 0.493 - ETA: 2s - loss: 0.493 - ETA: 2s - loss: 0.493 - ETA: 2s - loss: 0.493 - ETA: 1s - loss: 0.494 - ETA: 1s - loss: 0.494 - ETA: 1s - loss: 0.494 - ETA: 1s - loss: 0.494 - ETA: 1s - loss: 0.494 - ETA: 1s - loss: 0.494 - ETA: 1s - loss: 0.494 - ETA: 1s - loss: 0.494 - ETA: 1s - loss: 0.494 - ETA: 1s - loss: 0.494 - ETA: 1s - loss: 0.494 - ETA: 1s - loss: 0.494 - ETA: 1s - loss: 0.494 - ETA: 1s - loss: 0.494 - ETA: 1s - loss: 0.494 - ETA: 0s - loss: 0.494 - ETA: 0s - loss: 0.494 - ETA: 0s - loss: 0.494 - ETA: 0s - loss: 0.494 - ETA: 0s - loss: 0.494 - ETA: 0s - loss: 0.494 - ETA: 0s - loss: 0.494 - ETA: 0s - loss: 0.494 - ETA: 0s - loss: 0.494 - ETA: 0s - loss: 0.494 - ETA: 0s - loss: 0.494 - ETA: 0s - loss: 0.494 - ETA: 0s - loss: 0.494 - ETA: 0s - loss: 0.4944epoch 5,\tloss 0.4945,\tval_loss 0.5100\tmean_cos_dist 0.3266\tval_mean_cos_dist 0.4201.\n",
      "746366/746366 [==============================] - 7s 9us/sample - loss: 0.4945 - val_loss: 0.5100\n",
      "Epoch 7/10\n",
      "740000/746366 [============================>.] - ETA: 5s - loss: 0.493 - ETA: 5s - loss: 0.496 - ETA: 4s - loss: 0.493 - ETA: 4s - loss: 0.492 - ETA: 4s - loss: 0.493 - ETA: 4s - loss: 0.492 - ETA: 4s - loss: 0.492 - ETA: 4s - loss: 0.491 - ETA: 4s - loss: 0.492 - ETA: 4s - loss: 0.492 - ETA: 4s - loss: 0.492 - ETA: 4s - loss: 0.492 - ETA: 4s - loss: 0.492 - ETA: 4s - loss: 0.492 - ETA: 4s - loss: 0.492 - ETA: 4s - loss: 0.492 - ETA: 4s - loss: 0.492 - ETA: 4s - loss: 0.492 - ETA: 4s - loss: 0.492 - ETA: 3s - loss: 0.492 - ETA: 3s - loss: 0.493 - ETA: 3s - loss: 0.492 - ETA: 3s - loss: 0.492 - ETA: 3s - loss: 0.492 - ETA: 3s - loss: 0.492 - ETA: 3s - loss: 0.492 - ETA: 3s - loss: 0.492 - ETA: 3s - loss: 0.492 - ETA: 3s - loss: 0.492 - ETA: 3s - loss: 0.492 - ETA: 3s - loss: 0.492 - ETA: 3s - loss: 0.492 - ETA: 3s - loss: 0.493 - ETA: 2s - loss: 0.492 - ETA: 2s - loss: 0.493 - ETA: 2s - loss: 0.493 - ETA: 2s - loss: 0.493 - ETA: 2s - loss: 0.493 - ETA: 2s - loss: 0.493 - ETA: 2s - loss: 0.493 - ETA: 2s - loss: 0.493 - ETA: 2s - loss: 0.493 - ETA: 2s - loss: 0.493 - ETA: 2s - loss: 0.493 - ETA: 2s - loss: 0.493 - ETA: 2s - loss: 0.493 - ETA: 2s - loss: 0.493 - ETA: 2s - loss: 0.493 - ETA: 1s - loss: 0.493 - ETA: 1s - loss: 0.493 - ETA: 1s - loss: 0.493 - ETA: 1s - loss: 0.493 - ETA: 1s - loss: 0.493 - ETA: 1s - loss: 0.493 - ETA: 1s - loss: 0.493 - ETA: 1s - loss: 0.493 - ETA: 1s - loss: 0.493 - ETA: 1s - loss: 0.493 - ETA: 1s - loss: 0.493 - ETA: 1s - loss: 0.493 - ETA: 1s - loss: 0.493 - ETA: 1s - loss: 0.493 - ETA: 0s - loss: 0.493 - ETA: 0s - loss: 0.493 - ETA: 0s - loss: 0.493 - ETA: 0s - loss: 0.493 - ETA: 0s - loss: 0.493 - ETA: 0s - loss: 0.493 - ETA: 0s - loss: 0.493 - ETA: 0s - loss: 0.493 - ETA: 0s - loss: 0.493 - ETA: 0s - loss: 0.493 - ETA: 0s - loss: 0.493 - ETA: 0s - loss: 0.493 - ETA: 0s - loss: 0.4934epoch 6,\tloss 0.4934,\tval_loss 0.5093\tmean_cos_dist 0.3279\tval_mean_cos_dist 0.4193.\n",
      "746366/746366 [==============================] - 7s 9us/sample - loss: 0.4934 - val_loss: 0.5093\n",
      "Epoch 8/10\n",
      "745000/746366 [============================>.] - ETA: 5s - loss: 0.491 - ETA: 5s - loss: 0.490 - ETA: 5s - loss: 0.490 - ETA: 5s - loss: 0.490 - ETA: 5s - loss: 0.490 - ETA: 5s - loss: 0.491 - ETA: 5s - loss: 0.491 - ETA: 5s - loss: 0.491 - ETA: 5s - loss: 0.491 - ETA: 5s - loss: 0.491 - ETA: 4s - loss: 0.491 - ETA: 4s - loss: 0.491 - ETA: 4s - loss: 0.491 - ETA: 4s - loss: 0.491 - ETA: 4s - loss: 0.491 - ETA: 4s - loss: 0.491 - ETA: 4s - loss: 0.491 - ETA: 4s - loss: 0.491 - ETA: 4s - loss: 0.491 - ETA: 4s - loss: 0.491 - ETA: 4s - loss: 0.491 - ETA: 4s - loss: 0.491 - ETA: 3s - loss: 0.491 - ETA: 3s - loss: 0.491 - ETA: 3s - loss: 0.491 - ETA: 3s - loss: 0.491 - ETA: 3s - loss: 0.492 - ETA: 3s - loss: 0.492 - ETA: 3s - loss: 0.492 - ETA: 3s - loss: 0.492 - ETA: 3s - loss: 0.491 - ETA: 3s - loss: 0.492 - ETA: 3s - loss: 0.492 - ETA: 3s - loss: 0.492 - ETA: 3s - loss: 0.492 - ETA: 2s - loss: 0.492 - ETA: 2s - loss: 0.492 - ETA: 2s - loss: 0.492 - ETA: 2s - loss: 0.492 - ETA: 2s - loss: 0.492 - ETA: 2s - loss: 0.492 - ETA: 2s - loss: 0.492 - ETA: 2s - loss: 0.492 - ETA: 2s - loss: 0.492 - ETA: 2s - loss: 0.492 - ETA: 2s - loss: 0.492 - ETA: 2s - loss: 0.492 - ETA: 2s - loss: 0.492 - ETA: 1s - loss: 0.492 - ETA: 1s - loss: 0.492 - ETA: 1s - loss: 0.492 - ETA: 1s - loss: 0.492 - ETA: 1s - loss: 0.492 - ETA: 1s - loss: 0.492 - ETA: 1s - loss: 0.492 - ETA: 1s - loss: 0.492 - ETA: 1s - loss: 0.492 - ETA: 1s - loss: 0.492 - ETA: 1s - loss: 0.492 - ETA: 1s - loss: 0.492 - ETA: 1s - loss: 0.492 - ETA: 0s - loss: 0.492 - ETA: 0s - loss: 0.492 - ETA: 0s - loss: 0.492 - ETA: 0s - loss: 0.492 - ETA: 0s - loss: 0.492 - ETA: 0s - loss: 0.492 - ETA: 0s - loss: 0.492 - ETA: 0s - loss: 0.492 - ETA: 0s - loss: 0.492 - ETA: 0s - loss: 0.492 - ETA: 0s - loss: 0.492 - ETA: 0s - loss: 0.492 - ETA: 0s - loss: 0.492 - ETA: 0s - loss: 0.4925epoch 7,\tloss 0.4925,\tval_loss 0.5088\tmean_cos_dist 0.3295\tval_mean_cos_dist 0.4192.\n",
      "746366/746366 [==============================] - 7s 9us/sample - loss: 0.4925 - val_loss: 0.5088\n",
      "Epoch 9/10\n",
      "740000/746366 [============================>.] - ETA: 5s - loss: 0.485 - ETA: 5s - loss: 0.488 - ETA: 5s - loss: 0.490 - ETA: 5s - loss: 0.489 - ETA: 5s - loss: 0.490 - ETA: 5s - loss: 0.489 - ETA: 4s - loss: 0.490 - ETA: 4s - loss: 0.490 - ETA: 4s - loss: 0.490 - ETA: 4s - loss: 0.490 - ETA: 4s - loss: 0.490 - ETA: 4s - loss: 0.490 - ETA: 4s - loss: 0.491 - ETA: 4s - loss: 0.490 - ETA: 4s - loss: 0.490 - ETA: 4s - loss: 0.490 - ETA: 4s - loss: 0.490 - ETA: 4s - loss: 0.491 - ETA: 4s - loss: 0.491 - ETA: 4s - loss: 0.491 - ETA: 3s - loss: 0.491 - ETA: 3s - loss: 0.491 - ETA: 3s - loss: 0.490 - ETA: 3s - loss: 0.490 - ETA: 3s - loss: 0.490 - ETA: 3s - loss: 0.490 - ETA: 3s - loss: 0.491 - ETA: 3s - loss: 0.490 - ETA: 3s - loss: 0.490 - ETA: 3s - loss: 0.491 - ETA: 3s - loss: 0.490 - ETA: 3s - loss: 0.491 - ETA: 3s - loss: 0.490 - ETA: 3s - loss: 0.491 - ETA: 2s - loss: 0.490 - ETA: 2s - loss: 0.491 - ETA: 2s - loss: 0.491 - ETA: 2s - loss: 0.491 - ETA: 2s - loss: 0.491 - ETA: 2s - loss: 0.491 - ETA: 2s - loss: 0.491 - ETA: 2s - loss: 0.491 - ETA: 2s - loss: 0.491 - ETA: 2s - loss: 0.491 - ETA: 2s - loss: 0.491 - ETA: 2s - loss: 0.491 - ETA: 2s - loss: 0.491 - ETA: 2s - loss: 0.491 - ETA: 1s - loss: 0.491 - ETA: 1s - loss: 0.491 - ETA: 1s - loss: 0.491 - ETA: 1s - loss: 0.491 - ETA: 1s - loss: 0.491 - ETA: 1s - loss: 0.491 - ETA: 1s - loss: 0.491 - ETA: 1s - loss: 0.491 - ETA: 1s - loss: 0.491 - ETA: 1s - loss: 0.491 - ETA: 1s - loss: 0.491 - ETA: 1s - loss: 0.491 - ETA: 1s - loss: 0.491 - ETA: 1s - loss: 0.491 - ETA: 0s - loss: 0.491 - ETA: 0s - loss: 0.491 - ETA: 0s - loss: 0.491 - ETA: 0s - loss: 0.491 - ETA: 0s - loss: 0.491 - ETA: 0s - loss: 0.491 - ETA: 0s - loss: 0.491 - ETA: 0s - loss: 0.491 - ETA: 0s - loss: 0.491 - ETA: 0s - loss: 0.491 - ETA: 0s - loss: 0.491 - ETA: 0s - loss: 0.491 - ETA: 0s - loss: 0.4917epoch 8,\tloss 0.4917,\tval_loss 0.5083\tmean_cos_dist 0.3296\tval_mean_cos_dist 0.4183.\n",
      "746366/746366 [==============================] - 7s 9us/sample - loss: 0.4917 - val_loss: 0.5083\n",
      "Epoch 10/10\n",
      "745000/746366 [============================>.] - ETA: 5s - loss: 0.494 - ETA: 5s - loss: 0.490 - ETA: 5s - loss: 0.491 - ETA: 5s - loss: 0.490 - ETA: 5s - loss: 0.489 - ETA: 4s - loss: 0.490 - ETA: 4s - loss: 0.490 - ETA: 4s - loss: 0.490 - ETA: 4s - loss: 0.490 - ETA: 4s - loss: 0.490 - ETA: 4s - loss: 0.490 - ETA: 4s - loss: 0.490 - ETA: 4s - loss: 0.490 - ETA: 4s - loss: 0.490 - ETA: 4s - loss: 0.490 - ETA: 4s - loss: 0.490 - ETA: 4s - loss: 0.490 - ETA: 4s - loss: 0.490 - ETA: 4s - loss: 0.490 - ETA: 4s - loss: 0.490 - ETA: 3s - loss: 0.490 - ETA: 3s - loss: 0.490 - ETA: 3s - loss: 0.490 - ETA: 3s - loss: 0.491 - ETA: 3s - loss: 0.491 - ETA: 3s - loss: 0.491 - ETA: 3s - loss: 0.491 - ETA: 3s - loss: 0.490 - ETA: 3s - loss: 0.491 - ETA: 3s - loss: 0.491 - ETA: 3s - loss: 0.491 - ETA: 3s - loss: 0.491 - ETA: 3s - loss: 0.490 - ETA: 3s - loss: 0.491 - ETA: 2s - loss: 0.490 - ETA: 2s - loss: 0.490 - ETA: 2s - loss: 0.490 - ETA: 2s - loss: 0.491 - ETA: 2s - loss: 0.491 - ETA: 2s - loss: 0.490 - ETA: 2s - loss: 0.490 - ETA: 2s - loss: 0.490 - ETA: 2s - loss: 0.490 - ETA: 2s - loss: 0.490 - ETA: 2s - loss: 0.490 - ETA: 2s - loss: 0.490 - ETA: 2s - loss: 0.490 - ETA: 2s - loss: 0.490 - ETA: 1s - loss: 0.490 - ETA: 1s - loss: 0.490 - ETA: 1s - loss: 0.490 - ETA: 1s - loss: 0.490 - ETA: 1s - loss: 0.490 - ETA: 1s - loss: 0.490 - ETA: 1s - loss: 0.490 - ETA: 1s - loss: 0.490 - ETA: 1s - loss: 0.490 - ETA: 1s - loss: 0.490 - ETA: 1s - loss: 0.490 - ETA: 1s - loss: 0.490 - ETA: 1s - loss: 0.490 - ETA: 0s - loss: 0.490 - ETA: 0s - loss: 0.490 - ETA: 0s - loss: 0.490 - ETA: 0s - loss: 0.490 - ETA: 0s - loss: 0.490 - ETA: 0s - loss: 0.490 - ETA: 0s - loss: 0.490 - ETA: 0s - loss: 0.491 - ETA: 0s - loss: 0.490 - ETA: 0s - loss: 0.491 - ETA: 0s - loss: 0.491 - ETA: 0s - loss: 0.491 - ETA: 0s - loss: 0.491 - ETA: 0s - loss: 0.4910epoch 9,\tloss 0.4910,\tval_loss 0.5079\tmean_cos_dist 0.3307\tval_mean_cos_dist 0.4182.\n",
      "746366/746366 [==============================] - 7s 9us/sample - loss: 0.4910 - val_loss: 0.5079\n"
     ]
    }
   ],
   "source": [
    "import tensorflow\n",
    "import tensorflow.keras.backend as K\n",
    "from tensorflow.keras.metrics import TruePositives, FalsePositives, TrueNegatives, FalseNegatives, BinaryAccuracy, Precision, Recall, AUC\n",
    "from tensorflow.keras.losses import MeanSquaredError, Huber\n",
    "from tensorflow.keras.optimizers import Adam\n",
    "\n",
    "from tensorflow.keras.callbacks import Callback\n",
    "\n",
    "from sklearn.metrics import roc_auc_score\n",
    "from sklearn.metrics import precision_score\n",
    "from sklearn.metrics import recall_score\n",
    "from sklearn.metrics import f1_score\n",
    "from sklearn.metrics import cohen_kappa_score\n",
    "from sklearn.metrics import confusion_matrix\n",
    "\n",
    "class Metrics(Callback):\n",
    "    def __init__(self, tr_data, val_data):\n",
    "        self.validation_data = val_data    \n",
    "        self.train_data = tr_data    \n",
    "    \n",
    "    def cosine_distance_sum(A, B):\n",
    "        return sum([1.0 - np.dot(a, b)/(np.linalg.norm(a)*np.linalg.norm(b)) for a,b in zip(A, B)])\n",
    "\n",
    "    def mean_cos_dist(X_vali, y_vali):\n",
    "        y_pred = model.predict(X_vali)\n",
    "        return cosine_distance_sum(y_pred, y_vali)/y_vali.shape[0]\n",
    "        \n",
    "    def on_train_begin(self, logs={}):\n",
    "        self.mean_cos_dist = []      \n",
    "        self.val_mean_cos_dist = []       \n",
    "        \n",
    "    def on_epoch_end(self, epoch, logs={}):\n",
    "        score = mean_cos_dist(self.train_data[0][:1000], self.train_data[1][:1000])\n",
    "        score_val = mean_cos_dist(self.validation_data[0][:1000], self.validation_data[1][:1000])\n",
    "        self.mean_cos_dist.append(score)\n",
    "        self.val_mean_cos_dist.append(score_val)\n",
    "        print('epoch {},\\tloss {:3.4f},\\tval_loss {:3.4f}\\tmean_cos_dist {:3.4f}\\tval_mean_cos_dist {:3.4f}.'.format(\n",
    "            epoch, logs['loss'], logs['val_loss'], score, score_val))\n",
    "        \n",
    "    def on_train_end(self, logs={}):\n",
    "        self.mean_cos_dist = {'mean_cos_dist': self.mean_cos_dist}    \n",
    "        self.val_mean_cos_dist = {'val_mean_cos_dist': self.val_mean_cos_dist}      \n",
    "        \n",
    "    def get_train_data(self):\n",
    "        return self.train_data\n",
    "    \n",
    "    def get_val_data(self):\n",
    "        return self.validation_data\n",
    "    \n",
    "    \n",
    "validation_split = 0.25\n",
    "epochs = 10\n",
    "batch_size = 5000\n",
    "loss = Huber() \n",
    "optimizer = Adam(lr=1e-3)\n",
    "metrics = Metrics((X_train, y_train),\n",
    "                  (X_val, y_val))\n",
    "\n",
    "METRICS_NAMES = [\n",
    "        \"loss\",\n",
    "        \"mean_cos_dist\",\n",
    "    ]\n",
    "model.compile(loss=loss, batch_size=batch_size, optimizer=optimizer)\n",
    "print(model.summary())\n",
    "history = model.fit(metrics.get_train_data()[0], \n",
    "                    metrics.get_train_data()[1], \n",
    "                    epochs=epochs, \n",
    "                    batch_size=batch_size, \n",
    "                    validation_data = metrics.get_val_data(),\n",
    "                    callbacks=[metrics], \n",
    "                    verbose=1).history"
   ]
  },
  {
   "cell_type": "code",
   "execution_count": 375,
   "metadata": {},
   "outputs": [],
   "source": [
    "import matplotlib.pyplot as plt\n",
    "def plot_loss(history, metric_name):\n",
    "    val_loss = history[\"val_\" + metric_name]\n",
    "    plt.plot(val_loss, linewidth=3, label=\"valid\")\n",
    "    loss = history[metric_name]\n",
    "    plt.plot(loss, linewidth=3, label=\"train\")\n",
    "    plt.grid()\n",
    "    plt.legend()\n",
    "    plt.xlabel(\"epoch\")\n",
    "    plt.ylabel(metric_name)\n",
    "    plt.title(metric_name)\n",
    "    plt.show()"
   ]
  },
  {
   "cell_type": "code",
   "execution_count": 376,
   "metadata": {},
   "outputs": [
    {
     "data": {
      "image/png": "[encoded data removed]",
      "text/plain": [
       "<Figure size 432x288 with 1 Axes>"
      ]
     },
     "metadata": {
      "image/png": {
       "height": 277,
       "width": 398
      },
      "needs_background": "light"
     },
     "output_type": "display_data"
    },
    {
     "ename": "KeyError",
     "evalue": "'val_mean_cos_dist'",
     "output_type": "error",
     "traceback": [
      "\u001b[1;31m---------------------------------------------------------------------------\u001b[0m",
      "\u001b[1;31mKeyError\u001b[0m                                  Traceback (most recent call last)",
      "\u001b[1;32m<ipython-input-376-7078051ca5b7>\u001b[0m in \u001b[0;36m<module>\u001b[1;34m\u001b[0m\n\u001b[0;32m      1\u001b[0m \u001b[1;32mfor\u001b[0m \u001b[0mmetric_name\u001b[0m \u001b[1;32min\u001b[0m \u001b[0mMETRICS_NAMES\u001b[0m\u001b[1;33m:\u001b[0m\u001b[1;33m\u001b[0m\u001b[1;33m\u001b[0m\u001b[0m\n\u001b[1;32m----> 2\u001b[1;33m     \u001b[0mplot_loss\u001b[0m\u001b[1;33m(\u001b[0m\u001b[0mhistory\u001b[0m\u001b[1;33m,\u001b[0m \u001b[0mmetric_name\u001b[0m\u001b[1;33m)\u001b[0m\u001b[1;33m\u001b[0m\u001b[1;33m\u001b[0m\u001b[0m\n\u001b[0m",
      "\u001b[1;32m<ipython-input-375-21ff7e1a59d8>\u001b[0m in \u001b[0;36mplot_loss\u001b[1;34m(history, metric_name)\u001b[0m\n\u001b[0;32m      1\u001b[0m \u001b[1;32mimport\u001b[0m \u001b[0mmatplotlib\u001b[0m\u001b[1;33m.\u001b[0m\u001b[0mpyplot\u001b[0m \u001b[1;32mas\u001b[0m \u001b[0mplt\u001b[0m\u001b[1;33m\u001b[0m\u001b[1;33m\u001b[0m\u001b[0m\n\u001b[0;32m      2\u001b[0m \u001b[1;32mdef\u001b[0m \u001b[0mplot_loss\u001b[0m\u001b[1;33m(\u001b[0m\u001b[0mhistory\u001b[0m\u001b[1;33m,\u001b[0m \u001b[0mmetric_name\u001b[0m\u001b[1;33m)\u001b[0m\u001b[1;33m:\u001b[0m\u001b[1;33m\u001b[0m\u001b[1;33m\u001b[0m\u001b[0m\n\u001b[1;32m----> 3\u001b[1;33m     \u001b[0mval_loss\u001b[0m \u001b[1;33m=\u001b[0m \u001b[0mhistory\u001b[0m\u001b[1;33m[\u001b[0m\u001b[1;34m\"val_\"\u001b[0m \u001b[1;33m+\u001b[0m \u001b[0mmetric_name\u001b[0m\u001b[1;33m]\u001b[0m\u001b[1;33m\u001b[0m\u001b[1;33m\u001b[0m\u001b[0m\n\u001b[0m\u001b[0;32m      4\u001b[0m     \u001b[0mplt\u001b[0m\u001b[1;33m.\u001b[0m\u001b[0mplot\u001b[0m\u001b[1;33m(\u001b[0m\u001b[0mval_loss\u001b[0m\u001b[1;33m,\u001b[0m \u001b[0mlinewidth\u001b[0m\u001b[1;33m=\u001b[0m\u001b[1;36m3\u001b[0m\u001b[1;33m,\u001b[0m \u001b[0mlabel\u001b[0m\u001b[1;33m=\u001b[0m\u001b[1;34m\"valid\"\u001b[0m\u001b[1;33m)\u001b[0m\u001b[1;33m\u001b[0m\u001b[1;33m\u001b[0m\u001b[0m\n\u001b[0;32m      5\u001b[0m     \u001b[0mloss\u001b[0m \u001b[1;33m=\u001b[0m \u001b[0mhistory\u001b[0m\u001b[1;33m[\u001b[0m\u001b[0mmetric_name\u001b[0m\u001b[1;33m]\u001b[0m\u001b[1;33m\u001b[0m\u001b[1;33m\u001b[0m\u001b[0m\n",
      "\u001b[1;31mKeyError\u001b[0m: 'val_mean_cos_dist'"
     ]
    }
   ],
   "source": [
    "for metric_name in METRICS_NAMES:\n",
    "    plot_loss(history, metric_name)"
   ]
  },
  {
   "cell_type": "code",
   "execution_count": 167,
   "metadata": {},
   "outputs": [
    {
     "name": "stdout",
     "output_type": "stream",
     "text": [
      "[ 0.2831416   1.9003518  -0.5969981   0.04515171  0.88170296 -1.8052266\n",
      " -0.28070796 -0.7344635  -0.5129904   0.5274376  -0.50100714  0.35816643\n",
      " -0.50922704 -1.9544994   0.02911769  1.1419986   0.01741598  0.5366339\n",
      " -1.4860406   0.5877922  -0.6481257   1.7070045  -0.65793806  1.18562\n",
      "  0.46790358 -0.45111388  0.16563676 -2.42333    -0.20980245  0.73004264\n",
      "  0.1077087  -0.0410464  -1.8511068  -0.4033527   0.5019449   1.9654834\n",
      " -0.8074281  -0.7183717  -0.638709    1.6402546   1.4586475  -0.3450368\n",
      " -0.8329103  -0.53891575 -0.8557045   0.56288075 -0.14011712 -0.19686495\n",
      " -1.7863393   0.06247514  0.5551195  -1.4328742   1.5419097  -0.2912826\n",
      " -1.1314827   0.41545781 -0.6453534   0.49623677 -0.38735077 -1.5992879\n",
      "  1.1138496  -1.2525398  -0.26182267 -0.30861476]\n",
      "('Dbo7', 1.0000001192092896)\n"
     ]
    }
   ],
   "source": [
    "print(X_train[0][0], ft.wv.most_similar(X_train[0][0].reshape(1,-1))[0], sep=\"\\n\")"
   ]
  },
  {
   "cell_type": "code",
   "execution_count": 168,
   "metadata": {},
   "outputs": [
    {
     "data": {
      "text/plain": [
       "((1, 3, 64), (1, 3, 64))"
      ]
     },
     "execution_count": 168,
     "metadata": {},
     "output_type": "execute_result"
    }
   ],
   "source": [
    "X_test[0][np.newaxis, :].shape, X_test[0:1].shape"
   ]
  },
  {
   "cell_type": "code",
   "execution_count": 191,
   "metadata": {},
   "outputs": [],
   "source": [
    "y_pred = model.predict(X_val)"
   ]
  },
  {
   "cell_type": "code",
   "execution_count": 215,
   "metadata": {},
   "outputs": [
    {
     "data": {
      "text/plain": [
       "array([1.1765480e-02, 9.9932218e-01, 1.5053064e-02, 7.3697269e-02,\n",
       "       4.1568816e-02, 1.0145307e-03, 6.9227779e-01, 2.7146310e-02,\n",
       "       5.6087404e-02, 9.8156953e-01, 4.1623086e-02, 1.7766654e-03,\n",
       "       9.5526654e-01, 9.5456839e-05, 2.1044910e-03, 9.9726462e-01,\n",
       "       7.9795456e-01, 9.8848116e-01, 8.7758899e-04, 6.7255825e-02,\n",
       "       5.6697845e-01, 2.6142174e-01, 8.3818436e-03, 1.0466874e-03,\n",
       "       2.1749616e-02, 3.7980625e-01, 3.8614780e-01, 6.4440370e-03,\n",
       "       7.0753086e-01, 4.0321946e-03, 1.1001676e-02, 8.2796770e-01,\n",
       "       6.9072545e-03, 2.1427870e-04, 7.9796612e-03, 2.6754647e-02,\n",
       "       1.3144612e-03, 3.3476949e-04, 1.1012545e-01, 1.6420603e-02,\n",
       "       5.2706182e-01, 1.2637675e-03, 1.8366277e-03, 2.0543215e-01,\n",
       "       3.6429465e-03, 7.7060550e-02, 3.3498409e-01, 9.8288864e-02,\n",
       "       2.8477907e-03, 6.0220957e-03, 7.2938544e-01, 1.6391873e-03,\n",
       "       8.9170790e-01, 4.8121333e-02, 2.4847984e-03, 9.5821273e-01,\n",
       "       3.2187700e-03, 1.6988397e-02, 1.8121332e-02, 6.6918099e-01,\n",
       "       2.9048109e-01, 6.8163490e-01, 3.8376927e-02, 7.6046258e-02],\n",
       "      dtype=float32)"
      ]
     },
     "execution_count": 215,
     "metadata": {},
     "output_type": "execute_result"
    }
   ],
   "source": [
    "y_pred[0]"
   ]
  },
  {
   "cell_type": "code",
   "execution_count": 240,
   "metadata": {},
   "outputs": [
    {
     "name": "stdout",
     "output_type": "stream",
     "text": [
      "False\tC\tD7\tD7\t( B-7 )\t['Db7', 'Ab-7', 'Gb7', 'Eb7', 'Ab7', 'C-7', 'Bbh7', 'Ab-', 'Bb7', 'Ab^7']\n",
      "False\tC\tD7\tD7\t( B )\t['Db7', 'Ab-7', 'Gb7', 'Eb7', 'Ab7', 'C-7', 'Bbh7', 'Ab-', 'Bb7', 'Ab^7']\n",
      "False\tC\tD7\tD7\t( Eb7sus )\t['Db7', 'Ab-7', 'Gb7', 'Eb7', 'Ab7', 'C-7', 'Bbh7', 'Ab-', 'Bb7', 'Ab^7']\n",
      "True\tC\tD7\tD7\t( Db7 )\t['Db7', 'Ab-7', 'Gb7', 'Eb7', 'Ab7', 'C-7', 'Bbh7', 'Ab-', 'Bb7', 'Ab^7']\n",
      "False\tC\tD7\tD7\t( B7 )\t['Db7', 'Ab-7', 'Gb7', 'Eb7', 'Ab7', 'C-7', 'Bbh7', 'Ab-', 'Bb7', 'Ab^7']\n",
      "False\tC\tD7\tD7\t( F7 )\t['Db7', 'Ab-7', 'Gb7', 'Eb7', 'Ab7', 'C-7', 'Bbh7', 'Ab-', 'Bb7', 'Ab^7']\n",
      "False\tC\tD7\tD7\t( C6 )\t['Db7', 'Ab-7', 'Gb7', 'Eb7', 'Ab7', 'C-7', 'Bbh7', 'Ab-', 'Bb7', 'Ab^7']\n",
      "False\tC\tD7\tD7\t( D7 )\t['Db7', 'Ab-7', 'Gb7', 'Eb7', 'Ab7', 'C-7', 'Bbh7', 'Ab-', 'Bb7', 'Ab^7']\n",
      "False\tC\tD7\tD7\t( Bb^7 )\t['Db7', 'Ab-7', 'Gb7', 'Eb7', 'Ab7', 'C-7', 'Bbh7', 'Ab-', 'Bb7', 'Ab^7']\n",
      "False\tC\tD7\tD7\t( A7 )\t['Db7', 'Ab-7', 'Gb7', 'Eb7', 'Ab7', 'C-7', 'Bbh7', 'Ab-', 'Bb7', 'Ab^7']\n",
      "False\tC\tD7\tD7\t( D7 )\t['Db7', 'Ab-7', 'Gb7', 'Eb7', 'Ab7', 'C-7', 'Bbh7', 'Ab-', 'Bb7', 'Ab^7']\n",
      "False\tC\tD7\tD7\t( E-7 )\t['Db7', 'Ab-7', 'Gb7', 'Eb7', 'Ab7', 'C-7', 'Bbh7', 'Ab-', 'Bb7', 'Ab^7']\n",
      "False\tC\tD7\tD7\t( G7 )\t['Db7', 'Ab-7', 'Gb7', 'Eb7', 'Ab7', 'C-7', 'Bbh7', 'Ab-', 'Bb7', 'Ab^7']\n",
      "False\tC\tD7\tD7\t( A^7 )\t['Db7', 'Ab-7', 'Gb7', 'Eb7', 'Ab7', 'C-7', 'Bbh7', 'Ab-', 'Bb7', 'Ab^7']\n",
      "False\tC\tD7\tD7\t( G )\t['Db7', 'Ab-7', 'Gb7', 'Eb7', 'Ab7', 'C-7', 'Bbh7', 'Ab-', 'Bb7', 'Ab^7']\n",
      "False\tC\tD7\tD7\t( D-7 )\t['Db7', 'Ab-7', 'Gb7', 'Eb7', 'Ab7', 'C-7', 'Bbh7', 'Ab-', 'Bb7', 'Ab^7']\n",
      "True\tC\tD7\tD7\t( C-7 )\t['Db7', 'Ab-7', 'Gb7', 'Eb7', 'Ab7', 'C-7', 'Bbh7', 'Ab-', 'Bb7', 'Ab^7']\n",
      "False\tC\tD7\tD7\t( D7b9 )\t['Db7', 'Ab-7', 'Gb7', 'Eb7', 'Ab7', 'C-7', 'Bbh7', 'Ab-', 'Bb7', 'Ab^7']\n",
      "True\tC\tD7\tD7\t( Bb7 )\t['Db7', 'Ab-7', 'Gb7', 'Eb7', 'Ab7', 'C-7', 'Bbh7', 'Ab-', 'Bb7', 'Ab^7']\n",
      "False\tC\tD7\tD7\t( G )\t['Db7', 'Ab-7', 'Gb7', 'Eb7', 'Ab7', 'C-7', 'Bbh7', 'Ab-', 'Bb7', 'Ab^7']\n"
     ]
    }
   ],
   "source": [
    "for i in range(20):\n",
    "    print(ft.wv.most_similar(y_test[i].reshape(1,-1))[0][0] in [d[0] for d in ft.wv.most_similar(y_pred)][:10], end=\"\\t\")\n",
    "    print(ft.wv.most_similar(x_test_ex[0].reshape(1,-1))[0][0], end=\"\\t\")\n",
    "    print(ft.wv.most_similar(x_test_ex[1].reshape(1,-1))[0][0], end=\"\\t\")\n",
    "    print(ft.wv.most_similar(x_test_ex[2].reshape(1,-1))[0][0], end=\"\\t\")\n",
    "    print(\"(\", ft.wv.most_similar(y_test[i].reshape(1,-1))[0][0], end=\" )\\t\")\n",
    "    print([d[0] for d in ft.wv.most_similar(y_pred)][:10])"
   ]
  },
  {
   "cell_type": "code",
   "execution_count": 10,
   "metadata": {},
   "outputs": [
    {
     "name": "stdout",
     "output_type": "stream",
     "text": [
      "A-maj7/C  | A#m7/C#  | A-maj7/C  | Fm7/C\n",
      "Fm/C  | Fm/C  | C7  | Fm/CaddB-\n",
      "Gm/D  | B-7/D  | Fm/C  | Gm7/D\n",
      "E-  | A-7/C  | A-7/C  | A-/CaddA\n",
      "Gm7/D  | C7  | F/C  | F/CaddB-\n",
      "E-  | Gm/D  | Cm  | Cm7\n",
      "C7  | F-+/CaddB-  | F/C  | B-/C\n",
      "B-/D  | E-+  | C7  | Chord Symbol Cannot Be Identified\n",
      "F7/C  | B-/D  | B-/D  | B-/C\n",
      "E-m  | A#m7/C#  | E-m  | Chord Symbol Cannot Be Identified\n",
      "Gm7/D  | C7  | F/C  | B-/C\n",
      "D/o7/C  | E-+addF  | Cm7  | B-/C\n",
      "F9/CaddB  | B-7/D  | Cm7addD-,A-,F  | D-maj7/C\n",
      "A7/C#  | D7/C  | D7/C  | Chord Symbol Cannot Be Identified\n",
      "Fm7/C  | B-7/D  | E-maj7/D  | D/o7/C\n",
      "Am7/C  | E7/D  | E7/D  | CaddD\n",
      "B-7/D  | E-maj7/D  | B-/D  | Cm7\n",
      "B-/D  | A7/C#  | B-/D  | E-addF\n",
      "Gm7/D  | Gm7/D  | Cm7  | B-/C\n",
      "A7/C#  | Dm  | G7/D  | Chord Symbol Cannot Be Identified\n"
     ]
    }
   ],
   "source": [
    "for i in range(20):\n",
    "    predict_chords(loaded_model, X_test[i])"
   ]
  }
 ],
 "metadata": {
  "kernelspec": {
   "display_name": "Python [conda env:tf-gpu-env]",
   "language": "python",
   "name": "conda-env-tf-gpu-env-py"
  },
  "language_info": {
   "codemirror_mode": {
    "name": "ipython",
    "version": 3
   },
   "file_extension": ".py",
   "mimetype": "text/x-python",
   "name": "python",
   "nbconvert_exporter": "python",
   "pygments_lexer": "ipython3",
   "version": "3.7.4"
  },
  "toc": {
   "base_numbering": 1,
   "nav_menu": {},
   "number_sections": true,
   "sideBar": true,
   "skip_h1_title": false,
   "title_cell": "Table of Contents",
   "title_sidebar": "Contents",
   "toc_cell": false,
   "toc_position": {},
   "toc_section_display": true,
   "toc_window_display": false
  }
 },
 "nbformat": 4,
 "nbformat_minor": 4
}
