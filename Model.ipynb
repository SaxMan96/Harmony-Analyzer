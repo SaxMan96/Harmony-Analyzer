{
  "nbformat": 4,
  "nbformat_minor": 0,
  "metadata": {
    "kernelspec": {
      "display_name": "Python [conda env:tf-gpu-env]",
      "language": "python",
      "name": "conda-env-tf-gpu-env-py"
    },
    "language_info": {
      "codemirror_mode": {
        "name": "ipython",
        "version": 3
      },
      "file_extension": ".py",
      "mimetype": "text/x-python",
      "name": "python",
      "nbconvert_exporter": "python",
      "pygments_lexer": "ipython3",
      "version": "3.7.4"
    },
    "toc": {
      "base_numbering": 1,
      "nav_menu": {},
      "number_sections": true,
      "sideBar": true,
      "skip_h1_title": false,
      "title_cell": "Table of Contents",
      "title_sidebar": "Contents",
      "toc_cell": false,
      "toc_position": {},
      "toc_section_display": true,
      "toc_window_display": false
    },
    "colab": {
      "name": "Model.ipynb",
      "provenance": [],
      "toc_visible": true,
      "include_colab_link": true
    },
    "accelerator": "GPU",
    "widgets": {
      "application/vnd.jupyter.widget-state+json": {
        "ff803e5ea87a46f8b7e8bd498afeb980": {
          "model_module": "@jupyter-widgets/controls",
          "model_name": "HBoxModel",
          "state": {
            "_view_name": "HBoxView",
            "_dom_classes": [],
            "_model_name": "HBoxModel",
            "_view_module": "@jupyter-widgets/controls",
            "_model_module_version": "1.5.0",
            "_view_count": null,
            "_view_module_version": "1.5.0",
            "box_style": "",
            "layout": "IPY_MODEL_df27fa01fb7e42fd823b032562b9a86f",
            "_model_module": "@jupyter-widgets/controls",
            "children": [
              "IPY_MODEL_b69902d0b19e49baa971944aca1cd927",
              "IPY_MODEL_915732c5b5b54583afab73d697bb8ab6"
            ]
          }
        },
        "df27fa01fb7e42fd823b032562b9a86f": {
          "model_module": "@jupyter-widgets/base",
          "model_name": "LayoutModel",
          "state": {
            "_view_name": "LayoutView",
            "grid_template_rows": null,
            "right": null,
            "justify_content": null,
            "_view_module": "@jupyter-widgets/base",
            "overflow": null,
            "_model_module_version": "1.2.0",
            "_view_count": null,
            "flex_flow": null,
            "width": null,
            "min_width": null,
            "border": null,
            "align_items": null,
            "bottom": null,
            "_model_module": "@jupyter-widgets/base",
            "top": null,
            "grid_column": null,
            "overflow_y": null,
            "overflow_x": null,
            "grid_auto_flow": null,
            "grid_area": null,
            "grid_template_columns": null,
            "flex": null,
            "_model_name": "LayoutModel",
            "justify_items": null,
            "grid_row": null,
            "max_height": null,
            "align_content": null,
            "visibility": null,
            "align_self": null,
            "height": null,
            "min_height": null,
            "padding": null,
            "grid_auto_rows": null,
            "grid_gap": null,
            "max_width": null,
            "order": null,
            "_view_module_version": "1.2.0",
            "grid_template_areas": null,
            "object_position": null,
            "object_fit": null,
            "grid_auto_columns": null,
            "margin": null,
            "display": null,
            "left": null
          }
        },
        "b69902d0b19e49baa971944aca1cd927": {
          "model_module": "@jupyter-widgets/controls",
          "model_name": "IntProgressModel",
          "state": {
            "_view_name": "ProgressView",
            "style": "IPY_MODEL_cb4a29d231a44104bee798adc8b5a6ca",
            "_dom_classes": [],
            "description": "FastText Encoding",
            "_model_name": "IntProgressModel",
            "bar_style": "success",
            "max": 1243944,
            "_view_module": "@jupyter-widgets/controls",
            "_model_module_version": "1.5.0",
            "value": 1243944,
            "_view_count": null,
            "_view_module_version": "1.5.0",
            "orientation": "horizontal",
            "min": 0,
            "description_tooltip": null,
            "_model_module": "@jupyter-widgets/controls",
            "layout": "IPY_MODEL_99b4e2937d164aff84933e47e8a801c6"
          }
        },
        "915732c5b5b54583afab73d697bb8ab6": {
          "model_module": "@jupyter-widgets/controls",
          "model_name": "HTMLModel",
          "state": {
            "_view_name": "HTMLView",
            "style": "IPY_MODEL_95a4c841792e494fbd729ca3909129a7",
            "_dom_classes": [],
            "description": "",
            "_model_name": "HTMLModel",
            "placeholder": "​",
            "_view_module": "@jupyter-widgets/controls",
            "_model_module_version": "1.5.0",
            "value": "100% 1243944/1243944 [00:30&lt;00:00, 40698.20it/s]",
            "_view_count": null,
            "_view_module_version": "1.5.0",
            "description_tooltip": null,
            "_model_module": "@jupyter-widgets/controls",
            "layout": "IPY_MODEL_55504d26a7ff4c95a9d5c2f3a1980db8"
          }
        },
        "cb4a29d231a44104bee798adc8b5a6ca": {
          "model_module": "@jupyter-widgets/controls",
          "model_name": "ProgressStyleModel",
          "state": {
            "_view_name": "StyleView",
            "_model_name": "ProgressStyleModel",
            "description_width": "initial",
            "_view_module": "@jupyter-widgets/base",
            "_model_module_version": "1.5.0",
            "_view_count": null,
            "_view_module_version": "1.2.0",
            "bar_color": null,
            "_model_module": "@jupyter-widgets/controls"
          }
        },
        "99b4e2937d164aff84933e47e8a801c6": {
          "model_module": "@jupyter-widgets/base",
          "model_name": "LayoutModel",
          "state": {
            "_view_name": "LayoutView",
            "grid_template_rows": null,
            "right": null,
            "justify_content": null,
            "_view_module": "@jupyter-widgets/base",
            "overflow": null,
            "_model_module_version": "1.2.0",
            "_view_count": null,
            "flex_flow": null,
            "width": null,
            "min_width": null,
            "border": null,
            "align_items": null,
            "bottom": null,
            "_model_module": "@jupyter-widgets/base",
            "top": null,
            "grid_column": null,
            "overflow_y": null,
            "overflow_x": null,
            "grid_auto_flow": null,
            "grid_area": null,
            "grid_template_columns": null,
            "flex": null,
            "_model_name": "LayoutModel",
            "justify_items": null,
            "grid_row": null,
            "max_height": null,
            "align_content": null,
            "visibility": null,
            "align_self": null,
            "height": null,
            "min_height": null,
            "padding": null,
            "grid_auto_rows": null,
            "grid_gap": null,
            "max_width": null,
            "order": null,
            "_view_module_version": "1.2.0",
            "grid_template_areas": null,
            "object_position": null,
            "object_fit": null,
            "grid_auto_columns": null,
            "margin": null,
            "display": null,
            "left": null
          }
        },
        "95a4c841792e494fbd729ca3909129a7": {
          "model_module": "@jupyter-widgets/controls",
          "model_name": "DescriptionStyleModel",
          "state": {
            "_view_name": "StyleView",
            "_model_name": "DescriptionStyleModel",
            "description_width": "",
            "_view_module": "@jupyter-widgets/base",
            "_model_module_version": "1.5.0",
            "_view_count": null,
            "_view_module_version": "1.2.0",
            "_model_module": "@jupyter-widgets/controls"
          }
        },
        "55504d26a7ff4c95a9d5c2f3a1980db8": {
          "model_module": "@jupyter-widgets/base",
          "model_name": "LayoutModel",
          "state": {
            "_view_name": "LayoutView",
            "grid_template_rows": null,
            "right": null,
            "justify_content": null,
            "_view_module": "@jupyter-widgets/base",
            "overflow": null,
            "_model_module_version": "1.2.0",
            "_view_count": null,
            "flex_flow": null,
            "width": null,
            "min_width": null,
            "border": null,
            "align_items": null,
            "bottom": null,
            "_model_module": "@jupyter-widgets/base",
            "top": null,
            "grid_column": null,
            "overflow_y": null,
            "overflow_x": null,
            "grid_auto_flow": null,
            "grid_area": null,
            "grid_template_columns": null,
            "flex": null,
            "_model_name": "LayoutModel",
            "justify_items": null,
            "grid_row": null,
            "max_height": null,
            "align_content": null,
            "visibility": null,
            "align_self": null,
            "height": null,
            "min_height": null,
            "padding": null,
            "grid_auto_rows": null,
            "grid_gap": null,
            "max_width": null,
            "order": null,
            "_view_module_version": "1.2.0",
            "grid_template_areas": null,
            "object_position": null,
            "object_fit": null,
            "grid_auto_columns": null,
            "margin": null,
            "display": null,
            "left": null
          }
        }
      }
    }
  },
  "cells": [
    {
      "cell_type": "markdown",
      "metadata": {
        "id": "view-in-github",
        "colab_type": "text"
      },
      "source": [
        "<a href=\"https://colab.research.google.com/github/SaxMan96/Harmony-Analyzer/blob/master/Model.ipynb\" target=\"_parent\"><img src=\"https://colab.research.google.com/assets/colab-badge.svg\" alt=\"Open In Colab\"/></a>"
      ]
    },
    {
      "cell_type": "code",
      "metadata": {
        "id": "bHV5GZFtSiJm",
        "colab_type": "code",
        "colab": {
          "base_uri": "https://localhost:8080/",
          "height": 126
        },
        "outputId": "145f60f8-d898-4bd9-fc5d-04095f8e3603"
      },
      "source": [
        "from google.colab import drive\n",
        "drive.mount('/content/gdrive')"
      ],
      "execution_count": 1,
      "outputs": [
        {
          "output_type": "stream",
          "text": [
            "Go to this URL in a browser: https://accounts.google.com/o/oauth2/auth?client_id=947318989803-6bn6qk8qdgf4n4g3pfee6491hc0brc4i.apps.googleusercontent.com&redirect_uri=urn%3aietf%3awg%3aoauth%3a2.0%3aoob&response_type=code&scope=email%20https%3a%2f%2fwww.googleapis.com%2fauth%2fdocs.test%20https%3a%2f%2fwww.googleapis.com%2fauth%2fdrive%20https%3a%2f%2fwww.googleapis.com%2fauth%2fdrive.photos.readonly%20https%3a%2f%2fwww.googleapis.com%2fauth%2fpeopleapi.readonly\n",
            "\n",
            "Enter your authorization code:\n",
            "··········\n",
            "Mounted at /content/gdrive\n"
          ],
          "name": "stdout"
        }
      ]
    },
    {
      "cell_type": "code",
      "metadata": {
        "id": "VLhySkkPTIkz",
        "colab_type": "code",
        "colab": {
          "base_uri": "https://localhost:8080/",
          "height": 337
        },
        "outputId": "61ece309-1f7b-441a-98d6-19802330328e"
      },
      "source": [
        "!pip install pyRealParser\n",
        "!pip install pychord"
      ],
      "execution_count": 2,
      "outputs": [
        {
          "output_type": "stream",
          "text": [
            "Collecting pyRealParser\n",
            "  Downloading https://files.pythonhosted.org/packages/e7/08/fadfd3ffc69624dd34a05cb33a7e067dc1dad876572375f8478b221079e2/pyRealParser-0.1.0.tar.gz\n",
            "Building wheels for collected packages: pyRealParser\n",
            "  Building wheel for pyRealParser (setup.py) ... \u001b[?25l\u001b[?25hdone\n",
            "  Created wheel for pyRealParser: filename=pyRealParser-0.1.0-cp36-none-any.whl size=6830 sha256=93dd41bdf744d035ff1573abaee38584d11b8fc1a219007804db59888accb4dc\n",
            "  Stored in directory: /root/.cache/pip/wheels/5e/9c/44/4d74ebd89107df4c625c81437cad9aa8ee55afb26e251d90fa\n",
            "Successfully built pyRealParser\n",
            "Installing collected packages: pyRealParser\n",
            "Successfully installed pyRealParser-0.1.0\n",
            "Collecting pychord\n",
            "  Downloading https://files.pythonhosted.org/packages/60/bb/a0ad46070686d28e59b5a55fba7761bdf846a6b2dd59a2e7fffad5ef34d2/pychord-0.4.1.tar.gz\n",
            "Building wheels for collected packages: pychord\n",
            "  Building wheel for pychord (setup.py) ... \u001b[?25l\u001b[?25hdone\n",
            "  Created wheel for pychord: filename=pychord-0.4.1-py2.py3-none-any.whl size=9935 sha256=90ad4d2800589a3850f633fd0c33ad4a7c738374016997c46c2f9ff59fa52c74\n",
            "  Stored in directory: /root/.cache/pip/wheels/40/ea/ad/0233db8ea21a1e66c4ea0ead8f3437199f8e5902faa02834f8\n",
            "Successfully built pychord\n",
            "Installing collected packages: pychord\n",
            "Successfully installed pychord-0.4.1\n"
          ],
          "name": "stdout"
        }
      ]
    },
    {
      "cell_type": "code",
      "metadata": {
        "id": "RvgwiG_fQZkT",
        "colab_type": "code",
        "colab": {
          "base_uri": "https://localhost:8080/",
          "height": 64
        },
        "outputId": "f6579dbc-f191-4ead-a8f6-7fe0687ab0c1"
      },
      "source": [
        "import pandas as pd\n",
        "import numpy as np\n",
        "import ast\n",
        "from collections import Counter, OrderedDict\n",
        "import matplotlib.pyplot as plt\n",
        "from sklearn.model_selection import train_test_split\n",
        "from utilities import *\n",
        "from music21.harmony import chordSymbolFigureFromChord as figureChord\n",
        "from music21.chord import Chord\n",
        "\n",
        "from tensorflow.keras.datasets import imdb\n",
        "from tensorflow.keras.models import Sequential, model_from_json\n",
        "from tensorflow.keras.layers import Dense, LSTM\n",
        "from tensorflow.python.keras.layers.embeddings import Embedding\n",
        "from tensorflow.keras.preprocessing import sequence\n",
        "\n",
        "import warnings\n",
        "\n",
        "warnings.filterwarnings(action=\"once\")"
      ],
      "execution_count": 5,
      "outputs": [
        {
          "output_type": "display_data",
          "data": {
            "text/html": [
              "<p style=\"color: red;\">\n",
              "The default version of TensorFlow in Colab will soon switch to TensorFlow 2.x.<br>\n",
              "We recommend you <a href=\"https://www.tensorflow.org/guide/migrate\" target=\"_blank\">upgrade</a> now \n",
              "or ensure your notebook will continue to use TensorFlow 1.x via the <code>%tensorflow_version 1.x</code> magic:\n",
              "<a href=\"https://colab.research.google.com/notebooks/tensorflow_version.ipynb\" target=\"_blank\">more info</a>.</p>\n"
            ],
            "text/plain": [
              "<IPython.core.display.HTML object>"
            ]
          },
          "metadata": {
            "tags": []
          }
        }
      ]
    },
    {
      "cell_type": "markdown",
      "metadata": {
        "id": "6-x5SrPfQZkX",
        "colab_type": "text"
      },
      "source": [
        "LSTM requirements:\n",
        "\n",
        "- The LSTM input layer must be 3D.\n",
        "- LSTMs don’t like sequences of more than 200-400 time steps, so the data will need to be split into samples.\n",
        "- If you have a long sequence of thousands of observations, you must split it into samples and then reshape it for your LSTM model.\n",
        "- The LSTM needs data with the format of [samples, time steps and features].\n",
        "- The LSTM input layer is defined by the input_shape argument on the first hidden layer.\n",
        "- The input_shape argument takes a tuple of two values that define the number of time steps and features.\n",
        "- The number of samples is assumed to be 1 or more.\n",
        "- The reshape() function on NumPy arrays can be used to reshape your 1D or 2D data to be 3D.\n",
        "- The reshape() function takes a tuple as an argument that defines the new shape.\n"
      ]
    },
    {
      "cell_type": "code",
      "metadata": {
        "id": "Xwt0yC0hQZkY",
        "colab_type": "code",
        "colab": {
          "base_uri": "https://localhost:8080/",
          "height": 232
        },
        "outputId": "c436377d-b9c7-455c-bbb8-e9e4ce6fbbf9"
      },
      "source": [
        "from gensim.models import Word2Vec\n",
        "from gensim.models.fasttext import FastText\n",
        "import utilities as my_utils\n",
        "ft = FastText.load(\"/content/gdrive/My Drive/Google Colab Data/Harmony_Analyzer/embeddings/fastText.model\")\n",
        "songs = my_utils.build_sentences()"
      ],
      "execution_count": 6,
      "outputs": [
        {
          "output_type": "stream",
          "text": [
            "/usr/lib/python3.6/importlib/_bootstrap.py:219: RuntimeWarning: numpy.ufunc size changed, may indicate binary incompatibility. Expected 216, got 192\n",
            "  return f(*args, **kwds)\n",
            "/usr/lib/python3.6/importlib/_bootstrap.py:219: ImportWarning: can't resolve package from __spec__ or __package__, falling back on __name__ and __path__\n",
            "  return f(*args, **kwds)\n",
            "/usr/lib/python3.6/importlib/_bootstrap.py:219: RuntimeWarning: numpy.ufunc size changed, may indicate binary incompatibility. Expected 192 from C header, got 216 from PyObject\n",
            "  return f(*args, **kwds)\n",
            "/usr/local/lib/python3.6/dist-packages/scipy/sparse/sparsetools.py:21: DeprecationWarning: `scipy.sparse.sparsetools` is deprecated!\n",
            "scipy.sparse.sparsetools is a private module for scipy.sparse, and should not be used.\n",
            "  _deprecated()\n",
            "/usr/local/lib/python3.6/dist-packages/smart_open/smart_open_lib.py:402: UserWarning: This function is deprecated, use smart_open.open instead. See the migration notes for details: https://github.com/RaRe-Technologies/smart_open/blob/master/README.rst#migrating-to-the-new-open-function\n",
            "  'See the migration notes for details: %s' % _MIGRATION_NOTES_URL\n"
          ],
          "name": "stderr"
        }
      ]
    },
    {
      "cell_type": "code",
      "metadata": {
        "id": "U3pIvwdkQZkb",
        "colab_type": "code",
        "colab": {
          "base_uri": "https://localhost:8080/",
          "height": 35
        },
        "outputId": "5a77f0c4-bb9d-4e7d-a928-51443c6093de"
      },
      "source": [
        "def prep_data(songs, sample_len = 4):\n",
        "    # Remove too short songs\n",
        "    songs = [chords for chords in songs if len(chords) > sample_len]\n",
        "    x = []\n",
        "    y = []\n",
        "    for chords in songs:\n",
        "        for i in range(len(chords)):\n",
        "            if i < len(chords) - sample_len:\n",
        "                x.append(chords[i: i + sample_len - 1])\n",
        "            else:\n",
        "                x.append(\n",
        "                    chords[i: len(chords) - 1]\n",
        "                    + chords[: (i + sample_len) % len(chords)]\n",
        "                )\n",
        "            y.append(chords[(i + sample_len) % len(chords)])\n",
        "    x = np.array(x)\n",
        "    y = np.array(y)\n",
        "    print(x.shape, y.shape)\n",
        "    return x, y\n",
        "\n",
        "X, y = prep_data(songs)"
      ],
      "execution_count": 7,
      "outputs": [
        {
          "output_type": "stream",
          "text": [
            "(1243944, 3) (1243944,)\n"
          ],
          "name": "stdout"
        }
      ]
    },
    {
      "cell_type": "code",
      "metadata": {
        "id": "_LzOLIm-QZke",
        "colab_type": "code",
        "colab": {
          "base_uri": "https://localhost:8080/",
          "height": 67,
          "referenced_widgets": [
            "ff803e5ea87a46f8b7e8bd498afeb980",
            "df27fa01fb7e42fd823b032562b9a86f",
            "b69902d0b19e49baa971944aca1cd927",
            "915732c5b5b54583afab73d697bb8ab6",
            "cb4a29d231a44104bee798adc8b5a6ca",
            "99b4e2937d164aff84933e47e8a801c6",
            "95a4c841792e494fbd729ca3909129a7",
            "55504d26a7ff4c95a9d5c2f3a1980db8"
          ]
        },
        "outputId": "902a00ce-955b-4560-f5cd-02c7d522c45e"
      },
      "source": [
        "from tqdm import tqdm_notebook as tqdm\n",
        "def encode_chords(X, y, model):\n",
        "    X_embedded = []\n",
        "    y_embedded = []\n",
        "    for X_sample, y_sample in tqdm(zip(X, y), total=X.shape[0], desc=str(model).split(\"(\")[0]+' Encoding'):\n",
        "        X_embedded.append(model.wv[X_sample])\n",
        "        y_embedded.append(model.wv[y_sample])\n",
        "    X_embedded = np.array(X_embedded)\n",
        "    y_embedded = np.array(y_embedded)\n",
        "    return X_embedded, y_embedded\n",
        "\n",
        "X_embedded, y_embedded = encode_chords(X, y, ft)"
      ],
      "execution_count": 8,
      "outputs": [
        {
          "output_type": "display_data",
          "data": {
            "application/vnd.jupyter.widget-view+json": {
              "model_id": "ff803e5ea87a46f8b7e8bd498afeb980",
              "version_minor": 0,
              "version_major": 2
            },
            "text/plain": [
              "HBox(children=(IntProgress(value=0, description='FastText Encoding', max=1243944, style=ProgressStyle(descript…"
            ]
          },
          "metadata": {
            "tags": []
          }
        },
        {
          "output_type": "stream",
          "text": [
            "\n"
          ],
          "name": "stdout"
        }
      ]
    },
    {
      "cell_type": "code",
      "metadata": {
        "id": "RkiuM43VQZki",
        "colab_type": "code",
        "colab": {
          "base_uri": "https://localhost:8080/",
          "height": 212
        },
        "outputId": "713062a4-a6b4-46c1-fb58-c24dcc4ca905"
      },
      "source": [
        "print(y_embedded[0])"
      ],
      "execution_count": 9,
      "outputs": [
        {
          "output_type": "stream",
          "text": [
            "[-2.8218837   2.6679103   1.1131471  -1.3137835  -0.1720473   0.6520036\n",
            "  0.5008011  -1.3545598  -1.2499863   0.53334844  0.4341415  -0.02315862\n",
            "  1.7414213  -0.3618903  -2.1168952   1.6319815  -1.4610413   0.5977253\n",
            " -0.45896897  0.80857223  0.89994234  3.2679656   0.75783396 -2.9877284\n",
            "  0.79341704 -0.14857055 -0.98599106 -0.327897    1.6920537  -0.75195116\n",
            " -0.22168867  0.95694226  1.5130386  -1.2832272   0.33268866  1.0442535\n",
            " -1.9442675  -1.6550491  -0.05510071 -0.47213438  0.30764127 -0.30558968\n",
            " -0.3758615   0.75716263 -1.0502764  -1.1331551   1.2711804  -2.2275395\n",
            "  2.4989285  -2.1432517   0.85097796  0.2423095   1.6097819   1.6056014\n",
            " -1.3808945   1.0785171   0.16974561 -1.024235   -0.44757247  0.03198034\n",
            "  1.1975018   2.1273863   0.23836027 -2.0223749 ]\n"
          ],
          "name": "stdout"
        }
      ]
    },
    {
      "cell_type": "code",
      "metadata": {
        "id": "4od-9RfgQZkk",
        "colab_type": "code",
        "colab": {
          "base_uri": "https://localhost:8080/",
          "height": 70
        },
        "outputId": "c1d7846a-aab1-4fe2-8c21-752e2aabd19b"
      },
      "source": [
        "from sklearn.model_selection import train_test_split\n",
        "X_train, X_test, y_train, y_test = train_test_split(X_embedded, y_embedded, test_size=0.2, random_state=0)\n",
        "X_train, X_val, y_train, y_val = train_test_split(X_train, y_train, test_size=0.25, random_state=0)\n",
        "for name, X_set in zip([\"Train\", \"Test\", \"Valid\"],[X_train, X_test, X_val]):\n",
        "    print(name,\":\\t\", round(X_set.shape[0]/X_embedded.shape[0]*100),\"%\", sep=\"\")"
      ],
      "execution_count": 10,
      "outputs": [
        {
          "output_type": "stream",
          "text": [
            "Train:\t60%\n",
            "Test:\t20%\n",
            "Valid:\t20%\n"
          ],
          "name": "stdout"
        }
      ]
    },
    {
      "cell_type": "markdown",
      "metadata": {
        "id": "d553Z8qUQZkm",
        "colab_type": "text"
      },
      "source": [
        "# Test Model\n",
        "\n",
        "import tensorflow as tf\n",
        "from tensorflow import keras\n",
        "from tensorflow.python.keras import models\n",
        "from tensorflow.python.keras.layers import Dense, Dropout\n",
        "\n",
        "model = keras.Sequential(\n",
        "    [\n",
        "        LSTM(64, input_shape=X_train.shape[1:]),\n",
        "        Dense(y_train.shape[1], activation='sigmoid')\n",
        "    ]\n",
        ")"
      ]
    },
    {
      "cell_type": "code",
      "metadata": {
        "id": "dV-ypRv-bUiM",
        "colab_type": "code",
        "colab": {
          "base_uri": "https://localhost:8080/",
          "height": 35
        },
        "outputId": "a50f1f2e-43a0-4857-8395-7a63c37651bb"
      },
      "source": [
        "import tensorflow as tf; print(tf.__version__)"
      ],
      "execution_count": 26,
      "outputs": [
        {
          "output_type": "stream",
          "text": [
            "1.15.0\n"
          ],
          "name": "stdout"
        }
      ]
    },
    {
      "cell_type": "code",
      "metadata": {
        "id": "CXoFJFCkQZks",
        "colab_type": "code",
        "colab": {}
      },
      "source": [
        "model = Sequential(\n",
        "    [\n",
        "        LSTM(128, activation='relu', return_sequences=True, input_shape=X_train.shape[1:]),\n",
        "        LSTM(128, activation='relu'),\n",
        "        Dense(y_train.shape[1])\n",
        "    ]\n",
        ")"
      ],
      "execution_count": 0,
      "outputs": []
    },
    {
      "cell_type": "code",
      "metadata": {
        "id": "9pW7QblIQZkt",
        "colab_type": "code",
        "colab": {
          "base_uri": "https://localhost:8080/",
          "height": 1000
        },
        "outputId": "b4ef44cd-0d2d-49f5-b868-a6d60746425b"
      },
      "source": [
        "import tensorflow\n",
        "import tensorflow.keras.backend as K\n",
        "from tensorflow.keras.metrics import TruePositives, FalsePositives, TrueNegatives, FalseNegatives, BinaryAccuracy, Precision, Recall, AUC\n",
        "from tensorflow.keras.losses import MeanSquaredError, Huber\n",
        "from tensorflow.keras.optimizers import Adam\n",
        "\n",
        "from tensorflow.keras.callbacks import Callback\n",
        "\n",
        "from sklearn.metrics import roc_auc_score\n",
        "from sklearn.metrics import precision_score\n",
        "from sklearn.metrics import recall_score\n",
        "from sklearn.metrics import f1_score\n",
        "from sklearn.metrics import cohen_kappa_score\n",
        "from sklearn.metrics import confusion_matrix\n",
        "\n",
        "class Metrics(Callback):\n",
        "    def __init__(self, tr_data, val_data):\n",
        "        self.validation_data = val_data    \n",
        "        self.train_data = tr_data    \n",
        "    \n",
        "    def cosine_distance_sum(self, A, B):\n",
        "        return sum([1.0 - np.dot(a, b)/(np.linalg.norm(a)*np.linalg.norm(b)) for a,b in zip(A, B)])\n",
        "\n",
        "    def mean_cos_dist_sum(self, X_vali, y_vali):\n",
        "        y_pred = model.predict(X_vali)\n",
        "        return self.cosine_distance_sum(y_pred, y_vali)/y_vali.shape[0]\n",
        "        \n",
        "    def on_train_begin(self, logs={}):\n",
        "        self.mean_cos_dist = []      \n",
        "        self.val_mean_cos_dist = []       \n",
        "        \n",
        "    def on_epoch_end(self, epoch, logs={}):\n",
        "        score = self.mean_cos_dist_sum(self.train_data[0][:1000], self.train_data[1][:1000])\n",
        "        score_val = self.mean_cos_dist_sum(self.validation_data[0][:1000], self.validation_data[1][:1000])\n",
        "        self.mean_cos_dist.append(score)\n",
        "        self.val_mean_cos_dist.append(score_val)\n",
        "        print('epoch {},\\tloss {:3.4f},\\tval_loss {:3.4f}\\tmean_cos_dist {:3.4f}\\tval_mean_cos_dist {:3.4f}.'.format(\n",
        "            epoch, logs['loss'], logs['val_loss'], score, score_val))\n",
        "        \n",
        "    def on_train_end(self, logs={}):\n",
        "        self.mean_cos_dist = {'mean_cos_dist': self.mean_cos_dist}    \n",
        "        self.val_mean_cos_dist = {'val_mean_cos_dist': self.val_mean_cos_dist}      \n",
        "        \n",
        "    def get_train_data(self):\n",
        "        return self.train_data\n",
        "    \n",
        "    def get_val_data(self):\n",
        "        return self.validation_data\n",
        "    \n",
        "    \n",
        "validation_split = 0.25\n",
        "epochs = 30\n",
        "batch_size = 5000\n",
        "loss = Huber() \n",
        "optimizer = Adam(lr=1e-3)\n",
        "metrics = Metrics((X_train, y_train),\n",
        "                  (X_val, y_val))\n",
        "\n",
        "METRICS_NAMES = [\n",
        "        \"loss\",\n",
        "        \"mean_cos_dist\",\n",
        "    ]\n",
        "model.compile(loss=loss, optimizer=optimizer)\n",
        "print(model.summary())\n",
        "history = model.fit(metrics.get_train_data()[0], \n",
        "                    metrics.get_train_data()[1], \n",
        "                    epochs=epochs, \n",
        "                    batch_size=batch_size, \n",
        "                    validation_data = metrics.get_val_data(),\n",
        "                    callbacks=[metrics], \n",
        "                    verbose=1).history"
      ],
      "execution_count": 23,
      "outputs": [
        {
          "output_type": "stream",
          "text": [
            "Model: \"sequential_1\"\n",
            "_________________________________________________________________\n",
            "Layer (type)                 Output Shape              Param #   \n",
            "=================================================================\n",
            "lstm_2 (LSTM)                (None, 3, 128)            98816     \n",
            "_________________________________________________________________\n",
            "lstm_3 (LSTM)                (None, 128)               131584    \n",
            "_________________________________________________________________\n",
            "dense_1 (Dense)              (None, 64)                8256      \n",
            "=================================================================\n",
            "Total params: 238,656\n",
            "Trainable params: 238,656\n",
            "Non-trainable params: 0\n",
            "_________________________________________________________________\n",
            "None\n",
            "Train on 746366 samples, validate on 248789 samples\n",
            "Epoch 1/30\n",
            "745000/746366 [============================>.] - ETA: 0s - loss: 0.4930epoch 0,\tloss 0.4930,\tval_loss 0.4958\tmean_cos_dist 0.4135\tval_mean_cos_dist 0.4041.\n",
            "746366/746366 [==============================] - 8s 10us/sample - loss: 0.4930 - val_loss: 0.4958\n",
            "Epoch 2/30\n",
            "740000/746366 [============================>.] - ETA: 0s - loss: 0.4922epoch 1,\tloss 0.4922,\tval_loss 0.4957\tmean_cos_dist 0.4123\tval_mean_cos_dist 0.4017.\n",
            "746366/746366 [==============================] - 4s 6us/sample - loss: 0.4922 - val_loss: 0.4957\n",
            "Epoch 3/30\n",
            "735000/746366 [============================>.] - ETA: 0s - loss: 0.4916epoch 2,\tloss 0.4916,\tval_loss 0.4952\tmean_cos_dist 0.4122\tval_mean_cos_dist 0.4028.\n",
            "746366/746366 [==============================] - 5s 6us/sample - loss: 0.4916 - val_loss: 0.4952\n",
            "Epoch 4/30\n",
            "735000/746366 [============================>.] - ETA: 0s - loss: 0.4910epoch 3,\tloss 0.4910,\tval_loss 0.4945\tmean_cos_dist 0.4129\tval_mean_cos_dist 0.4012.\n",
            "746366/746366 [==============================] - 4s 6us/sample - loss: 0.4910 - val_loss: 0.4945\n",
            "Epoch 5/30\n",
            "745000/746366 [============================>.] - ETA: 0s - loss: 0.4905epoch 4,\tloss 0.4905,\tval_loss 0.4945\tmean_cos_dist 0.4104\tval_mean_cos_dist 0.4011.\n",
            "746366/746366 [==============================] - 4s 6us/sample - loss: 0.4905 - val_loss: 0.4945\n",
            "Epoch 6/30\n",
            "745000/746366 [============================>.] - ETA: 0s - loss: 0.4899epoch 5,\tloss 0.4900,\tval_loss 0.4940\tmean_cos_dist 0.4107\tval_mean_cos_dist 0.4018.\n",
            "746366/746366 [==============================] - 4s 6us/sample - loss: 0.4900 - val_loss: 0.4940\n",
            "Epoch 7/30\n",
            "740000/746366 [============================>.] - ETA: 0s - loss: 0.4893epoch 6,\tloss 0.4894,\tval_loss 0.4937\tmean_cos_dist 0.4094\tval_mean_cos_dist 0.4003.\n",
            "746366/746366 [==============================] - 4s 6us/sample - loss: 0.4894 - val_loss: 0.4937\n",
            "Epoch 8/30\n",
            "740000/746366 [============================>.] - ETA: 0s - loss: 0.4889epoch 7,\tloss 0.4889,\tval_loss 0.4937\tmean_cos_dist 0.4094\tval_mean_cos_dist 0.4004.\n",
            "746366/746366 [==============================] - 4s 6us/sample - loss: 0.4889 - val_loss: 0.4937\n",
            "Epoch 9/30\n",
            "735000/746366 [============================>.] - ETA: 0s - loss: 0.4884epoch 8,\tloss 0.4885,\tval_loss 0.4933\tmean_cos_dist 0.4083\tval_mean_cos_dist 0.3986.\n",
            "746366/746366 [==============================] - 4s 6us/sample - loss: 0.4885 - val_loss: 0.4933\n",
            "Epoch 10/30\n",
            "745000/746366 [============================>.] - ETA: 0s - loss: 0.4880epoch 9,\tloss 0.4880,\tval_loss 0.4933\tmean_cos_dist 0.4084\tval_mean_cos_dist 0.3975.\n",
            "746366/746366 [==============================] - 4s 6us/sample - loss: 0.4880 - val_loss: 0.4933\n",
            "Epoch 11/30\n",
            "745000/746366 [============================>.] - ETA: 0s - loss: 0.4875epoch 10,\tloss 0.4875,\tval_loss 0.4928\tmean_cos_dist 0.4072\tval_mean_cos_dist 0.3995.\n",
            "746366/746366 [==============================] - 5s 6us/sample - loss: 0.4875 - val_loss: 0.4928\n",
            "Epoch 12/30\n",
            "745000/746366 [============================>.] - ETA: 0s - loss: 0.4871epoch 11,\tloss 0.4871,\tval_loss 0.4926\tmean_cos_dist 0.4077\tval_mean_cos_dist 0.3973.\n",
            "746366/746366 [==============================] - 4s 6us/sample - loss: 0.4871 - val_loss: 0.4926\n",
            "Epoch 13/30\n",
            "735000/746366 [============================>.] - ETA: 0s - loss: 0.4866epoch 12,\tloss 0.4866,\tval_loss 0.4924\tmean_cos_dist 0.4065\tval_mean_cos_dist 0.3968.\n",
            "746366/746366 [==============================] - 4s 6us/sample - loss: 0.4866 - val_loss: 0.4924\n",
            "Epoch 14/30\n",
            "740000/746366 [============================>.] - ETA: 0s - loss: 0.4862epoch 13,\tloss 0.4862,\tval_loss 0.4923\tmean_cos_dist 0.4065\tval_mean_cos_dist 0.3963.\n",
            "746366/746366 [==============================] - 4s 6us/sample - loss: 0.4862 - val_loss: 0.4923\n",
            "Epoch 15/30\n",
            "745000/746366 [============================>.] - ETA: 0s - loss: 0.4857epoch 14,\tloss 0.4857,\tval_loss 0.4922\tmean_cos_dist 0.4062\tval_mean_cos_dist 0.3967.\n",
            "746366/746366 [==============================] - 5s 6us/sample - loss: 0.4857 - val_loss: 0.4922\n",
            "Epoch 16/30\n",
            "740000/746366 [============================>.] - ETA: 0s - loss: 0.4855epoch 15,\tloss 0.4854,\tval_loss 0.4920\tmean_cos_dist 0.4048\tval_mean_cos_dist 0.3966.\n",
            "746366/746366 [==============================] - 4s 6us/sample - loss: 0.4854 - val_loss: 0.4920\n",
            "Epoch 17/30\n",
            "740000/746366 [============================>.] - ETA: 0s - loss: 0.4850epoch 16,\tloss 0.4850,\tval_loss 0.4918\tmean_cos_dist 0.4044\tval_mean_cos_dist 0.3958.\n",
            "746366/746366 [==============================] - 5s 6us/sample - loss: 0.4850 - val_loss: 0.4918\n",
            "Epoch 18/30\n",
            "745000/746366 [============================>.] - ETA: 0s - loss: 0.4846epoch 17,\tloss 0.4846,\tval_loss 0.4917\tmean_cos_dist 0.4050\tval_mean_cos_dist 0.3956.\n",
            "746366/746366 [==============================] - 4s 6us/sample - loss: 0.4846 - val_loss: 0.4917\n",
            "Epoch 19/30\n",
            "740000/746366 [============================>.] - ETA: 0s - loss: 0.4843epoch 18,\tloss 0.4843,\tval_loss 0.4916\tmean_cos_dist 0.4037\tval_mean_cos_dist 0.3951.\n",
            "746366/746366 [==============================] - 4s 6us/sample - loss: 0.4843 - val_loss: 0.4916\n",
            "Epoch 20/30\n",
            "740000/746366 [============================>.] - ETA: 0s - loss: 0.4839epoch 19,\tloss 0.4839,\tval_loss 0.4915\tmean_cos_dist 0.4041\tval_mean_cos_dist 0.3968.\n",
            "746366/746366 [==============================] - 4s 6us/sample - loss: 0.4839 - val_loss: 0.4915\n",
            "Epoch 21/30\n",
            "745000/746366 [============================>.] - ETA: 0s - loss: 0.4835epoch 20,\tloss 0.4835,\tval_loss 0.4916\tmean_cos_dist 0.4039\tval_mean_cos_dist 0.3955.\n",
            "746366/746366 [==============================] - 5s 6us/sample - loss: 0.4835 - val_loss: 0.4916\n",
            "Epoch 22/30\n",
            "740000/746366 [============================>.] - ETA: 0s - loss: 0.4831epoch 21,\tloss 0.4831,\tval_loss 0.4911\tmean_cos_dist 0.4036\tval_mean_cos_dist 0.3949.\n",
            "746366/746366 [==============================] - 4s 6us/sample - loss: 0.4831 - val_loss: 0.4911\n",
            "Epoch 23/30\n",
            "740000/746366 [============================>.] - ETA: 0s - loss: 0.4829epoch 22,\tloss 0.4828,\tval_loss 0.4911\tmean_cos_dist 0.4023\tval_mean_cos_dist 0.3945.\n",
            "746366/746366 [==============================] - 5s 6us/sample - loss: 0.4828 - val_loss: 0.4911\n",
            "Epoch 24/30\n",
            "745000/746366 [============================>.] - ETA: 0s - loss: 0.4824epoch 23,\tloss 0.4825,\tval_loss 0.4910\tmean_cos_dist 0.4007\tval_mean_cos_dist 0.3944.\n",
            "746366/746366 [==============================] - 5s 6us/sample - loss: 0.4825 - val_loss: 0.4910\n",
            "Epoch 25/30\n",
            "740000/746366 [============================>.] - ETA: 0s - loss: 0.4821epoch 24,\tloss 0.4821,\tval_loss 0.4910\tmean_cos_dist 0.4015\tval_mean_cos_dist 0.3950.\n",
            "746366/746366 [==============================] - 4s 6us/sample - loss: 0.4821 - val_loss: 0.4910\n",
            "Epoch 26/30\n",
            "745000/746366 [============================>.] - ETA: 0s - loss: 0.4818epoch 25,\tloss 0.4818,\tval_loss 0.4908\tmean_cos_dist 0.4017\tval_mean_cos_dist 0.3934.\n",
            "746366/746366 [==============================] - 4s 6us/sample - loss: 0.4818 - val_loss: 0.4908\n",
            "Epoch 27/30\n",
            "740000/746366 [============================>.] - ETA: 0s - loss: 0.4814epoch 26,\tloss 0.4814,\tval_loss 0.4907\tmean_cos_dist 0.4009\tval_mean_cos_dist 0.3934.\n",
            "746366/746366 [==============================] - 5s 6us/sample - loss: 0.4814 - val_loss: 0.4907\n",
            "Epoch 28/30\n",
            "740000/746366 [============================>.] - ETA: 0s - loss: 0.4811epoch 27,\tloss 0.4811,\tval_loss 0.4906\tmean_cos_dist 0.4006\tval_mean_cos_dist 0.3934.\n",
            "746366/746366 [==============================] - 4s 6us/sample - loss: 0.4811 - val_loss: 0.4906\n",
            "Epoch 29/30\n",
            "745000/746366 [============================>.] - ETA: 0s - loss: 0.4808epoch 28,\tloss 0.4808,\tval_loss 0.4907\tmean_cos_dist 0.3988\tval_mean_cos_dist 0.3938.\n",
            "746366/746366 [==============================] - 5s 6us/sample - loss: 0.4808 - val_loss: 0.4907\n",
            "Epoch 30/30\n",
            "745000/746366 [============================>.] - ETA: 0s - loss: 0.4805epoch 29,\tloss 0.4805,\tval_loss 0.4910\tmean_cos_dist 0.4009\tval_mean_cos_dist 0.3931.\n",
            "746366/746366 [==============================] - 4s 6us/sample - loss: 0.4805 - val_loss: 0.4910\n"
          ],
          "name": "stdout"
        }
      ]
    },
    {
      "cell_type": "code",
      "metadata": {
        "id": "NKQFnMIZQZkv",
        "colab_type": "code",
        "colab": {}
      },
      "source": [
        "import matplotlib.pyplot as plt\n",
        "def plot_loss(history, metric_name):\n",
        "    val_loss = history[\"val_\" + metric_name]\n",
        "    plt.plot(val_loss, linewidth=3, label=\"valid\")\n",
        "    loss = history[metric_name]\n",
        "    plt.plot(loss, linewidth=3, label=\"train\")\n",
        "    plt.grid()\n",
        "    plt.legend()\n",
        "    plt.xlabel(\"epoch\")\n",
        "    plt.ylabel(metric_name)\n",
        "    plt.title(metric_name)\n",
        "    plt.show()"
      ],
      "execution_count": 0,
      "outputs": []
    },
    {
      "cell_type": "code",
      "metadata": {
        "id": "lmHm1ArYQZkx",
        "colab_type": "code",
        "colab": {
          "base_uri": "https://localhost:8080/",
          "height": 571
        },
        "outputId": "93204dba-46d2-46d7-cfb0-d278602f88df"
      },
      "source": [
        "history.update(metrics.mean_cos_dist)\n",
        "history.update(metrics.val_mean_cos_dist)\n",
        "for metric_name in METRICS_NAMES:\n",
        "    plot_loss(history, metric_name)"
      ],
      "execution_count": 25,
      "outputs": [
        {
          "output_type": "display_data",
          "data": {
            "image/png": "[encoded data removed]",
            "text/plain": [
              "<Figure size 432x288 with 1 Axes>"
            ]
          },
          "metadata": {
            "tags": [],
            "image/png": {
              "width": 400,
              "height": 277
            }
          }
        },
        {
          "output_type": "display_data",
          "data": {
            "image/png": "[encoded data removed]",
            "text/plain": [
              "<Figure size 432x288 with 1 Axes>"
            ]
          },
          "metadata": {
            "tags": [],
            "image/png": {
              "width": 407,
              "height": 277
            }
          }
        }
      ]
    },
    {
      "cell_type": "code",
      "metadata": {
        "id": "6EU3FNISQZkz",
        "colab_type": "code",
        "colab": {}
      },
      "source": [
        "print(X_train[0][0], ft.wv.most_similar(X_train[0][0].reshape(1,-1))[0], sep=\"\\n\")"
      ],
      "execution_count": 0,
      "outputs": []
    },
    {
      "cell_type": "code",
      "metadata": {
        "id": "GGLUAmgAQZk1",
        "colab_type": "code",
        "colab": {}
      },
      "source": [
        "X_test[0][np.newaxis, :].shape, X_test[0:1].shape"
      ],
      "execution_count": 0,
      "outputs": []
    },
    {
      "cell_type": "code",
      "metadata": {
        "id": "AB9Z76JoQZk2",
        "colab_type": "code",
        "colab": {}
      },
      "source": [
        "y_pred = model.predict(X_val)"
      ],
      "execution_count": 0,
      "outputs": []
    },
    {
      "cell_type": "code",
      "metadata": {
        "id": "RiO6he84QZk4",
        "colab_type": "code",
        "colab": {},
        "outputId": "0746b54b-0c84-462d-f55a-1701e17134b8"
      },
      "source": [
        "y_pred[0]"
      ],
      "execution_count": 0,
      "outputs": [
        {
          "output_type": "execute_result",
          "data": {
            "text/plain": [
              "array([1.1765480e-02, 9.9932218e-01, 1.5053064e-02, 7.3697269e-02,\n",
              "       4.1568816e-02, 1.0145307e-03, 6.9227779e-01, 2.7146310e-02,\n",
              "       5.6087404e-02, 9.8156953e-01, 4.1623086e-02, 1.7766654e-03,\n",
              "       9.5526654e-01, 9.5456839e-05, 2.1044910e-03, 9.9726462e-01,\n",
              "       7.9795456e-01, 9.8848116e-01, 8.7758899e-04, 6.7255825e-02,\n",
              "       5.6697845e-01, 2.6142174e-01, 8.3818436e-03, 1.0466874e-03,\n",
              "       2.1749616e-02, 3.7980625e-01, 3.8614780e-01, 6.4440370e-03,\n",
              "       7.0753086e-01, 4.0321946e-03, 1.1001676e-02, 8.2796770e-01,\n",
              "       6.9072545e-03, 2.1427870e-04, 7.9796612e-03, 2.6754647e-02,\n",
              "       1.3144612e-03, 3.3476949e-04, 1.1012545e-01, 1.6420603e-02,\n",
              "       5.2706182e-01, 1.2637675e-03, 1.8366277e-03, 2.0543215e-01,\n",
              "       3.6429465e-03, 7.7060550e-02, 3.3498409e-01, 9.8288864e-02,\n",
              "       2.8477907e-03, 6.0220957e-03, 7.2938544e-01, 1.6391873e-03,\n",
              "       8.9170790e-01, 4.8121333e-02, 2.4847984e-03, 9.5821273e-01,\n",
              "       3.2187700e-03, 1.6988397e-02, 1.8121332e-02, 6.6918099e-01,\n",
              "       2.9048109e-01, 6.8163490e-01, 3.8376927e-02, 7.6046258e-02],\n",
              "      dtype=float32)"
            ]
          },
          "metadata": {
            "tags": []
          },
          "execution_count": 215
        }
      ]
    },
    {
      "cell_type": "code",
      "metadata": {
        "id": "WakD00fcQZk5",
        "colab_type": "code",
        "colab": {},
        "outputId": "a08a8022-613d-4573-b50d-06e75f537385"
      },
      "source": [
        "for i in range(20):\n",
        "    print(ft.wv.most_similar(y_test[i].reshape(1,-1))[0][0] in [d[0] for d in ft.wv.most_similar(y_pred)][:10], end=\"\\t\")\n",
        "    print(ft.wv.most_similar(x_test_ex[0].reshape(1,-1))[0][0], end=\"\\t\")\n",
        "    print(ft.wv.most_similar(x_test_ex[1].reshape(1,-1))[0][0], end=\"\\t\")\n",
        "    print(ft.wv.most_similar(x_test_ex[2].reshape(1,-1))[0][0], end=\"\\t\")\n",
        "    print(\"(\", ft.wv.most_similar(y_test[i].reshape(1,-1))[0][0], end=\" )\\t\")\n",
        "    print([d[0] for d in ft.wv.most_similar(y_pred)][:10])"
      ],
      "execution_count": 0,
      "outputs": [
        {
          "output_type": "stream",
          "text": [
            "False\tC\tD7\tD7\t( B-7 )\t['Db7', 'Ab-7', 'Gb7', 'Eb7', 'Ab7', 'C-7', 'Bbh7', 'Ab-', 'Bb7', 'Ab^7']\n",
            "False\tC\tD7\tD7\t( B )\t['Db7', 'Ab-7', 'Gb7', 'Eb7', 'Ab7', 'C-7', 'Bbh7', 'Ab-', 'Bb7', 'Ab^7']\n",
            "False\tC\tD7\tD7\t( Eb7sus )\t['Db7', 'Ab-7', 'Gb7', 'Eb7', 'Ab7', 'C-7', 'Bbh7', 'Ab-', 'Bb7', 'Ab^7']\n",
            "True\tC\tD7\tD7\t( Db7 )\t['Db7', 'Ab-7', 'Gb7', 'Eb7', 'Ab7', 'C-7', 'Bbh7', 'Ab-', 'Bb7', 'Ab^7']\n",
            "False\tC\tD7\tD7\t( B7 )\t['Db7', 'Ab-7', 'Gb7', 'Eb7', 'Ab7', 'C-7', 'Bbh7', 'Ab-', 'Bb7', 'Ab^7']\n",
            "False\tC\tD7\tD7\t( F7 )\t['Db7', 'Ab-7', 'Gb7', 'Eb7', 'Ab7', 'C-7', 'Bbh7', 'Ab-', 'Bb7', 'Ab^7']\n",
            "False\tC\tD7\tD7\t( C6 )\t['Db7', 'Ab-7', 'Gb7', 'Eb7', 'Ab7', 'C-7', 'Bbh7', 'Ab-', 'Bb7', 'Ab^7']\n",
            "False\tC\tD7\tD7\t( D7 )\t['Db7', 'Ab-7', 'Gb7', 'Eb7', 'Ab7', 'C-7', 'Bbh7', 'Ab-', 'Bb7', 'Ab^7']\n",
            "False\tC\tD7\tD7\t( Bb^7 )\t['Db7', 'Ab-7', 'Gb7', 'Eb7', 'Ab7', 'C-7', 'Bbh7', 'Ab-', 'Bb7', 'Ab^7']\n",
            "False\tC\tD7\tD7\t( A7 )\t['Db7', 'Ab-7', 'Gb7', 'Eb7', 'Ab7', 'C-7', 'Bbh7', 'Ab-', 'Bb7', 'Ab^7']\n",
            "False\tC\tD7\tD7\t( D7 )\t['Db7', 'Ab-7', 'Gb7', 'Eb7', 'Ab7', 'C-7', 'Bbh7', 'Ab-', 'Bb7', 'Ab^7']\n",
            "False\tC\tD7\tD7\t( E-7 )\t['Db7', 'Ab-7', 'Gb7', 'Eb7', 'Ab7', 'C-7', 'Bbh7', 'Ab-', 'Bb7', 'Ab^7']\n",
            "False\tC\tD7\tD7\t( G7 )\t['Db7', 'Ab-7', 'Gb7', 'Eb7', 'Ab7', 'C-7', 'Bbh7', 'Ab-', 'Bb7', 'Ab^7']\n",
            "False\tC\tD7\tD7\t( A^7 )\t['Db7', 'Ab-7', 'Gb7', 'Eb7', 'Ab7', 'C-7', 'Bbh7', 'Ab-', 'Bb7', 'Ab^7']\n",
            "False\tC\tD7\tD7\t( G )\t['Db7', 'Ab-7', 'Gb7', 'Eb7', 'Ab7', 'C-7', 'Bbh7', 'Ab-', 'Bb7', 'Ab^7']\n",
            "False\tC\tD7\tD7\t( D-7 )\t['Db7', 'Ab-7', 'Gb7', 'Eb7', 'Ab7', 'C-7', 'Bbh7', 'Ab-', 'Bb7', 'Ab^7']\n",
            "True\tC\tD7\tD7\t( C-7 )\t['Db7', 'Ab-7', 'Gb7', 'Eb7', 'Ab7', 'C-7', 'Bbh7', 'Ab-', 'Bb7', 'Ab^7']\n",
            "False\tC\tD7\tD7\t( D7b9 )\t['Db7', 'Ab-7', 'Gb7', 'Eb7', 'Ab7', 'C-7', 'Bbh7', 'Ab-', 'Bb7', 'Ab^7']\n",
            "True\tC\tD7\tD7\t( Bb7 )\t['Db7', 'Ab-7', 'Gb7', 'Eb7', 'Ab7', 'C-7', 'Bbh7', 'Ab-', 'Bb7', 'Ab^7']\n",
            "False\tC\tD7\tD7\t( G )\t['Db7', 'Ab-7', 'Gb7', 'Eb7', 'Ab7', 'C-7', 'Bbh7', 'Ab-', 'Bb7', 'Ab^7']\n"
          ],
          "name": "stdout"
        }
      ]
    },
    {
      "cell_type": "code",
      "metadata": {
        "id": "6IsMy2s0QZk7",
        "colab_type": "code",
        "colab": {},
        "outputId": "8ee2be6d-5829-4900-a664-543e8b4ca8f9"
      },
      "source": [
        "for i in range(20):\n",
        "    predict_chords(loaded_model, X_test[i])"
      ],
      "execution_count": 0,
      "outputs": [
        {
          "output_type": "stream",
          "text": [
            "A-maj7/C  | A#m7/C#  | A-maj7/C  | Fm7/C\n",
            "Fm/C  | Fm/C  | C7  | Fm/CaddB-\n",
            "Gm/D  | B-7/D  | Fm/C  | Gm7/D\n",
            "E-  | A-7/C  | A-7/C  | A-/CaddA\n",
            "Gm7/D  | C7  | F/C  | F/CaddB-\n",
            "E-  | Gm/D  | Cm  | Cm7\n",
            "C7  | F-+/CaddB-  | F/C  | B-/C\n",
            "B-/D  | E-+  | C7  | Chord Symbol Cannot Be Identified\n",
            "F7/C  | B-/D  | B-/D  | B-/C\n",
            "E-m  | A#m7/C#  | E-m  | Chord Symbol Cannot Be Identified\n",
            "Gm7/D  | C7  | F/C  | B-/C\n",
            "D/o7/C  | E-+addF  | Cm7  | B-/C\n",
            "F9/CaddB  | B-7/D  | Cm7addD-,A-,F  | D-maj7/C\n",
            "A7/C#  | D7/C  | D7/C  | Chord Symbol Cannot Be Identified\n",
            "Fm7/C  | B-7/D  | E-maj7/D  | D/o7/C\n",
            "Am7/C  | E7/D  | E7/D  | CaddD\n",
            "B-7/D  | E-maj7/D  | B-/D  | Cm7\n",
            "B-/D  | A7/C#  | B-/D  | E-addF\n",
            "Gm7/D  | Gm7/D  | Cm7  | B-/C\n",
            "A7/C#  | Dm  | G7/D  | Chord Symbol Cannot Be Identified\n"
          ],
          "name": "stdout"
        }
      ]
    }
  ]
}