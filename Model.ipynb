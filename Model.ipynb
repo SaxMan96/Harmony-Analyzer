{
 "cells": [
  {
   "cell_type": "markdown",
   "metadata": {
    "colab_type": "text",
    "id": "view-in-github"
   },
   "source": [
    "<a href=\"https://colab.research.google.com/github/SaxMan96/Harmony-Analyzer/blob/master/Model.ipynb\" target=\"_parent\"><img src=\"https://colab.research.google.com/assets/colab-badge.svg\" alt=\"Open In Colab\"/></a>"
   ]
  },
  {
   "cell_type": "code",
   "execution_count": 1,
   "metadata": {
    "colab": {
     "base_uri": "https://localhost:8080/",
     "height": 126
    },
    "colab_type": "code",
    "id": "bHV5GZFtSiJm",
    "outputId": "145f60f8-d898-4bd9-fc5d-04095f8e3603"
   },
   "outputs": [
    {
     "name": "stdout",
     "output_type": "stream",
     "text": [
      "Go to this URL in a browser: https://accounts.google.com/o/oauth2/auth?client_id=947318989803-6bn6qk8qdgf4n4g3pfee6491hc0brc4i.apps.googleusercontent.com&redirect_uri=urn%3aietf%3awg%3aoauth%3a2.0%3aoob&response_type=code&scope=email%20https%3a%2f%2fwww.googleapis.com%2fauth%2fdocs.test%20https%3a%2f%2fwww.googleapis.com%2fauth%2fdrive%20https%3a%2f%2fwww.googleapis.com%2fauth%2fdrive.photos.readonly%20https%3a%2f%2fwww.googleapis.com%2fauth%2fpeopleapi.readonly\n",
      "\n",
      "Enter your authorization code:\n",
      "··········\n",
      "Mounted at /content/gdrive\n"
     ]
    }
   ],
   "source": [
    "from google.colab import drive\n",
    "drive.mount('/content/gdrive')"
   ]
  },
  {
   "cell_type": "code",
   "execution_count": 2,
   "metadata": {
    "colab": {
     "base_uri": "https://localhost:8080/",
     "height": 337
    },
    "colab_type": "code",
    "id": "VLhySkkPTIkz",
    "outputId": "61ece309-1f7b-441a-98d6-19802330328e"
   },
   "outputs": [
    {
     "name": "stdout",
     "output_type": "stream",
     "text": [
      "Collecting pyRealParser\n",
      "  Downloading https://files.pythonhosted.org/packages/e7/08/fadfd3ffc69624dd34a05cb33a7e067dc1dad876572375f8478b221079e2/pyRealParser-0.1.0.tar.gz\n",
      "Building wheels for collected packages: pyRealParser\n",
      "  Building wheel for pyRealParser (setup.py) ... \u001b[?25l\u001b[?25hdone\n",
      "  Created wheel for pyRealParser: filename=pyRealParser-0.1.0-cp36-none-any.whl size=6830 sha256=93dd41bdf744d035ff1573abaee38584d11b8fc1a219007804db59888accb4dc\n",
      "  Stored in directory: /root/.cache/pip/wheels/5e/9c/44/4d74ebd89107df4c625c81437cad9aa8ee55afb26e251d90fa\n",
      "Successfully built pyRealParser\n",
      "Installing collected packages: pyRealParser\n",
      "Successfully installed pyRealParser-0.1.0\n",
      "Collecting pychord\n",
      "  Downloading https://files.pythonhosted.org/packages/60/bb/a0ad46070686d28e59b5a55fba7761bdf846a6b2dd59a2e7fffad5ef34d2/pychord-0.4.1.tar.gz\n",
      "Building wheels for collected packages: pychord\n",
      "  Building wheel for pychord (setup.py) ... \u001b[?25l\u001b[?25hdone\n",
      "  Created wheel for pychord: filename=pychord-0.4.1-py2.py3-none-any.whl size=9935 sha256=90ad4d2800589a3850f633fd0c33ad4a7c738374016997c46c2f9ff59fa52c74\n",
      "  Stored in directory: /root/.cache/pip/wheels/40/ea/ad/0233db8ea21a1e66c4ea0ead8f3437199f8e5902faa02834f8\n",
      "Successfully built pychord\n",
      "Installing collected packages: pychord\n",
      "Successfully installed pychord-0.4.1\n"
     ]
    }
   ],
   "source": [
    "!pip install pyRealParser\n",
    "!pip install pychord"
   ]
  },
  {
   "cell_type": "code",
   "execution_count": 392,
   "metadata": {
    "colab": {
     "base_uri": "https://localhost:8080/",
     "height": 64
    },
    "colab_type": "code",
    "id": "RvgwiG_fQZkT",
    "outputId": "f6579dbc-f191-4ead-a8f6-7fe0687ab0c1"
   },
   "outputs": [],
   "source": [
    "import pandas as pd\n",
    "import numpy as np\n",
    "import ast\n",
    "from collections import Counter, OrderedDict\n",
    "import matplotlib.pyplot as plt\n",
    "from sklearn.model_selection import train_test_split\n",
    "from utilities import *\n",
    "from music21.harmony import chordSymbolFigureFromChord as figureChord\n",
    "from music21.chord import Chord\n",
    "\n",
    "from tensorflow.keras.datasets import imdb\n",
    "from tensorflow.keras.models import Sequential, model_from_json\n",
    "from tensorflow.keras.layers import Dense, LSTM\n",
    "from tensorflow.python.keras.layers.embeddings import Embedding\n",
    "from tensorflow.keras.preprocessing import sequence\n",
    "\n",
    "import warnings\n",
    "\n",
    "warnings.filterwarnings(action=\"once\")"
   ]
  },
  {
   "cell_type": "markdown",
   "metadata": {
    "colab_type": "text",
    "id": "6-x5SrPfQZkX"
   },
   "source": [
    "LSTM requirements:\n",
    "\n",
    "- The LSTM input layer must be 3D.\n",
    "- LSTMs don’t like sequences of more than 200-400 time steps, so the data will need to be split into samples.\n",
    "- If you have a long sequence of thousands of observations, you must split it into samples and then reshape it for your LSTM model.\n",
    "- The LSTM needs data with the format of [samples, time steps and features].\n",
    "- The LSTM input layer is defined by the input_shape argument on the first hidden layer.\n",
    "- The input_shape argument takes a tuple of two values that define the number of time steps and features.\n",
    "- The number of samples is assumed to be 1 or more.\n",
    "- The reshape() function on NumPy arrays can be used to reshape your 1D or 2D data to be 3D.\n",
    "- The reshape() function takes a tuple as an argument that defines the new shape.\n"
   ]
  },
  {
   "cell_type": "code",
   "execution_count": 393,
   "metadata": {
    "colab": {
     "base_uri": "https://localhost:8080/",
     "height": 232
    },
    "colab_type": "code",
    "id": "Xwt0yC0hQZkY",
    "outputId": "c436377d-b9c7-455c-bbb8-e9e4ce6fbbf9"
   },
   "outputs": [],
   "source": [
    "from gensim.models import Word2Vec\n",
    "from gensim.models.fasttext import FastText\n",
    "import utilities as my_utils\n",
    "# ft = FastText.load(\"/content/gdrive/My Drive/Google Colab Data/Harmony_Analyzer/embeddings/fastText.model\")\n",
    "ft = FastText.load(\"./embeddings/fastText.model\")\n",
    "songs = my_utils.build_sentences()"
   ]
  },
  {
   "cell_type": "code",
   "execution_count": 394,
   "metadata": {
    "colab": {
     "base_uri": "https://localhost:8080/",
     "height": 35
    },
    "colab_type": "code",
    "id": "U3pIvwdkQZkb",
    "outputId": "5a77f0c4-bb9d-4e7d-a928-51443c6093de"
   },
   "outputs": [
    {
     "name": "stdout",
     "output_type": "stream",
     "text": [
      "(1243944, 3) (1243944,)\n"
     ]
    }
   ],
   "source": [
    "def prep_data(songs, sample_len = 4):\n",
    "    # Remove too short songs\n",
    "    songs = [chords for chords in songs if len(chords) > sample_len]\n",
    "    x = []\n",
    "    y = []\n",
    "    for chords in songs:\n",
    "        for i in range(len(chords)):\n",
    "            if i < len(chords) - sample_len:\n",
    "                x.append(chords[i: i + sample_len - 1])\n",
    "            else:\n",
    "                x.append(\n",
    "                    chords[i: len(chords) - 1]\n",
    "                    + chords[: (i + sample_len) % len(chords)]\n",
    "                )\n",
    "            y.append(chords[(i + sample_len) % len(chords)])\n",
    "    x = np.array(x)\n",
    "    y = np.array(y)\n",
    "    print(x.shape, y.shape)\n",
    "    return x, y\n",
    "\n",
    "X, y = prep_data(songs)"
   ]
  },
  {
   "cell_type": "code",
   "execution_count": 395,
   "metadata": {
    "colab": {
     "base_uri": "https://localhost:8080/",
     "height": 67,
     "referenced_widgets": [
      "ff803e5ea87a46f8b7e8bd498afeb980",
      "df27fa01fb7e42fd823b032562b9a86f",
      "b69902d0b19e49baa971944aca1cd927",
      "915732c5b5b54583afab73d697bb8ab6",
      "cb4a29d231a44104bee798adc8b5a6ca",
      "99b4e2937d164aff84933e47e8a801c6",
      "95a4c841792e494fbd729ca3909129a7",
      "55504d26a7ff4c95a9d5c2f3a1980db8"
     ]
    },
    "colab_type": "code",
    "id": "_LzOLIm-QZke",
    "outputId": "902a00ce-955b-4560-f5cd-02c7d522c45e"
   },
   "outputs": [
    {
     "name": "stderr",
     "output_type": "stream",
     "text": [
      "C:\\Users\\Mateusz\\Miniconda3\\envs\\tf-gpu-env\\lib\\site-packages\\tqdm\\__init__.py:27: TqdmDeprecationWarning: This function will be removed in tqdm==5.0.0\n",
      "Please use `tqdm.notebook.tqdm` instead of `tqdm.tqdm_notebook`\n",
      "  TqdmDeprecationWarning)\n"
     ]
    },
    {
     "data": {
      "application/vnd.jupyter.widget-view+json": {
       "model_id": "8adafa74667e444f9b38ee66bdbd156f",
       "version_major": 2,
       "version_minor": 0
      },
      "text/plain": [
       "HBox(children=(IntProgress(value=0, description='FastText Encoding', max=1243944, style=ProgressStyle(descript…"
      ]
     },
     "metadata": {},
     "output_type": "display_data"
    },
    {
     "name": "stdout",
     "output_type": "stream",
     "text": [
      "\n"
     ]
    }
   ],
   "source": [
    "from tqdm import tqdm_notebook as tqdm\n",
    "def encode_chords(X, y, model):\n",
    "    X_embedded = []\n",
    "    y_embedded = []\n",
    "    for X_sample, y_sample in tqdm(zip(X, y), total=X.shape[0], desc=str(model).split(\"(\")[0]+' Encoding'):\n",
    "        X_embedded.append(model.wv[X_sample])\n",
    "        y_embedded.append(model.wv[y_sample])\n",
    "    X_embedded = np.array(X_embedded)\n",
    "    y_embedded = np.array(y_embedded)\n",
    "    return X_embedded, y_embedded\n",
    "\n",
    "X_embedded, y_embedded = encode_chords(X, y, ft)"
   ]
  },
  {
   "cell_type": "code",
   "execution_count": 396,
   "metadata": {
    "colab": {
     "base_uri": "https://localhost:8080/",
     "height": 212
    },
    "colab_type": "code",
    "id": "RkiuM43VQZki",
    "outputId": "713062a4-a6b4-46c1-fb58-c24dcc4ca905"
   },
   "outputs": [
    {
     "name": "stdout",
     "output_type": "stream",
     "text": [
      "[-2.8218837   2.6679103   1.1131471  -1.3137835  -0.1720473   0.6520036\n",
      "  0.5008011  -1.3545598  -1.2499863   0.53334844  0.4341415  -0.02315862\n",
      "  1.7414213  -0.3618903  -2.1168952   1.6319815  -1.4610413   0.5977253\n",
      " -0.45896897  0.80857223  0.89994234  3.2679656   0.75783396 -2.9877284\n",
      "  0.79341704 -0.14857055 -0.98599106 -0.327897    1.6920537  -0.75195116\n",
      " -0.22168867  0.95694226  1.5130386  -1.2832272   0.33268866  1.0442535\n",
      " -1.9442675  -1.6550491  -0.05510071 -0.47213438  0.30764127 -0.30558968\n",
      " -0.3758615   0.75716263 -1.0502764  -1.1331551   1.2711804  -2.2275395\n",
      "  2.4989285  -2.1432517   0.85097796  0.2423095   1.6097819   1.6056014\n",
      " -1.3808945   1.0785171   0.16974561 -1.024235   -0.44757247  0.03198034\n",
      "  1.1975018   2.1273863   0.23836027 -2.0223749 ]\n"
     ]
    }
   ],
   "source": [
    "print(y_embedded[0])"
   ]
  },
  {
   "cell_type": "code",
   "execution_count": 430,
   "metadata": {
    "colab": {
     "base_uri": "https://localhost:8080/",
     "height": 70
    },
    "colab_type": "code",
    "id": "4od-9RfgQZkk",
    "outputId": "c1d7846a-aab1-4fe2-8c21-752e2aabd19b"
   },
   "outputs": [
    {
     "name": "stdout",
     "output_type": "stream",
     "text": [
      "Train:\t60(746366, 3, 64)%\n",
      "Test:\t20(248789, 3, 64)%\n",
      "Valid:\t20(248789, 3, 64)%\n"
     ]
    }
   ],
   "source": [
    "from sklearn.model_selection import train_test_split\n",
    "X_train, X_test, y_train, y_test = train_test_split(X_embedded, y_embedded, test_size=0.2, random_state=0)\n",
    "X_train, X_val, y_train, y_val = train_test_split(X_train, y_train, test_size=0.25, random_state=0)\n",
    "for name, X_set in zip([\"Train\", \"Test\", \"Valid\"],[X_train, X_test, X_val]):\n",
    "    print(name,\":\\t\", round(X_set.shape[0]/X_embedded.shape[0]*100),X_set.shape, \"%\", sep=\"\")"
   ]
  },
  {
   "cell_type": "markdown",
   "metadata": {
    "colab_type": "text",
    "id": "d553Z8qUQZkm"
   },
   "source": [
    "# Test Model\n",
    "\n",
    "import tensorflow as tf\n",
    "from tensorflow import keras\n",
    "from tensorflow.python.keras import models\n",
    "from tensorflow.python.keras.layers import Dense, Dropout\n",
    "\n",
    "model = keras.Sequential(\n",
    "    [\n",
    "        LSTM(64, input_shape=X_train.shape[1:]),\n",
    "        Dense(y_train.shape[1], activation='sigmoid')\n",
    "    ]\n",
    ")"
   ]
  },
  {
   "cell_type": "code",
   "execution_count": 398,
   "metadata": {
    "colab": {
     "base_uri": "https://localhost:8080/",
     "height": 35
    },
    "colab_type": "code",
    "id": "dV-ypRv-bUiM",
    "outputId": "a50f1f2e-43a0-4857-8395-7a63c37651bb"
   },
   "outputs": [
    {
     "name": "stdout",
     "output_type": "stream",
     "text": [
      "2.0.0\n"
     ]
    }
   ],
   "source": [
    "import tensorflow as tf; print(tf.__version__)"
   ]
  },
  {
   "cell_type": "code",
   "execution_count": 429,
   "metadata": {
    "colab": {},
    "colab_type": "code",
    "id": "CXoFJFCkQZks"
   },
   "outputs": [
    {
     "name": "stdout",
     "output_type": "stream",
     "text": [
      "Model: \"sequential_15\"\n",
      "_________________________________________________________________\n",
      "Layer (type)                 Output Shape              Param #   \n",
      "=================================================================\n",
      "lstm_26 (LSTM)               (None, 3, 128)            98816     \n",
      "_________________________________________________________________\n",
      "lstm_27 (LSTM)               (None, 128)               131584    \n",
      "_________________________________________________________________\n",
      "dense_16 (Dense)             (None, 64)                8256      \n",
      "=================================================================\n",
      "Total params: 238,656\n",
      "Trainable params: 238,656\n",
      "Non-trainable params: 0\n",
      "_________________________________________________________________\n",
      "None\n"
     ]
    }
   ],
   "source": [
    "model = Sequential(\n",
    "    [\n",
    "        LSTM(128, activation='relu', return_sequences=True, input_shape=X_train.shape[1:]),\n",
    "        LSTM(128, activation='relu'),\n",
    "        Dense(y_train.shape[1])\n",
    "    ]\n",
    ")\n",
    "print(model.summary())"
   ]
  },
  {
   "cell_type": "code",
   "execution_count": 400,
   "metadata": {
    "colab": {
     "base_uri": "https://localhost:8080/",
     "height": 1000
    },
    "colab_type": "code",
    "collapsed": true,
    "id": "9pW7QblIQZkt",
    "jupyter": {
     "outputs_hidden": true
    },
    "outputId": "b4ef44cd-0d2d-49f5-b868-a6d60746425b"
   },
   "outputs": [
    {
     "name": "stdout",
     "output_type": "stream",
     "text": [
      "Model: \"sequential_14\"\n",
      "_________________________________________________________________\n",
      "Layer (type)                 Output Shape              Param #   \n",
      "=================================================================\n",
      "lstm_24 (LSTM)               (None, 3, 128)            98816     \n",
      "_________________________________________________________________\n",
      "lstm_25 (LSTM)               (None, 128)               131584    \n",
      "_________________________________________________________________\n",
      "dense_15 (Dense)             (None, 64)                8256      \n",
      "=================================================================\n",
      "Total params: 238,656\n",
      "Trainable params: 238,656\n",
      "Non-trainable params: 0\n",
      "_________________________________________________________________\n",
      "None\n",
      "Train on 746366 samples, validate on 248789 samples\n",
      "Epoch 1/30\n",
      "745000/746366 [============================>.] - ETA: 5:25 - loss: 0.714 - ETA: 1:51 - loss: 0.706 - ETA: 1:08 - loss: 0.702 - ETA: 49s - loss: 0.700 - ETA: 39s - loss: 0.69 - ETA: 32s - loss: 0.69 - ETA: 28s - loss: 0.68 - ETA: 24s - loss: 0.67 - ETA: 22s - loss: 0.67 - ETA: 20s - loss: 0.66 - ETA: 18s - loss: 0.66 - ETA: 17s - loss: 0.65 - ETA: 15s - loss: 0.65 - ETA: 14s - loss: 0.64 - ETA: 13s - loss: 0.64 - ETA: 13s - loss: 0.63 - ETA: 12s - loss: 0.63 - ETA: 11s - loss: 0.63 - ETA: 11s - loss: 0.62 - ETA: 10s - loss: 0.62 - ETA: 10s - loss: 0.62 - ETA: 9s - loss: 0.6197 - ETA: 9s - loss: 0.617 - ETA: 8s - loss: 0.614 - ETA: 8s - loss: 0.611 - ETA: 8s - loss: 0.609 - ETA: 7s - loss: 0.607 - ETA: 7s - loss: 0.605 - ETA: 7s - loss: 0.603 - ETA: 7s - loss: 0.601 - ETA: 6s - loss: 0.599 - ETA: 6s - loss: 0.598 - ETA: 6s - loss: 0.596 - ETA: 6s - loss: 0.594 - ETA: 5s - loss: 0.593 - ETA: 5s - loss: 0.592 - ETA: 5s - loss: 0.590 - ETA: 5s - loss: 0.589 - ETA: 5s - loss: 0.588 - ETA: 4s - loss: 0.587 - ETA: 4s - loss: 0.585 - ETA: 4s - loss: 0.584 - ETA: 4s - loss: 0.583 - ETA: 4s - loss: 0.582 - ETA: 3s - loss: 0.581 - ETA: 3s - loss: 0.580 - ETA: 3s - loss: 0.579 - ETA: 3s - loss: 0.578 - ETA: 3s - loss: 0.577 - ETA: 3s - loss: 0.576 - ETA: 3s - loss: 0.575 - ETA: 2s - loss: 0.574 - ETA: 2s - loss: 0.574 - ETA: 2s - loss: 0.573 - ETA: 2s - loss: 0.572 - ETA: 2s - loss: 0.571 - ETA: 2s - loss: 0.571 - ETA: 2s - loss: 0.570 - ETA: 1s - loss: 0.569 - ETA: 1s - loss: 0.568 - ETA: 1s - loss: 0.568 - ETA: 1s - loss: 0.567 - ETA: 1s - loss: 0.566 - ETA: 1s - loss: 0.566 - ETA: 1s - loss: 0.565 - ETA: 1s - loss: 0.565 - ETA: 0s - loss: 0.564 - ETA: 0s - loss: 0.564 - ETA: 0s - loss: 0.563 - ETA: 0s - loss: 0.562 - ETA: 0s - loss: 0.562 - ETA: 0s - loss: 0.561 - ETA: 0s - loss: 0.561 - ETA: 0s - loss: 0.560 - ETA: 0s - loss: 0.5603epoch 0,\tloss 0.5602,\tval_loss 0.5253\tmean_cos_dist 0.4510\tval_mean_cos_dist 0.4377.\n",
      "746366/746366 [==============================] - 10s 14us/sample - loss: 0.5602 - val_loss: 0.5253\n",
      "Epoch 2/30\n",
      "745000/746366 [============================>.] - ETA: 5s - loss: 0.530 - ETA: 5s - loss: 0.524 - ETA: 5s - loss: 0.525 - ETA: 5s - loss: 0.525 - ETA: 5s - loss: 0.524 - ETA: 5s - loss: 0.525 - ETA: 5s - loss: 0.525 - ETA: 5s - loss: 0.524 - ETA: 5s - loss: 0.524 - ETA: 5s - loss: 0.524 - ETA: 5s - loss: 0.524 - ETA: 5s - loss: 0.523 - ETA: 5s - loss: 0.523 - ETA: 4s - loss: 0.523 - ETA: 4s - loss: 0.523 - ETA: 4s - loss: 0.523 - ETA: 4s - loss: 0.523 - ETA: 4s - loss: 0.522 - ETA: 4s - loss: 0.522 - ETA: 4s - loss: 0.522 - ETA: 4s - loss: 0.522 - ETA: 4s - loss: 0.522 - ETA: 4s - loss: 0.522 - ETA: 4s - loss: 0.522 - ETA: 4s - loss: 0.522 - ETA: 4s - loss: 0.522 - ETA: 3s - loss: 0.522 - ETA: 3s - loss: 0.521 - ETA: 3s - loss: 0.521 - ETA: 3s - loss: 0.521 - ETA: 3s - loss: 0.521 - ETA: 3s - loss: 0.521 - ETA: 3s - loss: 0.521 - ETA: 3s - loss: 0.521 - ETA: 3s - loss: 0.521 - ETA: 3s - loss: 0.521 - ETA: 3s - loss: 0.521 - ETA: 3s - loss: 0.520 - ETA: 2s - loss: 0.520 - ETA: 2s - loss: 0.520 - ETA: 2s - loss: 0.520 - ETA: 2s - loss: 0.520 - ETA: 2s - loss: 0.520 - ETA: 2s - loss: 0.520 - ETA: 2s - loss: 0.520 - ETA: 2s - loss: 0.520 - ETA: 2s - loss: 0.520 - ETA: 2s - loss: 0.520 - ETA: 2s - loss: 0.520 - ETA: 2s - loss: 0.520 - ETA: 1s - loss: 0.520 - ETA: 1s - loss: 0.520 - ETA: 1s - loss: 0.520 - ETA: 1s - loss: 0.520 - ETA: 1s - loss: 0.520 - ETA: 1s - loss: 0.520 - ETA: 1s - loss: 0.519 - ETA: 1s - loss: 0.519 - ETA: 1s - loss: 0.519 - ETA: 1s - loss: 0.519 - ETA: 1s - loss: 0.519 - ETA: 1s - loss: 0.519 - ETA: 1s - loss: 0.519 - ETA: 0s - loss: 0.519 - ETA: 0s - loss: 0.519 - ETA: 0s - loss: 0.519 - ETA: 0s - loss: 0.519 - ETA: 0s - loss: 0.519 - ETA: 0s - loss: 0.519 - ETA: 0s - loss: 0.519 - ETA: 0s - loss: 0.519 - ETA: 0s - loss: 0.519 - ETA: 0s - loss: 0.519 - ETA: 0s - loss: 0.518 - ETA: 0s - loss: 0.5189epoch 1,\tloss 0.5188,\tval_loss 0.5148\tmean_cos_dist 0.4407\tval_mean_cos_dist 0.4242.\n",
      "746366/746366 [==============================] - 8s 10us/sample - loss: 0.5188 - val_loss: 0.5148\n",
      "Epoch 3/30\n",
      "740000/746366 [============================>.] - ETA: 5s - loss: 0.516 - ETA: 5s - loss: 0.512 - ETA: 5s - loss: 0.514 - ETA: 5s - loss: 0.514 - ETA: 5s - loss: 0.514 - ETA: 5s - loss: 0.515 - ETA: 5s - loss: 0.515 - ETA: 5s - loss: 0.515 - ETA: 5s - loss: 0.514 - ETA: 5s - loss: 0.514 - ETA: 5s - loss: 0.514 - ETA: 5s - loss: 0.514 - ETA: 5s - loss: 0.514 - ETA: 5s - loss: 0.514 - ETA: 5s - loss: 0.514 - ETA: 4s - loss: 0.514 - ETA: 4s - loss: 0.513 - ETA: 4s - loss: 0.514 - ETA: 4s - loss: 0.514 - ETA: 4s - loss: 0.514 - ETA: 4s - loss: 0.513 - ETA: 4s - loss: 0.513 - ETA: 4s - loss: 0.513 - ETA: 4s - loss: 0.513 - ETA: 4s - loss: 0.513 - ETA: 4s - loss: 0.513 - ETA: 4s - loss: 0.513 - ETA: 4s - loss: 0.513 - ETA: 4s - loss: 0.513 - ETA: 3s - loss: 0.513 - ETA: 3s - loss: 0.513 - ETA: 3s - loss: 0.513 - ETA: 3s - loss: 0.513 - ETA: 3s - loss: 0.513 - ETA: 3s - loss: 0.513 - ETA: 3s - loss: 0.513 - ETA: 3s - loss: 0.513 - ETA: 3s - loss: 0.513 - ETA: 3s - loss: 0.512 - ETA: 3s - loss: 0.512 - ETA: 3s - loss: 0.512 - ETA: 2s - loss: 0.512 - ETA: 2s - loss: 0.512 - ETA: 2s - loss: 0.512 - ETA: 2s - loss: 0.512 - ETA: 2s - loss: 0.512 - ETA: 2s - loss: 0.512 - ETA: 2s - loss: 0.512 - ETA: 2s - loss: 0.512 - ETA: 2s - loss: 0.512 - ETA: 2s - loss: 0.512 - ETA: 2s - loss: 0.512 - ETA: 1s - loss: 0.512 - ETA: 1s - loss: 0.512 - ETA: 1s - loss: 0.512 - ETA: 1s - loss: 0.512 - ETA: 1s - loss: 0.512 - ETA: 1s - loss: 0.512 - ETA: 1s - loss: 0.512 - ETA: 1s - loss: 0.512 - ETA: 1s - loss: 0.512 - ETA: 1s - loss: 0.512 - ETA: 1s - loss: 0.512 - ETA: 1s - loss: 0.512 - ETA: 0s - loss: 0.512 - ETA: 0s - loss: 0.512 - ETA: 0s - loss: 0.511 - ETA: 0s - loss: 0.511 - ETA: 0s - loss: 0.511 - ETA: 0s - loss: 0.511 - ETA: 0s - loss: 0.511 - ETA: 0s - loss: 0.511 - ETA: 0s - loss: 0.511 - ETA: 0s - loss: 0.511 - ETA: 0s - loss: 0.5117epoch 2,\tloss 0.5117,\tval_loss 0.5100\tmean_cos_dist 0.4352\tval_mean_cos_dist 0.4195.\n",
      "746366/746366 [==============================] - 8s 11us/sample - loss: 0.5117 - val_loss: 0.5100\n",
      "Epoch 4/30\n",
      "745000/746366 [============================>.] - ETA: 5s - loss: 0.510 - ETA: 5s - loss: 0.510 - ETA: 5s - loss: 0.510 - ETA: 5s - loss: 0.512 - ETA: 5s - loss: 0.511 - ETA: 5s - loss: 0.510 - ETA: 5s - loss: 0.510 - ETA: 5s - loss: 0.510 - ETA: 5s - loss: 0.510 - ETA: 5s - loss: 0.510 - ETA: 5s - loss: 0.509 - ETA: 5s - loss: 0.509 - ETA: 5s - loss: 0.509 - ETA: 5s - loss: 0.509 - ETA: 5s - loss: 0.509 - ETA: 4s - loss: 0.509 - ETA: 4s - loss: 0.509 - ETA: 4s - loss: 0.509 - ETA: 4s - loss: 0.509 - ETA: 4s - loss: 0.508 - ETA: 4s - loss: 0.508 - ETA: 4s - loss: 0.508 - ETA: 4s - loss: 0.508 - ETA: 4s - loss: 0.509 - ETA: 4s - loss: 0.509 - ETA: 4s - loss: 0.509 - ETA: 4s - loss: 0.509 - ETA: 4s - loss: 0.509 - ETA: 4s - loss: 0.509 - ETA: 3s - loss: 0.509 - ETA: 3s - loss: 0.509 - ETA: 3s - loss: 0.509 - ETA: 3s - loss: 0.508 - ETA: 3s - loss: 0.508 - ETA: 3s - loss: 0.508 - ETA: 3s - loss: 0.508 - ETA: 3s - loss: 0.508 - ETA: 3s - loss: 0.508 - ETA: 3s - loss: 0.508 - ETA: 3s - loss: 0.508 - ETA: 3s - loss: 0.508 - ETA: 2s - loss: 0.508 - ETA: 2s - loss: 0.508 - ETA: 2s - loss: 0.508 - ETA: 2s - loss: 0.508 - ETA: 2s - loss: 0.508 - ETA: 2s - loss: 0.508 - ETA: 2s - loss: 0.508 - ETA: 2s - loss: 0.508 - ETA: 2s - loss: 0.508 - ETA: 2s - loss: 0.508 - ETA: 2s - loss: 0.508 - ETA: 1s - loss: 0.508 - ETA: 1s - loss: 0.508 - ETA: 1s - loss: 0.508 - ETA: 1s - loss: 0.508 - ETA: 1s - loss: 0.508 - ETA: 1s - loss: 0.508 - ETA: 1s - loss: 0.508 - ETA: 1s - loss: 0.507 - ETA: 1s - loss: 0.508 - ETA: 1s - loss: 0.508 - ETA: 1s - loss: 0.508 - ETA: 1s - loss: 0.508 - ETA: 0s - loss: 0.507 - ETA: 0s - loss: 0.507 - ETA: 0s - loss: 0.507 - ETA: 0s - loss: 0.507 - ETA: 0s - loss: 0.507 - ETA: 0s - loss: 0.507 - ETA: 0s - loss: 0.507 - ETA: 0s - loss: 0.507 - ETA: 0s - loss: 0.507 - ETA: 0s - loss: 0.507 - ETA: 0s - loss: 0.507 - ETA: 0s - loss: 0.507 - ETA: 0s - loss: 0.5076epoch 3,\tloss 0.5076,\tval_loss 0.5066\tmean_cos_dist 0.4307\tval_mean_cos_dist 0.4161.\n",
      "746366/746366 [==============================] - 8s 10us/sample - loss: 0.5076 - val_loss: 0.5066\n",
      "Epoch 5/30\n",
      "745000/746366 [============================>.] - ETA: 5s - loss: 0.499 - ETA: 5s - loss: 0.504 - ETA: 5s - loss: 0.503 - ETA: 5s - loss: 0.504 - ETA: 5s - loss: 0.504 - ETA: 5s - loss: 0.504 - ETA: 5s - loss: 0.505 - ETA: 5s - loss: 0.504 - ETA: 5s - loss: 0.504 - ETA: 5s - loss: 0.504 - ETA: 5s - loss: 0.504 - ETA: 5s - loss: 0.504 - ETA: 5s - loss: 0.504 - ETA: 4s - loss: 0.504 - ETA: 4s - loss: 0.505 - ETA: 4s - loss: 0.504 - ETA: 4s - loss: 0.504 - ETA: 4s - loss: 0.504 - ETA: 4s - loss: 0.504 - ETA: 4s - loss: 0.505 - ETA: 4s - loss: 0.504 - ETA: 4s - loss: 0.504 - ETA: 4s - loss: 0.505 - ETA: 4s - loss: 0.505 - ETA: 4s - loss: 0.505 - ETA: 3s - loss: 0.505 - ETA: 3s - loss: 0.505 - ETA: 3s - loss: 0.504 - ETA: 3s - loss: 0.504 - ETA: 3s - loss: 0.505 - ETA: 3s - loss: 0.505 - ETA: 3s - loss: 0.504 - ETA: 3s - loss: 0.505 - ETA: 3s - loss: 0.505 - ETA: 3s - loss: 0.505 - ETA: 3s - loss: 0.505 - ETA: 3s - loss: 0.505 - ETA: 3s - loss: 0.505 - ETA: 2s - loss: 0.505 - ETA: 2s - loss: 0.505 - ETA: 2s - loss: 0.505 - ETA: 2s - loss: 0.505 - ETA: 2s - loss: 0.505 - ETA: 2s - loss: 0.505 - ETA: 2s - loss: 0.505 - ETA: 2s - loss: 0.505 - ETA: 2s - loss: 0.505 - ETA: 2s - loss: 0.505 - ETA: 2s - loss: 0.505 - ETA: 2s - loss: 0.505 - ETA: 1s - loss: 0.505 - ETA: 1s - loss: 0.505 - ETA: 1s - loss: 0.504 - ETA: 1s - loss: 0.504 - ETA: 1s - loss: 0.504 - ETA: 1s - loss: 0.504 - ETA: 1s - loss: 0.504 - ETA: 1s - loss: 0.504 - ETA: 1s - loss: 0.504 - ETA: 1s - loss: 0.504 - ETA: 1s - loss: 0.504 - ETA: 1s - loss: 0.504 - ETA: 1s - loss: 0.504 - ETA: 0s - loss: 0.504 - ETA: 0s - loss: 0.504 - ETA: 0s - loss: 0.504 - ETA: 0s - loss: 0.504 - ETA: 0s - loss: 0.504 - ETA: 0s - loss: 0.504 - ETA: 0s - loss: 0.504 - ETA: 0s - loss: 0.504 - ETA: 0s - loss: 0.504 - ETA: 0s - loss: 0.504 - ETA: 0s - loss: 0.504 - ETA: 0s - loss: 0.5047epoch 4,\tloss 0.5047,\tval_loss 0.5046\tmean_cos_dist 0.4289\tval_mean_cos_dist 0.4140.\n",
      "746366/746366 [==============================] - 8s 10us/sample - loss: 0.5047 - val_loss: 0.5046\n",
      "Epoch 6/30\n",
      "745000/746366 [============================>.] - ETA: 5s - loss: 0.503 - ETA: 5s - loss: 0.503 - ETA: 5s - loss: 0.503 - ETA: 5s - loss: 0.503 - ETA: 5s - loss: 0.503 - ETA: 5s - loss: 0.503 - ETA: 5s - loss: 0.503 - ETA: 5s - loss: 0.502 - ETA: 5s - loss: 0.502 - ETA: 5s - loss: 0.502 - ETA: 5s - loss: 0.502 - ETA: 5s - loss: 0.502 - ETA: 5s - loss: 0.502 - ETA: 4s - loss: 0.503 - ETA: 4s - loss: 0.503 - ETA: 4s - loss: 0.503 - ETA: 4s - loss: 0.503 - ETA: 4s - loss: 0.502 - ETA: 4s - loss: 0.502 - ETA: 4s - loss: 0.502 - ETA: 4s - loss: 0.502 - ETA: 4s - loss: 0.502 - ETA: 4s - loss: 0.502 - ETA: 4s - loss: 0.502 - ETA: 4s - loss: 0.502 - ETA: 3s - loss: 0.502 - ETA: 3s - loss: 0.502 - ETA: 3s - loss: 0.502 - ETA: 3s - loss: 0.502 - ETA: 3s - loss: 0.502 - ETA: 3s - loss: 0.502 - ETA: 3s - loss: 0.502 - ETA: 3s - loss: 0.502 - ETA: 3s - loss: 0.502 - ETA: 3s - loss: 0.502 - ETA: 3s - loss: 0.502 - ETA: 3s - loss: 0.502 - ETA: 3s - loss: 0.502 - ETA: 2s - loss: 0.502 - ETA: 2s - loss: 0.502 - ETA: 2s - loss: 0.502 - ETA: 2s - loss: 0.502 - ETA: 2s - loss: 0.502 - ETA: 2s - loss: 0.502 - ETA: 2s - loss: 0.502 - ETA: 2s - loss: 0.502 - ETA: 2s - loss: 0.503 - ETA: 2s - loss: 0.502 - ETA: 2s - loss: 0.502 - ETA: 2s - loss: 0.502 - ETA: 1s - loss: 0.502 - ETA: 1s - loss: 0.502 - ETA: 1s - loss: 0.502 - ETA: 1s - loss: 0.502 - ETA: 1s - loss: 0.502 - ETA: 1s - loss: 0.502 - ETA: 1s - loss: 0.502 - ETA: 1s - loss: 0.502 - ETA: 1s - loss: 0.502 - ETA: 1s - loss: 0.502 - ETA: 1s - loss: 0.502 - ETA: 1s - loss: 0.502 - ETA: 0s - loss: 0.502 - ETA: 0s - loss: 0.502 - ETA: 0s - loss: 0.502 - ETA: 0s - loss: 0.502 - ETA: 0s - loss: 0.502 - ETA: 0s - loss: 0.502 - ETA: 0s - loss: 0.502 - ETA: 0s - loss: 0.502 - ETA: 0s - loss: 0.502 - ETA: 0s - loss: 0.502 - ETA: 0s - loss: 0.502 - ETA: 0s - loss: 0.502 - ETA: 0s - loss: 0.5025epoch 5,\tloss 0.5025,\tval_loss 0.5032\tmean_cos_dist 0.4272\tval_mean_cos_dist 0.4123.\n",
      "746366/746366 [==============================] - 8s 10us/sample - loss: 0.5025 - val_loss: 0.5032\n",
      "Epoch 7/30\n",
      "745000/746366 [============================>.] - ETA: 5s - loss: 0.502 - ETA: 5s - loss: 0.502 - ETA: 5s - loss: 0.501 - ETA: 5s - loss: 0.501 - ETA: 5s - loss: 0.500 - ETA: 5s - loss: 0.500 - ETA: 5s - loss: 0.500 - ETA: 5s - loss: 0.501 - ETA: 5s - loss: 0.501 - ETA: 5s - loss: 0.501 - ETA: 5s - loss: 0.501 - ETA: 5s - loss: 0.502 - ETA: 5s - loss: 0.502 - ETA: 4s - loss: 0.501 - ETA: 4s - loss: 0.501 - ETA: 4s - loss: 0.501 - ETA: 4s - loss: 0.501 - ETA: 4s - loss: 0.501 - ETA: 4s - loss: 0.501 - ETA: 4s - loss: 0.501 - ETA: 4s - loss: 0.501 - ETA: 4s - loss: 0.501 - ETA: 4s - loss: 0.501 - ETA: 4s - loss: 0.501 - ETA: 4s - loss: 0.501 - ETA: 4s - loss: 0.501 - ETA: 3s - loss: 0.501 - ETA: 3s - loss: 0.501 - ETA: 3s - loss: 0.501 - ETA: 3s - loss: 0.501 - ETA: 3s - loss: 0.501 - ETA: 3s - loss: 0.501 - ETA: 3s - loss: 0.501 - ETA: 3s - loss: 0.501 - ETA: 3s - loss: 0.501 - ETA: 3s - loss: 0.501 - ETA: 3s - loss: 0.501 - ETA: 3s - loss: 0.501 - ETA: 2s - loss: 0.501 - ETA: 2s - loss: 0.501 - ETA: 2s - loss: 0.501 - ETA: 2s - loss: 0.501 - ETA: 2s - loss: 0.501 - ETA: 2s - loss: 0.501 - ETA: 2s - loss: 0.501 - ETA: 2s - loss: 0.501 - ETA: 2s - loss: 0.501 - ETA: 2s - loss: 0.501 - ETA: 2s - loss: 0.501 - ETA: 2s - loss: 0.501 - ETA: 1s - loss: 0.501 - ETA: 1s - loss: 0.501 - ETA: 1s - loss: 0.501 - ETA: 1s - loss: 0.501 - ETA: 1s - loss: 0.500 - ETA: 1s - loss: 0.500 - ETA: 1s - loss: 0.500 - ETA: 1s - loss: 0.500 - ETA: 1s - loss: 0.500 - ETA: 1s - loss: 0.500 - ETA: 1s - loss: 0.500 - ETA: 1s - loss: 0.500 - ETA: 1s - loss: 0.500 - ETA: 0s - loss: 0.500 - ETA: 0s - loss: 0.501 - ETA: 0s - loss: 0.500 - ETA: 0s - loss: 0.501 - ETA: 0s - loss: 0.501 - ETA: 0s - loss: 0.501 - ETA: 0s - loss: 0.501 - ETA: 0s - loss: 0.500 - ETA: 0s - loss: 0.500 - ETA: 0s - loss: 0.500 - ETA: 0s - loss: 0.500 - ETA: 0s - loss: 0.5009epoch 6,\tloss 0.5009,\tval_loss 0.5016\tmean_cos_dist 0.4250\tval_mean_cos_dist 0.4106.\n",
      "746366/746366 [==============================] - 8s 10us/sample - loss: 0.5009 - val_loss: 0.5016\n",
      "Epoch 8/30\n",
      "740000/746366 [============================>.] - ETA: 6s - loss: 0.501 - ETA: 5s - loss: 0.500 - ETA: 5s - loss: 0.499 - ETA: 5s - loss: 0.499 - ETA: 5s - loss: 0.499 - ETA: 5s - loss: 0.499 - ETA: 5s - loss: 0.499 - ETA: 5s - loss: 0.500 - ETA: 5s - loss: 0.500 - ETA: 5s - loss: 0.499 - ETA: 5s - loss: 0.499 - ETA: 5s - loss: 0.500 - ETA: 5s - loss: 0.499 - ETA: 5s - loss: 0.499 - ETA: 5s - loss: 0.499 - ETA: 4s - loss: 0.499 - ETA: 4s - loss: 0.499 - ETA: 4s - loss: 0.499 - ETA: 4s - loss: 0.499 - ETA: 4s - loss: 0.499 - ETA: 4s - loss: 0.499 - ETA: 4s - loss: 0.499 - ETA: 4s - loss: 0.499 - ETA: 4s - loss: 0.499 - ETA: 4s - loss: 0.499 - ETA: 4s - loss: 0.499 - ETA: 4s - loss: 0.499 - ETA: 4s - loss: 0.499 - ETA: 3s - loss: 0.499 - ETA: 3s - loss: 0.499 - ETA: 3s - loss: 0.499 - ETA: 3s - loss: 0.499 - ETA: 3s - loss: 0.499 - ETA: 3s - loss: 0.499 - ETA: 3s - loss: 0.499 - ETA: 3s - loss: 0.499 - ETA: 3s - loss: 0.499 - ETA: 3s - loss: 0.499 - ETA: 3s - loss: 0.499 - ETA: 2s - loss: 0.499 - ETA: 2s - loss: 0.499 - ETA: 2s - loss: 0.499 - ETA: 2s - loss: 0.499 - ETA: 2s - loss: 0.499 - ETA: 2s - loss: 0.499 - ETA: 2s - loss: 0.499 - ETA: 2s - loss: 0.499 - ETA: 2s - loss: 0.499 - ETA: 2s - loss: 0.499 - ETA: 2s - loss: 0.499 - ETA: 2s - loss: 0.499 - ETA: 2s - loss: 0.499 - ETA: 1s - loss: 0.499 - ETA: 1s - loss: 0.499 - ETA: 1s - loss: 0.499 - ETA: 1s - loss: 0.499 - ETA: 1s - loss: 0.499 - ETA: 1s - loss: 0.499 - ETA: 1s - loss: 0.499 - ETA: 1s - loss: 0.499 - ETA: 1s - loss: 0.499 - ETA: 1s - loss: 0.499 - ETA: 1s - loss: 0.499 - ETA: 0s - loss: 0.499 - ETA: 0s - loss: 0.499 - ETA: 0s - loss: 0.499 - ETA: 0s - loss: 0.499 - ETA: 0s - loss: 0.499 - ETA: 0s - loss: 0.499 - ETA: 0s - loss: 0.499 - ETA: 0s - loss: 0.499 - ETA: 0s - loss: 0.499 - ETA: 0s - loss: 0.499 - ETA: 0s - loss: 0.499 - ETA: 0s - loss: 0.4994epoch 7,\tloss 0.4993,\tval_loss 0.5001\tmean_cos_dist 0.4233\tval_mean_cos_dist 0.4082.\n",
      "746366/746366 [==============================] - 8s 11us/sample - loss: 0.4993 - val_loss: 0.5001\n",
      "Epoch 9/30\n",
      "745000/746366 [============================>.] - ETA: 5s - loss: 0.497 - ETA: 5s - loss: 0.499 - ETA: 5s - loss: 0.499 - ETA: 5s - loss: 0.498 - ETA: 5s - loss: 0.498 - ETA: 5s - loss: 0.499 - ETA: 5s - loss: 0.499 - ETA: 5s - loss: 0.499 - ETA: 5s - loss: 0.499 - ETA: 5s - loss: 0.498 - ETA: 5s - loss: 0.498 - ETA: 5s - loss: 0.498 - ETA: 5s - loss: 0.498 - ETA: 5s - loss: 0.498 - ETA: 5s - loss: 0.498 - ETA: 4s - loss: 0.498 - ETA: 4s - loss: 0.498 - ETA: 4s - loss: 0.498 - ETA: 4s - loss: 0.498 - ETA: 4s - loss: 0.498 - ETA: 4s - loss: 0.498 - ETA: 4s - loss: 0.498 - ETA: 4s - loss: 0.498 - ETA: 4s - loss: 0.498 - ETA: 4s - loss: 0.498 - ETA: 4s - loss: 0.498 - ETA: 4s - loss: 0.498 - ETA: 3s - loss: 0.498 - ETA: 3s - loss: 0.498 - ETA: 3s - loss: 0.498 - ETA: 3s - loss: 0.498 - ETA: 3s - loss: 0.498 - ETA: 3s - loss: 0.498 - ETA: 3s - loss: 0.498 - ETA: 3s - loss: 0.498 - ETA: 3s - loss: 0.498 - ETA: 3s - loss: 0.498 - ETA: 3s - loss: 0.498 - ETA: 3s - loss: 0.498 - ETA: 3s - loss: 0.498 - ETA: 2s - loss: 0.498 - ETA: 2s - loss: 0.498 - ETA: 2s - loss: 0.498 - ETA: 2s - loss: 0.498 - ETA: 2s - loss: 0.498 - ETA: 2s - loss: 0.498 - ETA: 2s - loss: 0.498 - ETA: 2s - loss: 0.498 - ETA: 2s - loss: 0.498 - ETA: 2s - loss: 0.498 - ETA: 2s - loss: 0.498 - ETA: 2s - loss: 0.498 - ETA: 1s - loss: 0.498 - ETA: 1s - loss: 0.498 - ETA: 1s - loss: 0.498 - ETA: 1s - loss: 0.498 - ETA: 1s - loss: 0.498 - ETA: 1s - loss: 0.498 - ETA: 1s - loss: 0.498 - ETA: 1s - loss: 0.498 - ETA: 1s - loss: 0.498 - ETA: 1s - loss: 0.498 - ETA: 1s - loss: 0.498 - ETA: 1s - loss: 0.498 - ETA: 0s - loss: 0.498 - ETA: 0s - loss: 0.498 - ETA: 0s - loss: 0.498 - ETA: 0s - loss: 0.498 - ETA: 0s - loss: 0.498 - ETA: 0s - loss: 0.498 - ETA: 0s - loss: 0.498 - ETA: 0s - loss: 0.498 - ETA: 0s - loss: 0.498 - ETA: 0s - loss: 0.498 - ETA: 0s - loss: 0.498 - ETA: 0s - loss: 0.4981epoch 8,\tloss 0.4981,\tval_loss 0.4993\tmean_cos_dist 0.4226\tval_mean_cos_dist 0.4076.\n",
      "746366/746366 [==============================] - 8s 11us/sample - loss: 0.4981 - val_loss: 0.4993\n",
      "Epoch 10/30\n",
      "740000/746366 [============================>.] - ETA: 5s - loss: 0.494 - ETA: 5s - loss: 0.498 - ETA: 5s - loss: 0.496 - ETA: 5s - loss: 0.496 - ETA: 5s - loss: 0.496 - ETA: 5s - loss: 0.496 - ETA: 5s - loss: 0.497 - ETA: 5s - loss: 0.497 - ETA: 5s - loss: 0.497 - ETA: 5s - loss: 0.497 - ETA: 5s - loss: 0.498 - ETA: 5s - loss: 0.497 - ETA: 5s - loss: 0.498 - ETA: 5s - loss: 0.497 - ETA: 4s - loss: 0.497 - ETA: 4s - loss: 0.497 - ETA: 4s - loss: 0.498 - ETA: 4s - loss: 0.497 - ETA: 4s - loss: 0.497 - ETA: 4s - loss: 0.497 - ETA: 4s - loss: 0.497 - ETA: 4s - loss: 0.497 - ETA: 4s - loss: 0.497 - ETA: 4s - loss: 0.497 - ETA: 4s - loss: 0.497 - ETA: 4s - loss: 0.497 - ETA: 3s - loss: 0.497 - ETA: 3s - loss: 0.497 - ETA: 3s - loss: 0.497 - ETA: 3s - loss: 0.497 - ETA: 3s - loss: 0.497 - ETA: 3s - loss: 0.497 - ETA: 3s - loss: 0.497 - ETA: 3s - loss: 0.497 - ETA: 3s - loss: 0.497 - ETA: 3s - loss: 0.497 - ETA: 3s - loss: 0.497 - ETA: 3s - loss: 0.497 - ETA: 2s - loss: 0.497 - ETA: 2s - loss: 0.497 - ETA: 2s - loss: 0.497 - ETA: 2s - loss: 0.497 - ETA: 2s - loss: 0.497 - ETA: 2s - loss: 0.497 - ETA: 2s - loss: 0.497 - ETA: 2s - loss: 0.497 - ETA: 2s - loss: 0.497 - ETA: 2s - loss: 0.497 - ETA: 2s - loss: 0.497 - ETA: 2s - loss: 0.497 - ETA: 2s - loss: 0.496 - ETA: 1s - loss: 0.497 - ETA: 1s - loss: 0.497 - ETA: 1s - loss: 0.497 - ETA: 1s - loss: 0.496 - ETA: 1s - loss: 0.496 - ETA: 1s - loss: 0.497 - ETA: 1s - loss: 0.497 - ETA: 1s - loss: 0.497 - ETA: 1s - loss: 0.497 - ETA: 1s - loss: 0.497 - ETA: 1s - loss: 0.497 - ETA: 1s - loss: 0.497 - ETA: 0s - loss: 0.497 - ETA: 0s - loss: 0.497 - ETA: 0s - loss: 0.497 - ETA: 0s - loss: 0.497 - ETA: 0s - loss: 0.497 - ETA: 0s - loss: 0.497 - ETA: 0s - loss: 0.497 - ETA: 0s - loss: 0.497 - ETA: 0s - loss: 0.497 - ETA: 0s - loss: 0.497 - ETA: 0s - loss: 0.497 - ETA: 0s - loss: 0.4969epoch 9,\tloss 0.4969,\tval_loss 0.4985\tmean_cos_dist 0.4202\tval_mean_cos_dist 0.4074.\n",
      "746366/746366 [==============================] - 8s 10us/sample - loss: 0.4969 - val_loss: 0.4985\n",
      "Epoch 11/30\n",
      "745000/746366 [============================>.] - ETA: 6s - loss: 0.495 - ETA: 6s - loss: 0.497 - ETA: 5s - loss: 0.498 - ETA: 5s - loss: 0.497 - ETA: 5s - loss: 0.497 - ETA: 5s - loss: 0.497 - ETA: 5s - loss: 0.497 - ETA: 5s - loss: 0.497 - ETA: 5s - loss: 0.497 - ETA: 5s - loss: 0.497 - ETA: 5s - loss: 0.497 - ETA: 5s - loss: 0.497 - ETA: 5s - loss: 0.496 - ETA: 5s - loss: 0.496 - ETA: 5s - loss: 0.496 - ETA: 4s - loss: 0.496 - ETA: 4s - loss: 0.496 - ETA: 4s - loss: 0.496 - ETA: 4s - loss: 0.496 - ETA: 4s - loss: 0.496 - ETA: 4s - loss: 0.496 - ETA: 4s - loss: 0.496 - ETA: 4s - loss: 0.496 - ETA: 4s - loss: 0.496 - ETA: 4s - loss: 0.496 - ETA: 4s - loss: 0.496 - ETA: 4s - loss: 0.496 - ETA: 3s - loss: 0.496 - ETA: 3s - loss: 0.496 - ETA: 3s - loss: 0.496 - ETA: 3s - loss: 0.496 - ETA: 3s - loss: 0.496 - ETA: 3s - loss: 0.496 - ETA: 3s - loss: 0.496 - ETA: 3s - loss: 0.496 - ETA: 3s - loss: 0.496 - ETA: 3s - loss: 0.496 - ETA: 3s - loss: 0.496 - ETA: 3s - loss: 0.496 - ETA: 2s - loss: 0.496 - ETA: 2s - loss: 0.496 - ETA: 2s - loss: 0.495 - ETA: 2s - loss: 0.496 - ETA: 2s - loss: 0.496 - ETA: 2s - loss: 0.496 - ETA: 2s - loss: 0.496 - ETA: 2s - loss: 0.496 - ETA: 2s - loss: 0.496 - ETA: 2s - loss: 0.496 - ETA: 2s - loss: 0.496 - ETA: 2s - loss: 0.496 - ETA: 1s - loss: 0.496 - ETA: 1s - loss: 0.496 - ETA: 1s - loss: 0.496 - ETA: 1s - loss: 0.496 - ETA: 1s - loss: 0.496 - ETA: 1s - loss: 0.496 - ETA: 1s - loss: 0.496 - ETA: 1s - loss: 0.496 - ETA: 1s - loss: 0.496 - ETA: 1s - loss: 0.496 - ETA: 1s - loss: 0.496 - ETA: 1s - loss: 0.496 - ETA: 0s - loss: 0.496 - ETA: 0s - loss: 0.496 - ETA: 0s - loss: 0.496 - ETA: 0s - loss: 0.496 - ETA: 0s - loss: 0.495 - ETA: 0s - loss: 0.496 - ETA: 0s - loss: 0.496 - ETA: 0s - loss: 0.496 - ETA: 0s - loss: 0.495 - ETA: 0s - loss: 0.495 - ETA: 0s - loss: 0.495 - ETA: 0s - loss: 0.4959epoch 10,\tloss 0.4959,\tval_loss 0.4978\tmean_cos_dist 0.4196\tval_mean_cos_dist 0.4057.\n",
      "746366/746366 [==============================] - 8s 11us/sample - loss: 0.4959 - val_loss: 0.4978\n",
      "Epoch 12/30\n",
      "745000/746366 [============================>.] - ETA: 5s - loss: 0.497 - ETA: 6s - loss: 0.493 - ETA: 5s - loss: 0.492 - ETA: 5s - loss: 0.494 - ETA: 5s - loss: 0.494 - ETA: 5s - loss: 0.494 - ETA: 5s - loss: 0.495 - ETA: 5s - loss: 0.494 - ETA: 5s - loss: 0.494 - ETA: 5s - loss: 0.494 - ETA: 5s - loss: 0.494 - ETA: 5s - loss: 0.494 - ETA: 5s - loss: 0.494 - ETA: 5s - loss: 0.495 - ETA: 4s - loss: 0.495 - ETA: 4s - loss: 0.495 - ETA: 4s - loss: 0.495 - ETA: 4s - loss: 0.495 - ETA: 4s - loss: 0.495 - ETA: 4s - loss: 0.495 - ETA: 4s - loss: 0.495 - ETA: 4s - loss: 0.495 - ETA: 4s - loss: 0.495 - ETA: 4s - loss: 0.494 - ETA: 4s - loss: 0.494 - ETA: 4s - loss: 0.494 - ETA: 4s - loss: 0.494 - ETA: 3s - loss: 0.494 - ETA: 3s - loss: 0.494 - ETA: 3s - loss: 0.494 - ETA: 3s - loss: 0.495 - ETA: 3s - loss: 0.495 - ETA: 3s - loss: 0.495 - ETA: 3s - loss: 0.495 - ETA: 3s - loss: 0.494 - ETA: 3s - loss: 0.494 - ETA: 3s - loss: 0.495 - ETA: 3s - loss: 0.495 - ETA: 3s - loss: 0.495 - ETA: 2s - loss: 0.495 - ETA: 2s - loss: 0.495 - ETA: 2s - loss: 0.495 - ETA: 2s - loss: 0.495 - ETA: 2s - loss: 0.495 - ETA: 2s - loss: 0.495 - ETA: 2s - loss: 0.494 - ETA: 2s - loss: 0.495 - ETA: 2s - loss: 0.494 - ETA: 2s - loss: 0.494 - ETA: 2s - loss: 0.494 - ETA: 2s - loss: 0.494 - ETA: 1s - loss: 0.494 - ETA: 1s - loss: 0.494 - ETA: 1s - loss: 0.494 - ETA: 1s - loss: 0.494 - ETA: 1s - loss: 0.494 - ETA: 1s - loss: 0.494 - ETA: 1s - loss: 0.494 - ETA: 1s - loss: 0.494 - ETA: 1s - loss: 0.494 - ETA: 1s - loss: 0.494 - ETA: 1s - loss: 0.494 - ETA: 1s - loss: 0.494 - ETA: 0s - loss: 0.494 - ETA: 0s - loss: 0.494 - ETA: 0s - loss: 0.494 - ETA: 0s - loss: 0.494 - ETA: 0s - loss: 0.494 - ETA: 0s - loss: 0.494 - ETA: 0s - loss: 0.494 - ETA: 0s - loss: 0.494 - ETA: 0s - loss: 0.494 - ETA: 0s - loss: 0.494 - ETA: 0s - loss: 0.494 - ETA: 0s - loss: 0.4949epoch 11,\tloss 0.4949,\tval_loss 0.4969\tmean_cos_dist 0.4178\tval_mean_cos_dist 0.4056.\n",
      "746366/746366 [==============================] - 8s 11us/sample - loss: 0.4949 - val_loss: 0.4969\n",
      "Epoch 13/30\n",
      "740000/746366 [============================>.] - ETA: 6s - loss: 0.497 - ETA: 6s - loss: 0.493 - ETA: 6s - loss: 0.493 - ETA: 6s - loss: 0.494 - ETA: 6s - loss: 0.494 - ETA: 6s - loss: 0.494 - ETA: 5s - loss: 0.494 - ETA: 5s - loss: 0.494 - ETA: 5s - loss: 0.494 - ETA: 5s - loss: 0.494 - ETA: 5s - loss: 0.494 - ETA: 5s - loss: 0.494 - ETA: 5s - loss: 0.494 - ETA: 5s - loss: 0.494 - ETA: 5s - loss: 0.494 - ETA: 5s - loss: 0.494 - ETA: 5s - loss: 0.494 - ETA: 4s - loss: 0.494 - ETA: 4s - loss: 0.493 - ETA: 4s - loss: 0.494 - ETA: 4s - loss: 0.494 - ETA: 4s - loss: 0.494 - ETA: 4s - loss: 0.494 - ETA: 4s - loss: 0.494 - ETA: 4s - loss: 0.494 - ETA: 4s - loss: 0.494 - ETA: 4s - loss: 0.494 - ETA: 4s - loss: 0.494 - ETA: 3s - loss: 0.494 - ETA: 3s - loss: 0.494 - ETA: 3s - loss: 0.494 - ETA: 3s - loss: 0.494 - ETA: 3s - loss: 0.494 - ETA: 3s - loss: 0.494 - ETA: 3s - loss: 0.494 - ETA: 3s - loss: 0.494 - ETA: 3s - loss: 0.494 - ETA: 3s - loss: 0.494 - ETA: 3s - loss: 0.494 - ETA: 3s - loss: 0.494 - ETA: 2s - loss: 0.494 - ETA: 2s - loss: 0.494 - ETA: 2s - loss: 0.494 - ETA: 2s - loss: 0.494 - ETA: 2s - loss: 0.494 - ETA: 2s - loss: 0.494 - ETA: 2s - loss: 0.494 - ETA: 2s - loss: 0.494 - ETA: 2s - loss: 0.494 - ETA: 2s - loss: 0.494 - ETA: 2s - loss: 0.494 - ETA: 1s - loss: 0.494 - ETA: 1s - loss: 0.494 - ETA: 1s - loss: 0.494 - ETA: 1s - loss: 0.494 - ETA: 1s - loss: 0.494 - ETA: 1s - loss: 0.494 - ETA: 1s - loss: 0.494 - ETA: 1s - loss: 0.494 - ETA: 1s - loss: 0.494 - ETA: 1s - loss: 0.494 - ETA: 1s - loss: 0.494 - ETA: 1s - loss: 0.494 - ETA: 1s - loss: 0.494 - ETA: 0s - loss: 0.494 - ETA: 0s - loss: 0.494 - ETA: 0s - loss: 0.494 - ETA: 0s - loss: 0.494 - ETA: 0s - loss: 0.494 - ETA: 0s - loss: 0.494 - ETA: 0s - loss: 0.494 - ETA: 0s - loss: 0.494 - ETA: 0s - loss: 0.494 - ETA: 0s - loss: 0.494 - ETA: 0s - loss: 0.4942epoch 12,\tloss 0.4942,\tval_loss 0.4967\tmean_cos_dist 0.4159\tval_mean_cos_dist 0.4040.\n",
      "746366/746366 [==============================] - 8s 11us/sample - loss: 0.4942 - val_loss: 0.4967\n",
      "Epoch 14/30\n",
      "745000/746366 [============================>.] - ETA: 6s - loss: 0.488 - ETA: 5s - loss: 0.492 - ETA: 5s - loss: 0.491 - ETA: 5s - loss: 0.491 - ETA: 5s - loss: 0.491 - ETA: 5s - loss: 0.492 - ETA: 5s - loss: 0.493 - ETA: 5s - loss: 0.493 - ETA: 5s - loss: 0.493 - ETA: 5s - loss: 0.493 - ETA: 5s - loss: 0.492 - ETA: 5s - loss: 0.493 - ETA: 5s - loss: 0.493 - ETA: 4s - loss: 0.493 - ETA: 4s - loss: 0.493 - ETA: 4s - loss: 0.493 - ETA: 4s - loss: 0.493 - ETA: 4s - loss: 0.493 - ETA: 4s - loss: 0.493 - ETA: 4s - loss: 0.493 - ETA: 4s - loss: 0.493 - ETA: 4s - loss: 0.493 - ETA: 4s - loss: 0.493 - ETA: 4s - loss: 0.493 - ETA: 4s - loss: 0.493 - ETA: 4s - loss: 0.493 - ETA: 3s - loss: 0.493 - ETA: 3s - loss: 0.493 - ETA: 3s - loss: 0.493 - ETA: 3s - loss: 0.493 - ETA: 3s - loss: 0.493 - ETA: 3s - loss: 0.493 - ETA: 3s - loss: 0.493 - ETA: 3s - loss: 0.493 - ETA: 3s - loss: 0.493 - ETA: 3s - loss: 0.493 - ETA: 3s - loss: 0.493 - ETA: 3s - loss: 0.493 - ETA: 3s - loss: 0.493 - ETA: 2s - loss: 0.493 - ETA: 2s - loss: 0.493 - ETA: 2s - loss: 0.493 - ETA: 2s - loss: 0.493 - ETA: 2s - loss: 0.493 - ETA: 2s - loss: 0.493 - ETA: 2s - loss: 0.493 - ETA: 2s - loss: 0.493 - ETA: 2s - loss: 0.493 - ETA: 2s - loss: 0.493 - ETA: 2s - loss: 0.493 - ETA: 2s - loss: 0.493 - ETA: 1s - loss: 0.493 - ETA: 1s - loss: 0.493 - ETA: 1s - loss: 0.493 - ETA: 1s - loss: 0.493 - ETA: 1s - loss: 0.493 - ETA: 1s - loss: 0.493 - ETA: 1s - loss: 0.493 - ETA: 1s - loss: 0.493 - ETA: 1s - loss: 0.493 - ETA: 1s - loss: 0.493 - ETA: 1s - loss: 0.493 - ETA: 1s - loss: 0.493 - ETA: 0s - loss: 0.493 - ETA: 0s - loss: 0.493 - ETA: 0s - loss: 0.493 - ETA: 0s - loss: 0.493 - ETA: 0s - loss: 0.493 - ETA: 0s - loss: 0.493 - ETA: 0s - loss: 0.493 - ETA: 0s - loss: 0.493 - ETA: 0s - loss: 0.493 - ETA: 0s - loss: 0.493 - ETA: 0s - loss: 0.493 - ETA: 0s - loss: 0.4933epoch 13,\tloss 0.4933,\tval_loss 0.4958\tmean_cos_dist 0.4160\tval_mean_cos_dist 0.4054.\n",
      "746366/746366 [==============================] - 8s 10us/sample - loss: 0.4933 - val_loss: 0.4958\n",
      "Epoch 15/30\n",
      "745000/746366 [============================>.] - ETA: 6s - loss: 0.493 - ETA: 5s - loss: 0.492 - ETA: 5s - loss: 0.491 - ETA: 5s - loss: 0.492 - ETA: 5s - loss: 0.492 - ETA: 5s - loss: 0.492 - ETA: 5s - loss: 0.492 - ETA: 5s - loss: 0.492 - ETA: 5s - loss: 0.492 - ETA: 5s - loss: 0.492 - ETA: 5s - loss: 0.492 - ETA: 5s - loss: 0.492 - ETA: 5s - loss: 0.492 - ETA: 5s - loss: 0.492 - ETA: 4s - loss: 0.492 - ETA: 4s - loss: 0.491 - ETA: 4s - loss: 0.491 - ETA: 4s - loss: 0.492 - ETA: 4s - loss: 0.492 - ETA: 4s - loss: 0.492 - ETA: 4s - loss: 0.492 - ETA: 4s - loss: 0.492 - ETA: 4s - loss: 0.492 - ETA: 4s - loss: 0.492 - ETA: 4s - loss: 0.492 - ETA: 4s - loss: 0.492 - ETA: 4s - loss: 0.492 - ETA: 3s - loss: 0.492 - ETA: 3s - loss: 0.492 - ETA: 3s - loss: 0.492 - ETA: 3s - loss: 0.492 - ETA: 3s - loss: 0.492 - ETA: 3s - loss: 0.492 - ETA: 3s - loss: 0.492 - ETA: 3s - loss: 0.492 - ETA: 3s - loss: 0.492 - ETA: 3s - loss: 0.492 - ETA: 3s - loss: 0.492 - ETA: 3s - loss: 0.492 - ETA: 2s - loss: 0.492 - ETA: 2s - loss: 0.492 - ETA: 2s - loss: 0.492 - ETA: 2s - loss: 0.492 - ETA: 2s - loss: 0.492 - ETA: 2s - loss: 0.492 - ETA: 2s - loss: 0.492 - ETA: 2s - loss: 0.492 - ETA: 2s - loss: 0.492 - ETA: 2s - loss: 0.492 - ETA: 2s - loss: 0.492 - ETA: 2s - loss: 0.492 - ETA: 1s - loss: 0.492 - ETA: 1s - loss: 0.492 - ETA: 1s - loss: 0.492 - ETA: 1s - loss: 0.492 - ETA: 1s - loss: 0.492 - ETA: 1s - loss: 0.492 - ETA: 1s - loss: 0.492 - ETA: 1s - loss: 0.492 - ETA: 1s - loss: 0.492 - ETA: 1s - loss: 0.492 - ETA: 1s - loss: 0.492 - ETA: 1s - loss: 0.492 - ETA: 0s - loss: 0.492 - ETA: 0s - loss: 0.492 - ETA: 0s - loss: 0.492 - ETA: 0s - loss: 0.492 - ETA: 0s - loss: 0.492 - ETA: 0s - loss: 0.492 - ETA: 0s - loss: 0.492 - ETA: 0s - loss: 0.492 - ETA: 0s - loss: 0.492 - ETA: 0s - loss: 0.492 - ETA: 0s - loss: 0.492 - ETA: 0s - loss: 0.4925epoch 14,\tloss 0.4925,\tval_loss 0.4954\tmean_cos_dist 0.4160\tval_mean_cos_dist 0.4035.\n",
      "746366/746366 [==============================] - 8s 10us/sample - loss: 0.4925 - val_loss: 0.4954\n",
      "Epoch 16/30\n",
      "745000/746366 [============================>.] - ETA: 5s - loss: 0.498 - ETA: 5s - loss: 0.493 - ETA: 5s - loss: 0.492 - ETA: 5s - loss: 0.492 - ETA: 5s - loss: 0.493 - ETA: 5s - loss: 0.493 - ETA: 5s - loss: 0.493 - ETA: 5s - loss: 0.492 - ETA: 5s - loss: 0.492 - ETA: 5s - loss: 0.492 - ETA: 5s - loss: 0.492 - ETA: 5s - loss: 0.491 - ETA: 5s - loss: 0.491 - ETA: 4s - loss: 0.491 - ETA: 4s - loss: 0.491 - ETA: 4s - loss: 0.491 - ETA: 4s - loss: 0.491 - ETA: 4s - loss: 0.491 - ETA: 4s - loss: 0.491 - ETA: 4s - loss: 0.491 - ETA: 4s - loss: 0.491 - ETA: 4s - loss: 0.491 - ETA: 4s - loss: 0.491 - ETA: 4s - loss: 0.491 - ETA: 4s - loss: 0.491 - ETA: 3s - loss: 0.491 - ETA: 3s - loss: 0.491 - ETA: 3s - loss: 0.491 - ETA: 3s - loss: 0.491 - ETA: 3s - loss: 0.491 - ETA: 3s - loss: 0.491 - ETA: 3s - loss: 0.491 - ETA: 3s - loss: 0.491 - ETA: 3s - loss: 0.491 - ETA: 3s - loss: 0.491 - ETA: 3s - loss: 0.491 - ETA: 3s - loss: 0.491 - ETA: 3s - loss: 0.491 - ETA: 2s - loss: 0.491 - ETA: 2s - loss: 0.491 - ETA: 2s - loss: 0.492 - ETA: 2s - loss: 0.492 - ETA: 2s - loss: 0.492 - ETA: 2s - loss: 0.492 - ETA: 2s - loss: 0.492 - ETA: 2s - loss: 0.491 - ETA: 2s - loss: 0.492 - ETA: 2s - loss: 0.492 - ETA: 2s - loss: 0.491 - ETA: 2s - loss: 0.491 - ETA: 1s - loss: 0.491 - ETA: 1s - loss: 0.492 - ETA: 1s - loss: 0.492 - ETA: 1s - loss: 0.492 - ETA: 1s - loss: 0.492 - ETA: 1s - loss: 0.492 - ETA: 1s - loss: 0.492 - ETA: 1s - loss: 0.492 - ETA: 1s - loss: 0.491 - ETA: 1s - loss: 0.492 - ETA: 1s - loss: 0.492 - ETA: 1s - loss: 0.492 - ETA: 0s - loss: 0.492 - ETA: 0s - loss: 0.491 - ETA: 0s - loss: 0.491 - ETA: 0s - loss: 0.491 - ETA: 0s - loss: 0.491 - ETA: 0s - loss: 0.491 - ETA: 0s - loss: 0.491 - ETA: 0s - loss: 0.491 - ETA: 0s - loss: 0.491 - ETA: 0s - loss: 0.491 - ETA: 0s - loss: 0.491 - ETA: 0s - loss: 0.491 - ETA: 0s - loss: 0.4918epoch 15,\tloss 0.4918,\tval_loss 0.4950\tmean_cos_dist 0.4136\tval_mean_cos_dist 0.4029.\n",
      "746366/746366 [==============================] - 8s 10us/sample - loss: 0.4918 - val_loss: 0.4950\n",
      "Epoch 17/30\n",
      "740000/746366 [============================>.] - ETA: 6s - loss: 0.489 - ETA: 6s - loss: 0.493 - ETA: 6s - loss: 0.492 - ETA: 5s - loss: 0.492 - ETA: 5s - loss: 0.490 - ETA: 5s - loss: 0.491 - ETA: 5s - loss: 0.491 - ETA: 5s - loss: 0.491 - ETA: 5s - loss: 0.491 - ETA: 5s - loss: 0.491 - ETA: 5s - loss: 0.490 - ETA: 5s - loss: 0.491 - ETA: 5s - loss: 0.490 - ETA: 5s - loss: 0.490 - ETA: 4s - loss: 0.490 - ETA: 4s - loss: 0.490 - ETA: 4s - loss: 0.490 - ETA: 4s - loss: 0.490 - ETA: 4s - loss: 0.489 - ETA: 4s - loss: 0.489 - ETA: 4s - loss: 0.490 - ETA: 4s - loss: 0.490 - ETA: 4s - loss: 0.489 - ETA: 4s - loss: 0.489 - ETA: 4s - loss: 0.490 - ETA: 4s - loss: 0.490 - ETA: 3s - loss: 0.490 - ETA: 3s - loss: 0.490 - ETA: 3s - loss: 0.490 - ETA: 3s - loss: 0.490 - ETA: 3s - loss: 0.490 - ETA: 3s - loss: 0.490 - ETA: 3s - loss: 0.490 - ETA: 3s - loss: 0.490 - ETA: 3s - loss: 0.490 - ETA: 3s - loss: 0.490 - ETA: 3s - loss: 0.490 - ETA: 3s - loss: 0.490 - ETA: 2s - loss: 0.490 - ETA: 2s - loss: 0.490 - ETA: 2s - loss: 0.490 - ETA: 2s - loss: 0.490 - ETA: 2s - loss: 0.490 - ETA: 2s - loss: 0.490 - ETA: 2s - loss: 0.490 - ETA: 2s - loss: 0.491 - ETA: 2s - loss: 0.491 - ETA: 2s - loss: 0.491 - ETA: 2s - loss: 0.491 - ETA: 2s - loss: 0.491 - ETA: 1s - loss: 0.491 - ETA: 1s - loss: 0.491 - ETA: 1s - loss: 0.491 - ETA: 1s - loss: 0.491 - ETA: 1s - loss: 0.490 - ETA: 1s - loss: 0.490 - ETA: 1s - loss: 0.490 - ETA: 1s - loss: 0.490 - ETA: 1s - loss: 0.490 - ETA: 1s - loss: 0.490 - ETA: 1s - loss: 0.491 - ETA: 1s - loss: 0.491 - ETA: 1s - loss: 0.491 - ETA: 0s - loss: 0.491 - ETA: 0s - loss: 0.491 - ETA: 0s - loss: 0.491 - ETA: 0s - loss: 0.491 - ETA: 0s - loss: 0.491 - ETA: 0s - loss: 0.491 - ETA: 0s - loss: 0.491 - ETA: 0s - loss: 0.491 - ETA: 0s - loss: 0.491 - ETA: 0s - loss: 0.491 - ETA: 0s - loss: 0.491 - ETA: 0s - loss: 0.4911epoch 16,\tloss 0.4912,\tval_loss 0.4948\tmean_cos_dist 0.4129\tval_mean_cos_dist 0.4026.\n",
      "746366/746366 [==============================] - 8s 10us/sample - loss: 0.4912 - val_loss: 0.4948\n",
      "Epoch 18/30\n",
      "745000/746366 [============================>.] - ETA: 6s - loss: 0.485 - ETA: 5s - loss: 0.487 - ETA: 5s - loss: 0.488 - ETA: 5s - loss: 0.488 - ETA: 5s - loss: 0.488 - ETA: 5s - loss: 0.488 - ETA: 5s - loss: 0.488 - ETA: 5s - loss: 0.489 - ETA: 5s - loss: 0.489 - ETA: 5s - loss: 0.489 - ETA: 5s - loss: 0.490 - ETA: 5s - loss: 0.490 - ETA: 5s - loss: 0.490 - ETA: 4s - loss: 0.490 - ETA: 4s - loss: 0.490 - ETA: 4s - loss: 0.490 - ETA: 4s - loss: 0.490 - ETA: 4s - loss: 0.490 - ETA: 4s - loss: 0.490 - ETA: 4s - loss: 0.490 - ETA: 4s - loss: 0.490 - ETA: 4s - loss: 0.490 - ETA: 4s - loss: 0.490 - ETA: 4s - loss: 0.490 - ETA: 4s - loss: 0.490 - ETA: 4s - loss: 0.490 - ETA: 3s - loss: 0.490 - ETA: 3s - loss: 0.490 - ETA: 3s - loss: 0.490 - ETA: 3s - loss: 0.490 - ETA: 3s - loss: 0.490 - ETA: 3s - loss: 0.490 - ETA: 3s - loss: 0.490 - ETA: 3s - loss: 0.490 - ETA: 3s - loss: 0.490 - ETA: 3s - loss: 0.490 - ETA: 3s - loss: 0.490 - ETA: 3s - loss: 0.490 - ETA: 2s - loss: 0.490 - ETA: 2s - loss: 0.490 - ETA: 2s - loss: 0.490 - ETA: 2s - loss: 0.490 - ETA: 2s - loss: 0.490 - ETA: 2s - loss: 0.490 - ETA: 2s - loss: 0.490 - ETA: 2s - loss: 0.490 - ETA: 2s - loss: 0.490 - ETA: 2s - loss: 0.490 - ETA: 2s - loss: 0.490 - ETA: 2s - loss: 0.490 - ETA: 1s - loss: 0.490 - ETA: 1s - loss: 0.490 - ETA: 1s - loss: 0.490 - ETA: 1s - loss: 0.490 - ETA: 1s - loss: 0.490 - ETA: 1s - loss: 0.490 - ETA: 1s - loss: 0.490 - ETA: 1s - loss: 0.490 - ETA: 1s - loss: 0.490 - ETA: 1s - loss: 0.490 - ETA: 1s - loss: 0.490 - ETA: 1s - loss: 0.490 - ETA: 1s - loss: 0.490 - ETA: 0s - loss: 0.490 - ETA: 0s - loss: 0.490 - ETA: 0s - loss: 0.490 - ETA: 0s - loss: 0.490 - ETA: 0s - loss: 0.490 - ETA: 0s - loss: 0.490 - ETA: 0s - loss: 0.490 - ETA: 0s - loss: 0.490 - ETA: 0s - loss: 0.490 - ETA: 0s - loss: 0.490 - ETA: 0s - loss: 0.490 - ETA: 0s - loss: 0.4905epoch 17,\tloss 0.4905,\tval_loss 0.4942\tmean_cos_dist 0.4124\tval_mean_cos_dist 0.4009.\n",
      "746366/746366 [==============================] - 8s 10us/sample - loss: 0.4905 - val_loss: 0.4942\n",
      "Epoch 19/30\n",
      "745000/746366 [============================>.] - ETA: 5s - loss: 0.492 - ETA: 5s - loss: 0.489 - ETA: 5s - loss: 0.490 - ETA: 5s - loss: 0.489 - ETA: 5s - loss: 0.489 - ETA: 5s - loss: 0.488 - ETA: 5s - loss: 0.488 - ETA: 5s - loss: 0.489 - ETA: 5s - loss: 0.489 - ETA: 5s - loss: 0.489 - ETA: 5s - loss: 0.489 - ETA: 5s - loss: 0.489 - ETA: 5s - loss: 0.489 - ETA: 4s - loss: 0.489 - ETA: 4s - loss: 0.489 - ETA: 4s - loss: 0.489 - ETA: 4s - loss: 0.489 - ETA: 4s - loss: 0.489 - ETA: 4s - loss: 0.489 - ETA: 4s - loss: 0.489 - ETA: 4s - loss: 0.489 - ETA: 4s - loss: 0.489 - ETA: 4s - loss: 0.489 - ETA: 4s - loss: 0.489 - ETA: 4s - loss: 0.489 - ETA: 4s - loss: 0.489 - ETA: 4s - loss: 0.489 - ETA: 3s - loss: 0.489 - ETA: 3s - loss: 0.490 - ETA: 3s - loss: 0.490 - ETA: 3s - loss: 0.490 - ETA: 3s - loss: 0.490 - ETA: 3s - loss: 0.489 - ETA: 3s - loss: 0.489 - ETA: 3s - loss: 0.489 - ETA: 3s - loss: 0.490 - ETA: 3s - loss: 0.490 - ETA: 3s - loss: 0.490 - ETA: 2s - loss: 0.490 - ETA: 2s - loss: 0.490 - ETA: 2s - loss: 0.490 - ETA: 2s - loss: 0.490 - ETA: 2s - loss: 0.490 - ETA: 2s - loss: 0.490 - ETA: 2s - loss: 0.490 - ETA: 2s - loss: 0.490 - ETA: 2s - loss: 0.490 - ETA: 2s - loss: 0.490 - ETA: 2s - loss: 0.490 - ETA: 2s - loss: 0.489 - ETA: 1s - loss: 0.490 - ETA: 1s - loss: 0.490 - ETA: 1s - loss: 0.490 - ETA: 1s - loss: 0.489 - ETA: 1s - loss: 0.489 - ETA: 1s - loss: 0.489 - ETA: 1s - loss: 0.489 - ETA: 1s - loss: 0.489 - ETA: 1s - loss: 0.489 - ETA: 1s - loss: 0.489 - ETA: 1s - loss: 0.489 - ETA: 1s - loss: 0.489 - ETA: 1s - loss: 0.489 - ETA: 0s - loss: 0.489 - ETA: 0s - loss: 0.489 - ETA: 0s - loss: 0.489 - ETA: 0s - loss: 0.489 - ETA: 0s - loss: 0.489 - ETA: 0s - loss: 0.489 - ETA: 0s - loss: 0.489 - ETA: 0s - loss: 0.489 - ETA: 0s - loss: 0.489 - ETA: 0s - loss: 0.489 - ETA: 0s - loss: 0.489 - ETA: 0s - loss: 0.4899epoch 18,\tloss 0.4900,\tval_loss 0.4943\tmean_cos_dist 0.4121\tval_mean_cos_dist 0.4028.\n",
      "746366/746366 [==============================] - 8s 11us/sample - loss: 0.4900 - val_loss: 0.4943\n",
      "Epoch 20/30\n",
      "745000/746366 [============================>.] - ETA: 5s - loss: 0.493 - ETA: 6s - loss: 0.488 - ETA: 6s - loss: 0.490 - ETA: 5s - loss: 0.491 - ETA: 5s - loss: 0.491 - ETA: 5s - loss: 0.491 - ETA: 5s - loss: 0.490 - ETA: 5s - loss: 0.489 - ETA: 5s - loss: 0.489 - ETA: 5s - loss: 0.489 - ETA: 5s - loss: 0.489 - ETA: 5s - loss: 0.489 - ETA: 5s - loss: 0.489 - ETA: 5s - loss: 0.489 - ETA: 5s - loss: 0.489 - ETA: 4s - loss: 0.489 - ETA: 4s - loss: 0.489 - ETA: 4s - loss: 0.489 - ETA: 4s - loss: 0.489 - ETA: 4s - loss: 0.489 - ETA: 4s - loss: 0.489 - ETA: 4s - loss: 0.489 - ETA: 4s - loss: 0.489 - ETA: 4s - loss: 0.489 - ETA: 4s - loss: 0.489 - ETA: 4s - loss: 0.489 - ETA: 4s - loss: 0.489 - ETA: 3s - loss: 0.489 - ETA: 3s - loss: 0.489 - ETA: 3s - loss: 0.489 - ETA: 3s - loss: 0.489 - ETA: 3s - loss: 0.489 - ETA: 3s - loss: 0.489 - ETA: 3s - loss: 0.489 - ETA: 3s - loss: 0.489 - ETA: 3s - loss: 0.489 - ETA: 3s - loss: 0.489 - ETA: 3s - loss: 0.489 - ETA: 3s - loss: 0.489 - ETA: 2s - loss: 0.489 - ETA: 2s - loss: 0.489 - ETA: 2s - loss: 0.489 - ETA: 2s - loss: 0.489 - ETA: 2s - loss: 0.489 - ETA: 2s - loss: 0.489 - ETA: 2s - loss: 0.489 - ETA: 2s - loss: 0.489 - ETA: 2s - loss: 0.489 - ETA: 2s - loss: 0.489 - ETA: 2s - loss: 0.489 - ETA: 2s - loss: 0.489 - ETA: 1s - loss: 0.489 - ETA: 1s - loss: 0.489 - ETA: 1s - loss: 0.489 - ETA: 1s - loss: 0.489 - ETA: 1s - loss: 0.489 - ETA: 1s - loss: 0.489 - ETA: 1s - loss: 0.489 - ETA: 1s - loss: 0.489 - ETA: 1s - loss: 0.489 - ETA: 1s - loss: 0.489 - ETA: 1s - loss: 0.489 - ETA: 1s - loss: 0.489 - ETA: 0s - loss: 0.489 - ETA: 0s - loss: 0.489 - ETA: 0s - loss: 0.489 - ETA: 0s - loss: 0.489 - ETA: 0s - loss: 0.489 - ETA: 0s - loss: 0.489 - ETA: 0s - loss: 0.489 - ETA: 0s - loss: 0.489 - ETA: 0s - loss: 0.489 - ETA: 0s - loss: 0.489 - ETA: 0s - loss: 0.489 - ETA: 0s - loss: 0.4894epoch 19,\tloss 0.4894,\tval_loss 0.4939\tmean_cos_dist 0.4111\tval_mean_cos_dist 0.4025.\n",
      "746366/746366 [==============================] - 8s 11us/sample - loss: 0.4894 - val_loss: 0.4939\n",
      "Epoch 21/30\n",
      "745000/746366 [============================>.] - ETA: 6s - loss: 0.490 - ETA: 6s - loss: 0.488 - ETA: 6s - loss: 0.489 - ETA: 5s - loss: 0.490 - ETA: 5s - loss: 0.489 - ETA: 5s - loss: 0.489 - ETA: 5s - loss: 0.489 - ETA: 5s - loss: 0.489 - ETA: 5s - loss: 0.489 - ETA: 5s - loss: 0.489 - ETA: 5s - loss: 0.489 - ETA: 5s - loss: 0.488 - ETA: 5s - loss: 0.488 - ETA: 5s - loss: 0.488 - ETA: 5s - loss: 0.488 - ETA: 4s - loss: 0.488 - ETA: 4s - loss: 0.488 - ETA: 4s - loss: 0.488 - ETA: 4s - loss: 0.488 - ETA: 4s - loss: 0.488 - ETA: 4s - loss: 0.488 - ETA: 4s - loss: 0.488 - ETA: 4s - loss: 0.488 - ETA: 4s - loss: 0.488 - ETA: 4s - loss: 0.488 - ETA: 4s - loss: 0.488 - ETA: 4s - loss: 0.488 - ETA: 3s - loss: 0.488 - ETA: 3s - loss: 0.488 - ETA: 3s - loss: 0.488 - ETA: 3s - loss: 0.488 - ETA: 3s - loss: 0.488 - ETA: 3s - loss: 0.488 - ETA: 3s - loss: 0.488 - ETA: 3s - loss: 0.488 - ETA: 3s - loss: 0.488 - ETA: 3s - loss: 0.488 - ETA: 3s - loss: 0.488 - ETA: 3s - loss: 0.488 - ETA: 2s - loss: 0.488 - ETA: 2s - loss: 0.488 - ETA: 2s - loss: 0.488 - ETA: 2s - loss: 0.488 - ETA: 2s - loss: 0.488 - ETA: 2s - loss: 0.488 - ETA: 2s - loss: 0.488 - ETA: 2s - loss: 0.488 - ETA: 2s - loss: 0.488 - ETA: 2s - loss: 0.488 - ETA: 2s - loss: 0.488 - ETA: 2s - loss: 0.488 - ETA: 1s - loss: 0.488 - ETA: 1s - loss: 0.488 - ETA: 1s - loss: 0.488 - ETA: 1s - loss: 0.488 - ETA: 1s - loss: 0.488 - ETA: 1s - loss: 0.488 - ETA: 1s - loss: 0.488 - ETA: 1s - loss: 0.488 - ETA: 1s - loss: 0.488 - ETA: 1s - loss: 0.488 - ETA: 1s - loss: 0.488 - ETA: 1s - loss: 0.488 - ETA: 0s - loss: 0.488 - ETA: 0s - loss: 0.488 - ETA: 0s - loss: 0.488 - ETA: 0s - loss: 0.488 - ETA: 0s - loss: 0.488 - ETA: 0s - loss: 0.488 - ETA: 0s - loss: 0.488 - ETA: 0s - loss: 0.488 - ETA: 0s - loss: 0.488 - ETA: 0s - loss: 0.488 - ETA: 0s - loss: 0.488 - ETA: 0s - loss: 0.4889epoch 20,\tloss 0.4889,\tval_loss 0.4931\tmean_cos_dist 0.4102\tval_mean_cos_dist 0.4001.\n",
      "746366/746366 [==============================] - 8s 11us/sample - loss: 0.4889 - val_loss: 0.4931\n",
      "Epoch 22/30\n",
      "740000/746366 [============================>.] - ETA: 5s - loss: 0.495 - ETA: 6s - loss: 0.490 - ETA: 6s - loss: 0.489 - ETA: 6s - loss: 0.489 - ETA: 6s - loss: 0.489 - ETA: 6s - loss: 0.489 - ETA: 5s - loss: 0.489 - ETA: 5s - loss: 0.489 - ETA: 5s - loss: 0.488 - ETA: 5s - loss: 0.488 - ETA: 5s - loss: 0.489 - ETA: 5s - loss: 0.489 - ETA: 5s - loss: 0.489 - ETA: 5s - loss: 0.488 - ETA: 5s - loss: 0.489 - ETA: 5s - loss: 0.489 - ETA: 5s - loss: 0.488 - ETA: 4s - loss: 0.489 - ETA: 4s - loss: 0.488 - ETA: 4s - loss: 0.489 - ETA: 4s - loss: 0.488 - ETA: 4s - loss: 0.488 - ETA: 4s - loss: 0.488 - ETA: 4s - loss: 0.488 - ETA: 4s - loss: 0.488 - ETA: 4s - loss: 0.488 - ETA: 4s - loss: 0.488 - ETA: 4s - loss: 0.488 - ETA: 3s - loss: 0.488 - ETA: 3s - loss: 0.488 - ETA: 3s - loss: 0.488 - ETA: 3s - loss: 0.488 - ETA: 3s - loss: 0.488 - ETA: 3s - loss: 0.488 - ETA: 3s - loss: 0.488 - ETA: 3s - loss: 0.488 - ETA: 3s - loss: 0.488 - ETA: 3s - loss: 0.488 - ETA: 3s - loss: 0.488 - ETA: 3s - loss: 0.488 - ETA: 2s - loss: 0.488 - ETA: 2s - loss: 0.488 - ETA: 2s - loss: 0.488 - ETA: 2s - loss: 0.488 - ETA: 2s - loss: 0.488 - ETA: 2s - loss: 0.488 - ETA: 2s - loss: 0.488 - ETA: 2s - loss: 0.488 - ETA: 2s - loss: 0.488 - ETA: 2s - loss: 0.488 - ETA: 2s - loss: 0.488 - ETA: 2s - loss: 0.488 - ETA: 1s - loss: 0.488 - ETA: 1s - loss: 0.488 - ETA: 1s - loss: 0.488 - ETA: 1s - loss: 0.488 - ETA: 1s - loss: 0.488 - ETA: 1s - loss: 0.488 - ETA: 1s - loss: 0.488 - ETA: 1s - loss: 0.488 - ETA: 1s - loss: 0.488 - ETA: 1s - loss: 0.488 - ETA: 1s - loss: 0.488 - ETA: 0s - loss: 0.488 - ETA: 0s - loss: 0.488 - ETA: 0s - loss: 0.488 - ETA: 0s - loss: 0.488 - ETA: 0s - loss: 0.488 - ETA: 0s - loss: 0.488 - ETA: 0s - loss: 0.488 - ETA: 0s - loss: 0.488 - ETA: 0s - loss: 0.488 - ETA: 0s - loss: 0.488 - ETA: 0s - loss: 0.488 - ETA: 0s - loss: 0.4884epoch 21,\tloss 0.4884,\tval_loss 0.4932\tmean_cos_dist 0.4108\tval_mean_cos_dist 0.4008.\n",
      "746366/746366 [==============================] - 8s 11us/sample - loss: 0.4884 - val_loss: 0.4932\n",
      "Epoch 23/30\n",
      "745000/746366 [============================>.] - ETA: 5s - loss: 0.484 - ETA: 6s - loss: 0.487 - ETA: 5s - loss: 0.488 - ETA: 5s - loss: 0.487 - ETA: 5s - loss: 0.486 - ETA: 5s - loss: 0.486 - ETA: 5s - loss: 0.486 - ETA: 5s - loss: 0.485 - ETA: 5s - loss: 0.485 - ETA: 5s - loss: 0.485 - ETA: 5s - loss: 0.486 - ETA: 5s - loss: 0.486 - ETA: 5s - loss: 0.487 - ETA: 5s - loss: 0.487 - ETA: 4s - loss: 0.487 - ETA: 4s - loss: 0.487 - ETA: 4s - loss: 0.487 - ETA: 4s - loss: 0.487 - ETA: 4s - loss: 0.487 - ETA: 4s - loss: 0.487 - ETA: 4s - loss: 0.487 - ETA: 4s - loss: 0.487 - ETA: 4s - loss: 0.487 - ETA: 4s - loss: 0.487 - ETA: 4s - loss: 0.487 - ETA: 4s - loss: 0.487 - ETA: 3s - loss: 0.487 - ETA: 3s - loss: 0.487 - ETA: 3s - loss: 0.487 - ETA: 3s - loss: 0.487 - ETA: 3s - loss: 0.487 - ETA: 3s - loss: 0.487 - ETA: 3s - loss: 0.487 - ETA: 3s - loss: 0.487 - ETA: 3s - loss: 0.487 - ETA: 3s - loss: 0.487 - ETA: 3s - loss: 0.487 - ETA: 3s - loss: 0.487 - ETA: 2s - loss: 0.487 - ETA: 2s - loss: 0.487 - ETA: 2s - loss: 0.487 - ETA: 2s - loss: 0.487 - ETA: 2s - loss: 0.487 - ETA: 2s - loss: 0.487 - ETA: 2s - loss: 0.487 - ETA: 2s - loss: 0.487 - ETA: 2s - loss: 0.487 - ETA: 2s - loss: 0.487 - ETA: 2s - loss: 0.488 - ETA: 2s - loss: 0.487 - ETA: 1s - loss: 0.487 - ETA: 1s - loss: 0.487 - ETA: 1s - loss: 0.487 - ETA: 1s - loss: 0.487 - ETA: 1s - loss: 0.487 - ETA: 1s - loss: 0.487 - ETA: 1s - loss: 0.487 - ETA: 1s - loss: 0.487 - ETA: 1s - loss: 0.487 - ETA: 1s - loss: 0.487 - ETA: 1s - loss: 0.487 - ETA: 1s - loss: 0.487 - ETA: 1s - loss: 0.487 - ETA: 0s - loss: 0.487 - ETA: 0s - loss: 0.487 - ETA: 0s - loss: 0.487 - ETA: 0s - loss: 0.487 - ETA: 0s - loss: 0.487 - ETA: 0s - loss: 0.487 - ETA: 0s - loss: 0.487 - ETA: 0s - loss: 0.487 - ETA: 0s - loss: 0.487 - ETA: 0s - loss: 0.487 - ETA: 0s - loss: 0.487 - ETA: 0s - loss: 0.4877epoch 22,\tloss 0.4877,\tval_loss 0.4931\tmean_cos_dist 0.4093\tval_mean_cos_dist 0.4006.\n",
      "746366/746366 [==============================] - 8s 10us/sample - loss: 0.4877 - val_loss: 0.4931\n",
      "Epoch 24/30\n",
      "740000/746366 [============================>.] - ETA: 5s - loss: 0.487 - ETA: 5s - loss: 0.485 - ETA: 5s - loss: 0.485 - ETA: 5s - loss: 0.486 - ETA: 5s - loss: 0.486 - ETA: 5s - loss: 0.485 - ETA: 5s - loss: 0.485 - ETA: 5s - loss: 0.485 - ETA: 5s - loss: 0.486 - ETA: 5s - loss: 0.485 - ETA: 5s - loss: 0.486 - ETA: 5s - loss: 0.486 - ETA: 5s - loss: 0.486 - ETA: 5s - loss: 0.486 - ETA: 4s - loss: 0.486 - ETA: 4s - loss: 0.486 - ETA: 4s - loss: 0.486 - ETA: 4s - loss: 0.486 - ETA: 4s - loss: 0.486 - ETA: 4s - loss: 0.486 - ETA: 4s - loss: 0.486 - ETA: 4s - loss: 0.486 - ETA: 4s - loss: 0.486 - ETA: 4s - loss: 0.486 - ETA: 4s - loss: 0.486 - ETA: 4s - loss: 0.486 - ETA: 4s - loss: 0.486 - ETA: 3s - loss: 0.486 - ETA: 3s - loss: 0.486 - ETA: 3s - loss: 0.486 - ETA: 3s - loss: 0.486 - ETA: 3s - loss: 0.486 - ETA: 3s - loss: 0.486 - ETA: 3s - loss: 0.486 - ETA: 3s - loss: 0.486 - ETA: 3s - loss: 0.486 - ETA: 3s - loss: 0.486 - ETA: 3s - loss: 0.486 - ETA: 2s - loss: 0.486 - ETA: 2s - loss: 0.486 - ETA: 2s - loss: 0.486 - ETA: 2s - loss: 0.487 - ETA: 2s - loss: 0.487 - ETA: 2s - loss: 0.487 - ETA: 2s - loss: 0.487 - ETA: 2s - loss: 0.487 - ETA: 2s - loss: 0.487 - ETA: 2s - loss: 0.487 - ETA: 2s - loss: 0.487 - ETA: 2s - loss: 0.487 - ETA: 2s - loss: 0.487 - ETA: 1s - loss: 0.487 - ETA: 1s - loss: 0.487 - ETA: 1s - loss: 0.487 - ETA: 1s - loss: 0.487 - ETA: 1s - loss: 0.487 - ETA: 1s - loss: 0.487 - ETA: 1s - loss: 0.487 - ETA: 1s - loss: 0.487 - ETA: 1s - loss: 0.487 - ETA: 1s - loss: 0.487 - ETA: 1s - loss: 0.487 - ETA: 1s - loss: 0.487 - ETA: 0s - loss: 0.487 - ETA: 0s - loss: 0.487 - ETA: 0s - loss: 0.487 - ETA: 0s - loss: 0.487 - ETA: 0s - loss: 0.487 - ETA: 0s - loss: 0.487 - ETA: 0s - loss: 0.487 - ETA: 0s - loss: 0.487 - ETA: 0s - loss: 0.487 - ETA: 0s - loss: 0.487 - ETA: 0s - loss: 0.487 - ETA: 0s - loss: 0.4873epoch 23,\tloss 0.4873,\tval_loss 0.4928\tmean_cos_dist 0.4096\tval_mean_cos_dist 0.4003.\n",
      "746366/746366 [==============================] - 8s 11us/sample - loss: 0.4873 - val_loss: 0.4928\n",
      "Epoch 25/30\n",
      "740000/746366 [============================>.] - ETA: 5s - loss: 0.490 - ETA: 5s - loss: 0.488 - ETA: 5s - loss: 0.486 - ETA: 5s - loss: 0.485 - ETA: 5s - loss: 0.486 - ETA: 5s - loss: 0.486 - ETA: 5s - loss: 0.486 - ETA: 5s - loss: 0.486 - ETA: 5s - loss: 0.486 - ETA: 5s - loss: 0.486 - ETA: 5s - loss: 0.486 - ETA: 5s - loss: 0.487 - ETA: 5s - loss: 0.487 - ETA: 5s - loss: 0.487 - ETA: 5s - loss: 0.486 - ETA: 4s - loss: 0.487 - ETA: 4s - loss: 0.487 - ETA: 4s - loss: 0.486 - ETA: 4s - loss: 0.486 - ETA: 4s - loss: 0.486 - ETA: 4s - loss: 0.486 - ETA: 4s - loss: 0.486 - ETA: 4s - loss: 0.486 - ETA: 4s - loss: 0.486 - ETA: 4s - loss: 0.486 - ETA: 4s - loss: 0.486 - ETA: 4s - loss: 0.486 - ETA: 3s - loss: 0.486 - ETA: 3s - loss: 0.486 - ETA: 3s - loss: 0.486 - ETA: 3s - loss: 0.486 - ETA: 3s - loss: 0.486 - ETA: 3s - loss: 0.486 - ETA: 3s - loss: 0.486 - ETA: 3s - loss: 0.486 - ETA: 3s - loss: 0.486 - ETA: 3s - loss: 0.486 - ETA: 3s - loss: 0.486 - ETA: 3s - loss: 0.486 - ETA: 2s - loss: 0.486 - ETA: 2s - loss: 0.486 - ETA: 2s - loss: 0.486 - ETA: 2s - loss: 0.486 - ETA: 2s - loss: 0.486 - ETA: 2s - loss: 0.486 - ETA: 2s - loss: 0.486 - ETA: 2s - loss: 0.486 - ETA: 2s - loss: 0.486 - ETA: 2s - loss: 0.486 - ETA: 2s - loss: 0.486 - ETA: 2s - loss: 0.486 - ETA: 1s - loss: 0.486 - ETA: 1s - loss: 0.486 - ETA: 1s - loss: 0.486 - ETA: 1s - loss: 0.486 - ETA: 1s - loss: 0.486 - ETA: 1s - loss: 0.486 - ETA: 1s - loss: 0.486 - ETA: 1s - loss: 0.486 - ETA: 1s - loss: 0.486 - ETA: 1s - loss: 0.486 - ETA: 1s - loss: 0.486 - ETA: 1s - loss: 0.486 - ETA: 0s - loss: 0.486 - ETA: 0s - loss: 0.486 - ETA: 0s - loss: 0.486 - ETA: 0s - loss: 0.486 - ETA: 0s - loss: 0.486 - ETA: 0s - loss: 0.486 - ETA: 0s - loss: 0.486 - ETA: 0s - loss: 0.486 - ETA: 0s - loss: 0.486 - ETA: 0s - loss: 0.486 - ETA: 0s - loss: 0.486 - ETA: 0s - loss: 0.4867epoch 24,\tloss 0.4868,\tval_loss 0.4925\tmean_cos_dist 0.4079\tval_mean_cos_dist 0.3995.\n",
      "746366/746366 [==============================] - 8s 11us/sample - loss: 0.4868 - val_loss: 0.4925\n",
      "Epoch 26/30\n",
      "745000/746366 [============================>.] - ETA: 5s - loss: 0.486 - ETA: 5s - loss: 0.486 - ETA: 5s - loss: 0.485 - ETA: 5s - loss: 0.486 - ETA: 5s - loss: 0.485 - ETA: 5s - loss: 0.486 - ETA: 5s - loss: 0.486 - ETA: 5s - loss: 0.486 - ETA: 5s - loss: 0.486 - ETA: 5s - loss: 0.486 - ETA: 5s - loss: 0.486 - ETA: 5s - loss: 0.486 - ETA: 5s - loss: 0.486 - ETA: 5s - loss: 0.486 - ETA: 4s - loss: 0.486 - ETA: 4s - loss: 0.486 - ETA: 4s - loss: 0.486 - ETA: 4s - loss: 0.486 - ETA: 4s - loss: 0.486 - ETA: 4s - loss: 0.486 - ETA: 4s - loss: 0.486 - ETA: 4s - loss: 0.486 - ETA: 4s - loss: 0.486 - ETA: 4s - loss: 0.486 - ETA: 4s - loss: 0.486 - ETA: 4s - loss: 0.486 - ETA: 3s - loss: 0.486 - ETA: 3s - loss: 0.486 - ETA: 3s - loss: 0.486 - ETA: 3s - loss: 0.486 - ETA: 3s - loss: 0.486 - ETA: 3s - loss: 0.486 - ETA: 3s - loss: 0.486 - ETA: 3s - loss: 0.486 - ETA: 3s - loss: 0.486 - ETA: 3s - loss: 0.486 - ETA: 3s - loss: 0.486 - ETA: 3s - loss: 0.486 - ETA: 3s - loss: 0.486 - ETA: 2s - loss: 0.486 - ETA: 2s - loss: 0.486 - ETA: 2s - loss: 0.486 - ETA: 2s - loss: 0.486 - ETA: 2s - loss: 0.486 - ETA: 2s - loss: 0.486 - ETA: 2s - loss: 0.486 - ETA: 2s - loss: 0.486 - ETA: 2s - loss: 0.486 - ETA: 2s - loss: 0.486 - ETA: 2s - loss: 0.486 - ETA: 2s - loss: 0.486 - ETA: 1s - loss: 0.486 - ETA: 1s - loss: 0.486 - ETA: 1s - loss: 0.486 - ETA: 1s - loss: 0.486 - ETA: 1s - loss: 0.486 - ETA: 1s - loss: 0.486 - ETA: 1s - loss: 0.486 - ETA: 1s - loss: 0.486 - ETA: 1s - loss: 0.486 - ETA: 1s - loss: 0.486 - ETA: 1s - loss: 0.486 - ETA: 1s - loss: 0.486 - ETA: 0s - loss: 0.486 - ETA: 0s - loss: 0.486 - ETA: 0s - loss: 0.486 - ETA: 0s - loss: 0.486 - ETA: 0s - loss: 0.486 - ETA: 0s - loss: 0.486 - ETA: 0s - loss: 0.486 - ETA: 0s - loss: 0.486 - ETA: 0s - loss: 0.486 - ETA: 0s - loss: 0.486 - ETA: 0s - loss: 0.486 - ETA: 0s - loss: 0.4863epoch 25,\tloss 0.4863,\tval_loss 0.4922\tmean_cos_dist 0.4069\tval_mean_cos_dist 0.3993.\n",
      "746366/746366 [==============================] - 8s 10us/sample - loss: 0.4863 - val_loss: 0.4922\n",
      "Epoch 27/30\n",
      "745000/746366 [============================>.] - ETA: 5s - loss: 0.484 - ETA: 5s - loss: 0.481 - ETA: 5s - loss: 0.482 - ETA: 5s - loss: 0.484 - ETA: 5s - loss: 0.484 - ETA: 5s - loss: 0.484 - ETA: 5s - loss: 0.485 - ETA: 5s - loss: 0.485 - ETA: 5s - loss: 0.485 - ETA: 5s - loss: 0.484 - ETA: 5s - loss: 0.485 - ETA: 5s - loss: 0.485 - ETA: 5s - loss: 0.485 - ETA: 5s - loss: 0.485 - ETA: 4s - loss: 0.485 - ETA: 4s - loss: 0.484 - ETA: 4s - loss: 0.484 - ETA: 4s - loss: 0.484 - ETA: 4s - loss: 0.485 - ETA: 4s - loss: 0.485 - ETA: 4s - loss: 0.485 - ETA: 4s - loss: 0.485 - ETA: 4s - loss: 0.485 - ETA: 4s - loss: 0.485 - ETA: 4s - loss: 0.485 - ETA: 4s - loss: 0.485 - ETA: 4s - loss: 0.485 - ETA: 3s - loss: 0.485 - ETA: 3s - loss: 0.485 - ETA: 3s - loss: 0.485 - ETA: 3s - loss: 0.485 - ETA: 3s - loss: 0.485 - ETA: 3s - loss: 0.485 - ETA: 3s - loss: 0.485 - ETA: 3s - loss: 0.485 - ETA: 3s - loss: 0.485 - ETA: 3s - loss: 0.485 - ETA: 3s - loss: 0.485 - ETA: 3s - loss: 0.485 - ETA: 2s - loss: 0.485 - ETA: 2s - loss: 0.485 - ETA: 2s - loss: 0.485 - ETA: 2s - loss: 0.485 - ETA: 2s - loss: 0.485 - ETA: 2s - loss: 0.485 - ETA: 2s - loss: 0.485 - ETA: 2s - loss: 0.485 - ETA: 2s - loss: 0.485 - ETA: 2s - loss: 0.485 - ETA: 2s - loss: 0.485 - ETA: 2s - loss: 0.485 - ETA: 1s - loss: 0.485 - ETA: 1s - loss: 0.485 - ETA: 1s - loss: 0.485 - ETA: 1s - loss: 0.485 - ETA: 1s - loss: 0.485 - ETA: 1s - loss: 0.485 - ETA: 1s - loss: 0.485 - ETA: 1s - loss: 0.485 - ETA: 1s - loss: 0.485 - ETA: 1s - loss: 0.485 - ETA: 1s - loss: 0.485 - ETA: 1s - loss: 0.485 - ETA: 0s - loss: 0.485 - ETA: 0s - loss: 0.485 - ETA: 0s - loss: 0.485 - ETA: 0s - loss: 0.485 - ETA: 0s - loss: 0.485 - ETA: 0s - loss: 0.485 - ETA: 0s - loss: 0.485 - ETA: 0s - loss: 0.485 - ETA: 0s - loss: 0.485 - ETA: 0s - loss: 0.485 - ETA: 0s - loss: 0.485 - ETA: 0s - loss: 0.4859epoch 26,\tloss 0.4859,\tval_loss 0.4921\tmean_cos_dist 0.4071\tval_mean_cos_dist 0.3987.\n",
      "746366/746366 [==============================] - 8s 11us/sample - loss: 0.4859 - val_loss: 0.4921\n",
      "Epoch 28/30\n",
      "745000/746366 [============================>.] - ETA: 5s - loss: 0.486 - ETA: 5s - loss: 0.483 - ETA: 5s - loss: 0.485 - ETA: 5s - loss: 0.484 - ETA: 5s - loss: 0.485 - ETA: 5s - loss: 0.486 - ETA: 5s - loss: 0.486 - ETA: 5s - loss: 0.486 - ETA: 5s - loss: 0.486 - ETA: 5s - loss: 0.486 - ETA: 5s - loss: 0.486 - ETA: 5s - loss: 0.486 - ETA: 5s - loss: 0.487 - ETA: 5s - loss: 0.487 - ETA: 4s - loss: 0.487 - ETA: 4s - loss: 0.487 - ETA: 4s - loss: 0.487 - ETA: 4s - loss: 0.487 - ETA: 4s - loss: 0.486 - ETA: 4s - loss: 0.486 - ETA: 4s - loss: 0.486 - ETA: 4s - loss: 0.486 - ETA: 4s - loss: 0.486 - ETA: 4s - loss: 0.486 - ETA: 4s - loss: 0.486 - ETA: 4s - loss: 0.486 - ETA: 4s - loss: 0.486 - ETA: 3s - loss: 0.486 - ETA: 3s - loss: 0.486 - ETA: 3s - loss: 0.486 - ETA: 3s - loss: 0.486 - ETA: 3s - loss: 0.486 - ETA: 3s - loss: 0.485 - ETA: 3s - loss: 0.485 - ETA: 3s - loss: 0.485 - ETA: 3s - loss: 0.485 - ETA: 3s - loss: 0.485 - ETA: 3s - loss: 0.485 - ETA: 3s - loss: 0.485 - ETA: 2s - loss: 0.485 - ETA: 2s - loss: 0.485 - ETA: 2s - loss: 0.485 - ETA: 2s - loss: 0.485 - ETA: 2s - loss: 0.485 - ETA: 2s - loss: 0.485 - ETA: 2s - loss: 0.485 - ETA: 2s - loss: 0.485 - ETA: 2s - loss: 0.485 - ETA: 2s - loss: 0.485 - ETA: 2s - loss: 0.485 - ETA: 2s - loss: 0.485 - ETA: 1s - loss: 0.485 - ETA: 1s - loss: 0.485 - ETA: 1s - loss: 0.485 - ETA: 1s - loss: 0.485 - ETA: 1s - loss: 0.485 - ETA: 1s - loss: 0.485 - ETA: 1s - loss: 0.485 - ETA: 1s - loss: 0.485 - ETA: 1s - loss: 0.485 - ETA: 1s - loss: 0.485 - ETA: 1s - loss: 0.485 - ETA: 1s - loss: 0.485 - ETA: 0s - loss: 0.485 - ETA: 0s - loss: 0.485 - ETA: 0s - loss: 0.485 - ETA: 0s - loss: 0.485 - ETA: 0s - loss: 0.485 - ETA: 0s - loss: 0.485 - ETA: 0s - loss: 0.485 - ETA: 0s - loss: 0.485 - ETA: 0s - loss: 0.485 - ETA: 0s - loss: 0.485 - ETA: 0s - loss: 0.485 - ETA: 0s - loss: 0.4855epoch 27,\tloss 0.4854,\tval_loss 0.4919\tmean_cos_dist 0.4051\tval_mean_cos_dist 0.3989.\n",
      "746366/746366 [==============================] - 8s 11us/sample - loss: 0.4854 - val_loss: 0.4919\n",
      "Epoch 29/30\n",
      "740000/746366 [============================>.] - ETA: 5s - loss: 0.480 - ETA: 5s - loss: 0.484 - ETA: 5s - loss: 0.484 - ETA: 5s - loss: 0.483 - ETA: 5s - loss: 0.483 - ETA: 5s - loss: 0.483 - ETA: 5s - loss: 0.483 - ETA: 5s - loss: 0.483 - ETA: 5s - loss: 0.482 - ETA: 5s - loss: 0.483 - ETA: 5s - loss: 0.483 - ETA: 5s - loss: 0.483 - ETA: 5s - loss: 0.483 - ETA: 5s - loss: 0.483 - ETA: 5s - loss: 0.483 - ETA: 4s - loss: 0.483 - ETA: 4s - loss: 0.483 - ETA: 4s - loss: 0.483 - ETA: 4s - loss: 0.484 - ETA: 4s - loss: 0.484 - ETA: 4s - loss: 0.484 - ETA: 4s - loss: 0.484 - ETA: 4s - loss: 0.484 - ETA: 4s - loss: 0.484 - ETA: 4s - loss: 0.484 - ETA: 4s - loss: 0.484 - ETA: 4s - loss: 0.484 - ETA: 4s - loss: 0.484 - ETA: 3s - loss: 0.484 - ETA: 3s - loss: 0.484 - ETA: 3s - loss: 0.484 - ETA: 3s - loss: 0.484 - ETA: 3s - loss: 0.484 - ETA: 3s - loss: 0.484 - ETA: 3s - loss: 0.484 - ETA: 3s - loss: 0.484 - ETA: 3s - loss: 0.484 - ETA: 3s - loss: 0.484 - ETA: 3s - loss: 0.484 - ETA: 2s - loss: 0.484 - ETA: 2s - loss: 0.484 - ETA: 2s - loss: 0.484 - ETA: 2s - loss: 0.484 - ETA: 2s - loss: 0.484 - ETA: 2s - loss: 0.484 - ETA: 2s - loss: 0.484 - ETA: 2s - loss: 0.484 - ETA: 2s - loss: 0.484 - ETA: 2s - loss: 0.484 - ETA: 2s - loss: 0.484 - ETA: 2s - loss: 0.484 - ETA: 1s - loss: 0.484 - ETA: 1s - loss: 0.484 - ETA: 1s - loss: 0.484 - ETA: 1s - loss: 0.484 - ETA: 1s - loss: 0.485 - ETA: 1s - loss: 0.485 - ETA: 1s - loss: 0.484 - ETA: 1s - loss: 0.485 - ETA: 1s - loss: 0.485 - ETA: 1s - loss: 0.485 - ETA: 1s - loss: 0.485 - ETA: 1s - loss: 0.485 - ETA: 0s - loss: 0.485 - ETA: 0s - loss: 0.485 - ETA: 0s - loss: 0.484 - ETA: 0s - loss: 0.485 - ETA: 0s - loss: 0.485 - ETA: 0s - loss: 0.485 - ETA: 0s - loss: 0.485 - ETA: 0s - loss: 0.485 - ETA: 0s - loss: 0.485 - ETA: 0s - loss: 0.485 - ETA: 0s - loss: 0.485 - ETA: 0s - loss: 0.4850epoch 28,\tloss 0.4850,\tval_loss 0.4919\tmean_cos_dist 0.4043\tval_mean_cos_dist 0.3981.\n",
      "746366/746366 [==============================] - 8s 10us/sample - loss: 0.4850 - val_loss: 0.4919\n",
      "Epoch 30/30\n",
      "745000/746366 [============================>.] - ETA: 6s - loss: 0.487 - ETA: 5s - loss: 0.485 - ETA: 5s - loss: 0.484 - ETA: 5s - loss: 0.486 - ETA: 5s - loss: 0.485 - ETA: 5s - loss: 0.485 - ETA: 5s - loss: 0.484 - ETA: 5s - loss: 0.484 - ETA: 5s - loss: 0.484 - ETA: 5s - loss: 0.483 - ETA: 5s - loss: 0.483 - ETA: 5s - loss: 0.483 - ETA: 5s - loss: 0.483 - ETA: 5s - loss: 0.483 - ETA: 4s - loss: 0.483 - ETA: 4s - loss: 0.483 - ETA: 4s - loss: 0.483 - ETA: 4s - loss: 0.483 - ETA: 4s - loss: 0.483 - ETA: 4s - loss: 0.483 - ETA: 4s - loss: 0.483 - ETA: 4s - loss: 0.483 - ETA: 4s - loss: 0.484 - ETA: 4s - loss: 0.484 - ETA: 4s - loss: 0.484 - ETA: 4s - loss: 0.484 - ETA: 4s - loss: 0.484 - ETA: 3s - loss: 0.484 - ETA: 3s - loss: 0.484 - ETA: 3s - loss: 0.484 - ETA: 3s - loss: 0.484 - ETA: 3s - loss: 0.484 - ETA: 3s - loss: 0.484 - ETA: 3s - loss: 0.484 - ETA: 3s - loss: 0.484 - ETA: 3s - loss: 0.484 - ETA: 3s - loss: 0.484 - ETA: 3s - loss: 0.484 - ETA: 3s - loss: 0.484 - ETA: 2s - loss: 0.484 - ETA: 2s - loss: 0.484 - ETA: 2s - loss: 0.484 - ETA: 2s - loss: 0.484 - ETA: 2s - loss: 0.484 - ETA: 2s - loss: 0.484 - ETA: 2s - loss: 0.484 - ETA: 2s - loss: 0.484 - ETA: 2s - loss: 0.484 - ETA: 2s - loss: 0.484 - ETA: 2s - loss: 0.484 - ETA: 2s - loss: 0.484 - ETA: 1s - loss: 0.484 - ETA: 1s - loss: 0.484 - ETA: 1s - loss: 0.484 - ETA: 1s - loss: 0.484 - ETA: 1s - loss: 0.484 - ETA: 1s - loss: 0.484 - ETA: 1s - loss: 0.484 - ETA: 1s - loss: 0.484 - ETA: 1s - loss: 0.484 - ETA: 1s - loss: 0.484 - ETA: 1s - loss: 0.484 - ETA: 1s - loss: 0.484 - ETA: 0s - loss: 0.484 - ETA: 0s - loss: 0.484 - ETA: 0s - loss: 0.484 - ETA: 0s - loss: 0.484 - ETA: 0s - loss: 0.484 - ETA: 0s - loss: 0.484 - ETA: 0s - loss: 0.484 - ETA: 0s - loss: 0.484 - ETA: 0s - loss: 0.484 - ETA: 0s - loss: 0.484 - ETA: 0s - loss: 0.484 - ETA: 0s - loss: 0.4845epoch 29,\tloss 0.4846,\tval_loss 0.4915\tmean_cos_dist 0.4050\tval_mean_cos_dist 0.3996.\n",
      "746366/746366 [==============================] - 8s 10us/sample - loss: 0.4846 - val_loss: 0.4915\n"
     ]
    }
   ],
   "source": [
    "import tensorflow\n",
    "import tensorflow.keras.backend as K\n",
    "from tensorflow.keras.metrics import TruePositives, FalsePositives, TrueNegatives, FalseNegatives, BinaryAccuracy, Precision, Recall, AUC\n",
    "from tensorflow.keras.losses import MeanSquaredError, Huber\n",
    "from tensorflow.keras.optimizers import Adam\n",
    "\n",
    "from tensorflow.keras.callbacks import Callback\n",
    "\n",
    "from sklearn.metrics import roc_auc_score\n",
    "from sklearn.metrics import precision_score\n",
    "from sklearn.metrics import recall_score\n",
    "from sklearn.metrics import f1_score\n",
    "from sklearn.metrics import cohen_kappa_score\n",
    "from sklearn.metrics import confusion_matrix\n",
    "\n",
    "class Metrics(Callback):\n",
    "    def __init__(self, tr_data, val_data):\n",
    "        self.validation_data = val_data    \n",
    "        self.train_data = tr_data    \n",
    "    \n",
    "    def cosine_distance_sum(self, A, B):\n",
    "        return sum([1.0 - np.dot(a, b)/(np.linalg.norm(a)*np.linalg.norm(b)) for a,b in zip(A, B)])\n",
    "\n",
    "    def mean_cos_dist_sum(self, X_vali, y_vali):\n",
    "        y_pred = model.predict(X_vali)\n",
    "        return self.cosine_distance_sum(y_pred, y_vali)/y_vali.shape[0]\n",
    "        \n",
    "    def on_train_begin(self, logs={}):\n",
    "        self.mean_cos_dist = []      \n",
    "        self.val_mean_cos_dist = []       \n",
    "        \n",
    "    def on_epoch_end(self, epoch, logs={}):\n",
    "        score = self.mean_cos_dist_sum(self.train_data[0][:1000], self.train_data[1][:1000])\n",
    "        score_val = self.mean_cos_dist_sum(self.validation_data[0][:1000], self.validation_data[1][:1000])\n",
    "        self.mean_cos_dist.append(score)\n",
    "        self.val_mean_cos_dist.append(score_val)\n",
    "        print('epoch {},\\tloss {:3.4f},\\tval_loss {:3.4f}\\tmean_cos_dist {:3.4f}\\tval_mean_cos_dist {:3.4f}.'.format(\n",
    "            epoch, logs['loss'], logs['val_loss'], score, score_val))\n",
    "        \n",
    "    def on_train_end(self, logs={}):\n",
    "        self.mean_cos_dist = {'mean_cos_dist': self.mean_cos_dist}    \n",
    "        self.val_mean_cos_dist = {'val_mean_cos_dist': self.val_mean_cos_dist}      \n",
    "        \n",
    "    def get_train_data(self):\n",
    "        return self.train_data\n",
    "    \n",
    "    def get_val_data(self):\n",
    "        return self.validation_data\n",
    "    \n",
    "    \n",
    "validation_split = 0.25\n",
    "epochs = 30\n",
    "batch_size = 5000\n",
    "loss = Huber() \n",
    "optimizer = Adam(lr=1e-3)\n",
    "metrics = Metrics((X_train, y_train),\n",
    "                  (X_val, y_val))\n",
    "\n",
    "METRICS_NAMES = [\n",
    "        \"loss\",\n",
    "        \"mean_cos_dist\",\n",
    "    ]\n",
    "model.compile(loss=loss, optimizer=optimizer)\n",
    "print(model.summary())\n",
    "history = model.fit(metrics.get_train_data()[0], \n",
    "                    metrics.get_train_data()[1], \n",
    "                    epochs=epochs, \n",
    "                    batch_size=batch_size, \n",
    "                    validation_data = metrics.get_val_data(),\n",
    "                    callbacks=[metrics], \n",
    "                    verbose=1).history"
   ]
  },
  {
   "cell_type": "code",
   "execution_count": 401,
   "metadata": {
    "colab": {},
    "colab_type": "code",
    "id": "NKQFnMIZQZkv"
   },
   "outputs": [],
   "source": [
    "import matplotlib.pyplot as plt\n",
    "def plot_loss(history, metric_name):\n",
    "    val_loss = history[\"val_\" + metric_name]\n",
    "    plt.plot(val_loss, linewidth=3, label=\"valid\")\n",
    "    loss = history[metric_name]\n",
    "    plt.plot(loss, linewidth=3, label=\"train\")\n",
    "    plt.grid()\n",
    "    plt.legend()\n",
    "    plt.xlabel(\"epoch\")\n",
    "    plt.ylabel(metric_name)\n",
    "    plt.title(metric_name)\n",
    "    plt.show()"
   ]
  },
  {
   "cell_type": "code",
   "execution_count": 402,
   "metadata": {
    "colab": {
     "base_uri": "https://localhost:8080/",
     "height": 571
    },
    "colab_type": "code",
    "id": "lmHm1ArYQZkx",
    "outputId": "93204dba-46d2-46d7-cfb0-d278602f88df"
   },
   "outputs": [
    {
     "data": {
      "image/png": "[encoded data removed]",
      "text/plain": [
       "<Figure size 432x288 with 1 Axes>"
      ]
     },
     "metadata": {
      "image/png": {
       "height": 277,
       "width": 393
      },
      "needs_background": "light"
     },
     "output_type": "display_data"
    },
    {
     "data": {
      "image/png": "[encoded data removed]",
      "text/plain": [
       "<Figure size 432x288 with 1 Axes>"
      ]
     },
     "metadata": {
      "image/png": {
       "height": 277,
       "width": 394
      },
      "needs_background": "light"
     },
     "output_type": "display_data"
    }
   ],
   "source": [
    "history.update(metrics.mean_cos_dist)\n",
    "history.update(metrics.val_mean_cos_dist)\n",
    "for metric_name in METRICS_NAMES:\n",
    "    plot_loss(history, metric_name)"
   ]
  },
  {
   "cell_type": "code",
   "execution_count": 428,
   "metadata": {},
   "outputs": [
    {
     "data": {
      "image/png": "[encoded data removed]",
      "text/plain": [
       "<IPython.core.display.Image object>"
      ]
     },
     "execution_count": 428,
     "metadata": {},
     "output_type": "execute_result"
    }
   ],
   "source": [
    "from tensorflow.python.keras.utils.vis_utils import plot_model\n",
    "plot_model(\n",
    "        model,\n",
    "        to_file=\"images/model/LTSTM_30_plot.png\",\n",
    "        show_shapes=True,\n",
    "        show_layer_names=False,\n",
    "    )"
   ]
  },
  {
   "cell_type": "code",
   "execution_count": 403,
   "metadata": {},
   "outputs": [
    {
     "name": "stdout",
     "output_type": "stream",
     "text": [
      "Saved model to disk\n"
     ]
    }
   ],
   "source": [
    "def save_model(model, model_name):\n",
    "    model_json = model.to_json()\n",
    "    with open(\"models/\"+model_name+\".json\", \"w\") as json_file:\n",
    "        json_file.write(model_json)\n",
    "    model.save_weights(\"models/\"+model_name+\".h5\")\n",
    "    print(\"Saved model to disk\")\n",
    "    \n",
    "save_model(model, \"LSTM_30_epoch\")"
   ]
  },
  {
   "cell_type": "code",
   "execution_count": 404,
   "metadata": {
    "colab": {},
    "colab_type": "code",
    "id": "6EU3FNISQZkz"
   },
   "outputs": [
    {
     "name": "stdout",
     "output_type": "stream",
     "text": [
      "[ 0.2831416   1.9003518  -0.5969981   0.04515171  0.88170296 -1.8052266\n",
      " -0.28070796 -0.7344635  -0.5129904   0.5274376  -0.50100714  0.35816643\n",
      " -0.50922704 -1.9544994   0.02911769  1.1419986   0.01741598  0.5366339\n",
      " -1.4860406   0.5877922  -0.6481257   1.7070045  -0.65793806  1.18562\n",
      "  0.46790358 -0.45111388  0.16563676 -2.42333    -0.20980245  0.73004264\n",
      "  0.1077087  -0.0410464  -1.8511068  -0.4033527   0.5019449   1.9654834\n",
      " -0.8074281  -0.7183717  -0.638709    1.6402546   1.4586475  -0.3450368\n",
      " -0.8329103  -0.53891575 -0.8557045   0.56288075 -0.14011712 -0.19686495\n",
      " -1.7863393   0.06247514  0.5551195  -1.4328742   1.5419097  -0.2912826\n",
      " -1.1314827   0.41545781 -0.6453534   0.49623677 -0.38735077 -1.5992879\n",
      "  1.1138496  -1.2525398  -0.26182267 -0.30861476]\n",
      "('Dbo7', 1.0000001192092896)\n"
     ]
    }
   ],
   "source": [
    "print(X_train[0][0], ft.wv.most_similar(X_train[0][0].reshape(1,-1))[0], sep=\"\\n\")"
   ]
  },
  {
   "cell_type": "code",
   "execution_count": 405,
   "metadata": {
    "colab": {},
    "colab_type": "code",
    "id": "GGLUAmgAQZk1"
   },
   "outputs": [
    {
     "data": {
      "text/plain": [
       "((1, 3, 64), (1, 3, 64))"
      ]
     },
     "execution_count": 405,
     "metadata": {},
     "output_type": "execute_result"
    }
   ],
   "source": [
    "X_test[0][np.newaxis, :].shape, X_test[0:1].shape"
   ]
  },
  {
   "cell_type": "code",
   "execution_count": 406,
   "metadata": {
    "colab": {},
    "colab_type": "code",
    "id": "AB9Z76JoQZk2"
   },
   "outputs": [],
   "source": [
    "y_pred = model.predict(X_val)"
   ]
  },
  {
   "cell_type": "code",
   "execution_count": 410,
   "metadata": {
    "colab": {},
    "colab_type": "code",
    "id": "RiO6he84QZk4",
    "outputId": "0746b54b-0c84-462d-f55a-1701e17134b8"
   },
   "outputs": [
    {
     "data": {
      "text/plain": [
       "array([[ 0.2831416 ,  1.9003518 , -0.5969981 ,  0.04515171,  0.88170296,\n",
       "        -1.8052266 , -0.28070796, -0.7344635 , -0.5129904 ,  0.5274376 ,\n",
       "        -0.50100714,  0.35816643, -0.50922704, -1.9544994 ,  0.02911769,\n",
       "         1.1419986 ,  0.01741598,  0.5366339 , -1.4860406 ,  0.5877922 ,\n",
       "        -0.6481257 ,  1.7070045 , -0.65793806,  1.18562   ,  0.46790358,\n",
       "        -0.45111388,  0.16563676, -2.42333   , -0.20980245,  0.73004264,\n",
       "         0.1077087 , -0.0410464 , -1.8511068 , -0.4033527 ,  0.5019449 ,\n",
       "         1.9654834 , -0.8074281 , -0.7183717 , -0.638709  ,  1.6402546 ,\n",
       "         1.4586475 , -0.3450368 , -0.8329103 , -0.53891575, -0.8557045 ,\n",
       "         0.56288075, -0.14011712, -0.19686495, -1.7863393 ,  0.06247514,\n",
       "         0.5551195 , -1.4328742 ,  1.5419097 , -0.2912826 , -1.1314827 ,\n",
       "         0.41545781, -0.6453534 ,  0.49623677, -0.38735077, -1.5992879 ,\n",
       "         1.1138496 , -1.2525398 , -0.26182267, -0.30861476],\n",
       "       [-0.12298293, -0.09537581,  0.11507685,  0.18755089, -0.31370044,\n",
       "         0.20790465, -2.0764053 , -0.75460654, -0.8922451 , -1.7325687 ,\n",
       "        -0.98731196,  0.6573256 ,  0.5216657 , -0.7929633 ,  2.8463244 ,\n",
       "         0.4677727 ,  2.1997018 , -0.4845558 ,  0.6230675 , -1.7659466 ,\n",
       "         0.8156193 ,  4.8941865 , -1.0611099 ,  2.3419776 , -1.1245302 ,\n",
       "        -0.35872355, -0.27981836,  0.6639125 , -0.8603519 ,  0.61769277,\n",
       "         1.6528143 ,  0.4494019 ,  0.42647454, -1.4107645 ,  2.3606687 ,\n",
       "        -1.5944979 ,  0.06711545, -2.541988  ,  0.20555414,  0.90421164,\n",
       "        -0.14675553, -2.1594446 , -2.0192292 , -0.19843784, -2.9061446 ,\n",
       "         2.5144343 ,  0.01262336,  0.628966  , -0.89889306,  1.8225557 ,\n",
       "         2.434856  , -2.2177148 , -0.5793339 ,  0.30537346,  2.1193173 ,\n",
       "        -0.83454716, -1.0371233 , -2.864889  , -0.4846404 , -1.9887129 ,\n",
       "         0.6954002 , -0.59162223,  0.93404   , -0.9920756 ],\n",
       "       [ 2.521698  , -0.36522555, -1.660815  , -2.3297446 ,  0.53362435,\n",
       "        -1.6192889 , -1.4508376 ,  1.0549979 ,  0.55598646, -1.3591797 ,\n",
       "        -0.9930576 ,  2.209116  ,  1.481081  , -0.60197127,  0.7677479 ,\n",
       "         0.6604949 ,  1.578368  , -1.1673512 ,  0.17790794, -0.79083395,\n",
       "         0.16669777, -0.76395255, -1.0847003 , -0.14575553, -0.50872743,\n",
       "         1.2609444 ,  0.90212375,  1.1119106 , -1.5369517 , -1.1972247 ,\n",
       "         1.1860361 , -0.65673524,  2.8073645 , -0.8662113 , -1.0672204 ,\n",
       "        -0.6069402 ,  1.2914885 , -2.024805  , -1.4979422 , -1.5573235 ,\n",
       "        -1.834419  ,  0.9336635 ,  0.77576435, -2.129337  , -1.6730417 ,\n",
       "        -0.30326098,  0.68771535,  0.34199664, -0.57792634,  1.6895407 ,\n",
       "         0.65588343, -1.8667816 , -1.1883247 , -0.8751655 ,  0.8582405 ,\n",
       "         1.3234247 , -1.0495732 ,  1.7804353 , -0.61602676, -2.184025  ,\n",
       "         2.0523098 , -1.4967291 ,  0.09479241, -1.5988593 ]],\n",
       "      dtype=float32)"
      ]
     },
     "execution_count": 410,
     "metadata": {},
     "output_type": "execute_result"
    }
   ],
   "source": [
    "X_train[0]"
   ]
  },
  {
   "cell_type": "code",
   "execution_count": 431,
   "metadata": {
    "colab": {},
    "colab_type": "code",
    "id": "WakD00fcQZk5",
    "outputId": "a08a8022-613d-4573-b50d-06e75f537385"
   },
   "outputs": [
    {
     "name": "stdout",
     "output_type": "stream",
     "text": [
      "Dbo7\tG^7\tE7\t( B-7 )\t['Ebh', 'Ebh9', 'A7', 'Ebh7', 'A6']\n",
      "B6\tGb6\tGb6\t( B )\t['Db-11', 'Db2', 'A6', 'Db-#5', 'Dbh9']\n",
      "D7\tDb7\tGb-\t( Eb7sus )\t['Db-b6', 'Ebh', 'A6', 'Ebh7', 'A^7']\n",
      "Bb7\tEb\tEb7\t( Db7 )\t['A6', 'E+', 'Co', 'Gb+', 'A']\n",
      "Ab^7\tDb^7\tAb^7\t( B7 )\t['Ebh', 'A6', 'Db-', 'Ebh7', 'Co7']\n",
      "Gb^7\tBbh7\tEb7b9\t( F7 )\t['Ebh', 'Db-b6', 'Ebh7', 'Gb-b6', 'Db-']\n",
      "A\tDb7\tDb7\t( C6 )\t['Ebh9', 'Ebh', 'Db-6', 'Db-', 'A^7']\n",
      "Eb7\tC7\tF-7\t( D7 )\t['A6', 'Ebh', 'Db-', 'Gb+', 'A']\n",
      "A7\tEh\tA7\t( Bb^7 )\t['Ebo', 'Ebo7', 'A6', 'Ebh', 'A+']\n",
      "Db-7\tGb7\tB^7\t( A7 )\t['Ebh', 'Ebh9', 'Ebh7', 'A6', 'Eb-7']\n",
      "Bb-7\tAb-7\tBb-7\t( D7 )\t['Co7', 'Ebh', 'Db-', 'A^7', 'Db-b6']\n",
      "C7\tF-7\tBb7\t( E-7 )\t['A6', 'Ebh', 'B-b6', 'Db-', 'Db-b6']\n",
      "Eb\tBb6\tEh7\t( G7 )\t['Ebh', 'A6', 'Db-', 'Ebh7', 'B-7']\n",
      "G^7\tE7\tGb-7\t( A^7 )\t['A+', 'Ebh', 'A6', 'A', 'Gb-6']\n",
      "C7\tB^7\tD7\t( G )\t['Ebh', 'A6', 'Ebh9', 'Ebh7', 'Do7']\n",
      "E7\tA\tA\t( D-7 )\t['Ebh9', 'Ebh', 'Ebh7', 'Db-6', 'Eb7b9#9']\n",
      "Eb7\tAb7\tDb\t( C-7 )\t['A^', 'Db-', 'A6', 'A', 'Db-b6']\n",
      "D7#5\tD7#5\tG-11\t( D7b9 )\t['A^7', 'Co7', 'C^7', 'Ebh7', 'Gb7b5']\n",
      "Eb-\tAb7\tAb7\t( Bb7 )\t['Ebh', 'A^', 'A6', 'Db-b6', 'Ebh9']\n",
      "Eb-7\tAb7\tDb^7\t( G )\t['Ebh', 'A^7', 'Db-', 'A6', 'A^']\n"
     ]
    }
   ],
   "source": [
    "def print_example_predictions(model, X_test, y_test, embedding):\n",
    "    for i in range(20):\n",
    "        x_test_ex = X_test[i]\n",
    "        y_pred = model.predict(x_test_ex[np.newaxis, :])\n",
    "        #     print(embedding.wv.most_similar(y_test[i].reshape(1,-1))[0][0] in [d[0] for d in embedding.wv.most_similar(y_pred)][:10], end=\"\\t\")\n",
    "        print(embedding.wv.most_similar(x_test_ex[0].reshape(1,-1))[0][0], end=\"\\t\")\n",
    "        print(embedding.wv.most_similar(x_test_ex[1].reshape(1,-1))[0][0], end=\"\\t\")\n",
    "        print(embedding.wv.most_similar(x_test_ex[2].reshape(1,-1))[0][0], end=\"\\t\")\n",
    "        print(\"(\", embedding.wv.most_similar(y_test[i].reshape(1,-1))[0][0], end=\" )\\t\")\n",
    "        print([d[0] for d in embedding.wv.most_similar(y_pred)][:5])"
   ]
  },
  {
   "cell_type": "code",
   "execution_count": 478,
   "metadata": {},
   "outputs": [
    {
     "name": "stdout",
     "output_type": "stream",
     "text": [
      "Sample Song\n",
      "A^7\t|\tB-7\t|\tE7\t|\tEbh\t|\t\n",
      "Ebh\t|\tEbh\t|\tE7\t|\tDb-\t|\t\n",
      "Db-\t|\tA^7\t|\tA^7\t|\tEbh7\t|\t\n",
      "Ebh\t|\tEbh\t|\tEbh\t|\tEbh\t|\t\n"
     ]
    }
   ],
   "source": [
    "def generate_song(init_seq, length=16):\n",
    "    sample = ft.wv[init_seq]\n",
    "    song = sample\n",
    "    for i in range(length-sample.shape[0]):\n",
    "        next_chord = model.predict(sample[np.newaxis, :])\n",
    "        sample = np.vstack([sample[1:],next_chord])\n",
    "        song = np.vstack([song, next_chord])\n",
    "    song = [ft.wv.most_similar(chord.reshape(1,-1))[0][0] for chord in song]\n",
    "    print(\"Sample Song\")\n",
    "    for i, c in enumerate(song):\n",
    "        print(c, end=\"\\t|\\t\")\n",
    "        if i%4 == 3:\n",
    "            print(\"\")\n",
    "            \n",
    "generate_song(['A^7','B-7','E7'], length=16)"
   ]
  },
  {
   "cell_type": "code",
   "execution_count": 468,
   "metadata": {},
   "outputs": [
    {
     "data": {
      "text/plain": [
       "(2, 64)"
      ]
     },
     "execution_count": 468,
     "metadata": {},
     "output_type": "execute_result"
    }
   ],
   "source": [
    "X_train[200][1:].shape"
   ]
  },
  {
   "cell_type": "code",
   "execution_count": 469,
   "metadata": {},
   "outputs": [
    {
     "ename": "ValueError",
     "evalue": "Error when checking input: expected lstm_26_input to have 3 dimensions, but got array with shape (2, 64)",
     "output_type": "error",
     "traceback": [
      "\u001b[1;31m---------------------------------------------------------------------------\u001b[0m",
      "\u001b[1;31mValueError\u001b[0m                                Traceback (most recent call last)",
      "\u001b[1;32m<ipython-input-469-db09d590fbc5>\u001b[0m in \u001b[0;36m<module>\u001b[1;34m\u001b[0m\n\u001b[1;32m----> 1\u001b[1;33m \u001b[0mmodel\u001b[0m\u001b[1;33m.\u001b[0m\u001b[0mpredict\u001b[0m\u001b[1;33m(\u001b[0m\u001b[0mX_train\u001b[0m\u001b[1;33m[\u001b[0m\u001b[1;36m200\u001b[0m\u001b[1;33m]\u001b[0m\u001b[1;33m[\u001b[0m\u001b[1;36m1\u001b[0m\u001b[1;33m:\u001b[0m\u001b[1;33m]\u001b[0m\u001b[1;33m)\u001b[0m\u001b[1;33m\u001b[0m\u001b[1;33m\u001b[0m\u001b[0m\n\u001b[0m",
      "\u001b[1;32m~\\Miniconda3\\envs\\tf-gpu-env\\lib\\site-packages\\tensorflow_core\\python\\keras\\engine\\training.py\u001b[0m in \u001b[0;36mpredict\u001b[1;34m(self, x, batch_size, verbose, steps, callbacks, max_queue_size, workers, use_multiprocessing)\u001b[0m\n\u001b[0;32m    907\u001b[0m         \u001b[0mmax_queue_size\u001b[0m\u001b[1;33m=\u001b[0m\u001b[0mmax_queue_size\u001b[0m\u001b[1;33m,\u001b[0m\u001b[1;33m\u001b[0m\u001b[1;33m\u001b[0m\u001b[0m\n\u001b[0;32m    908\u001b[0m         \u001b[0mworkers\u001b[0m\u001b[1;33m=\u001b[0m\u001b[0mworkers\u001b[0m\u001b[1;33m,\u001b[0m\u001b[1;33m\u001b[0m\u001b[1;33m\u001b[0m\u001b[0m\n\u001b[1;32m--> 909\u001b[1;33m         use_multiprocessing=use_multiprocessing)\n\u001b[0m\u001b[0;32m    910\u001b[0m \u001b[1;33m\u001b[0m\u001b[0m\n\u001b[0;32m    911\u001b[0m   \u001b[1;32mdef\u001b[0m \u001b[0mreset_metrics\u001b[0m\u001b[1;33m(\u001b[0m\u001b[0mself\u001b[0m\u001b[1;33m)\u001b[0m\u001b[1;33m:\u001b[0m\u001b[1;33m\u001b[0m\u001b[1;33m\u001b[0m\u001b[0m\n",
      "\u001b[1;32m~\\Miniconda3\\envs\\tf-gpu-env\\lib\\site-packages\\tensorflow_core\\python\\keras\\engine\\training_arrays.py\u001b[0m in \u001b[0;36mpredict\u001b[1;34m(self, model, x, batch_size, verbose, steps, callbacks, **kwargs)\u001b[0m\n\u001b[0;32m    713\u001b[0m     \u001b[0mbatch_size\u001b[0m \u001b[1;33m=\u001b[0m \u001b[0mmodel\u001b[0m\u001b[1;33m.\u001b[0m\u001b[0m_validate_or_infer_batch_size\u001b[0m\u001b[1;33m(\u001b[0m\u001b[0mbatch_size\u001b[0m\u001b[1;33m,\u001b[0m \u001b[0msteps\u001b[0m\u001b[1;33m,\u001b[0m \u001b[0mx\u001b[0m\u001b[1;33m)\u001b[0m\u001b[1;33m\u001b[0m\u001b[1;33m\u001b[0m\u001b[0m\n\u001b[0;32m    714\u001b[0m     x, _, _ = model._standardize_user_data(\n\u001b[1;32m--> 715\u001b[1;33m         x, check_steps=True, steps_name='steps', steps=steps)\n\u001b[0m\u001b[0;32m    716\u001b[0m     return predict_loop(\n\u001b[0;32m    717\u001b[0m         \u001b[0mmodel\u001b[0m\u001b[1;33m,\u001b[0m\u001b[1;33m\u001b[0m\u001b[1;33m\u001b[0m\u001b[0m\n",
      "\u001b[1;32m~\\Miniconda3\\envs\\tf-gpu-env\\lib\\site-packages\\tensorflow_core\\python\\keras\\engine\\training.py\u001b[0m in \u001b[0;36m_standardize_user_data\u001b[1;34m(self, x, y, sample_weight, class_weight, batch_size, check_steps, steps_name, steps, validation_split, shuffle, extract_tensors_from_dataset)\u001b[0m\n\u001b[0;32m   2470\u001b[0m           \u001b[0mfeed_input_shapes\u001b[0m\u001b[1;33m,\u001b[0m\u001b[1;33m\u001b[0m\u001b[1;33m\u001b[0m\u001b[0m\n\u001b[0;32m   2471\u001b[0m           \u001b[0mcheck_batch_axis\u001b[0m\u001b[1;33m=\u001b[0m\u001b[1;32mFalse\u001b[0m\u001b[1;33m,\u001b[0m  \u001b[1;31m# Don't enforce the batch size.\u001b[0m\u001b[1;33m\u001b[0m\u001b[1;33m\u001b[0m\u001b[0m\n\u001b[1;32m-> 2472\u001b[1;33m           exception_prefix='input')\n\u001b[0m\u001b[0;32m   2473\u001b[0m \u001b[1;33m\u001b[0m\u001b[0m\n\u001b[0;32m   2474\u001b[0m     \u001b[1;31m# Get typespecs for the input data and sanitize it if necessary.\u001b[0m\u001b[1;33m\u001b[0m\u001b[1;33m\u001b[0m\u001b[1;33m\u001b[0m\u001b[0m\n",
      "\u001b[1;32m~\\Miniconda3\\envs\\tf-gpu-env\\lib\\site-packages\\tensorflow_core\\python\\keras\\engine\\training_utils.py\u001b[0m in \u001b[0;36mstandardize_input_data\u001b[1;34m(data, names, shapes, check_batch_axis, exception_prefix)\u001b[0m\n\u001b[0;32m    563\u001b[0m                            \u001b[1;34m': expected '\u001b[0m \u001b[1;33m+\u001b[0m \u001b[0mnames\u001b[0m\u001b[1;33m[\u001b[0m\u001b[0mi\u001b[0m\u001b[1;33m]\u001b[0m \u001b[1;33m+\u001b[0m \u001b[1;34m' to have '\u001b[0m \u001b[1;33m+\u001b[0m\u001b[1;33m\u001b[0m\u001b[1;33m\u001b[0m\u001b[0m\n\u001b[0;32m    564\u001b[0m                            \u001b[0mstr\u001b[0m\u001b[1;33m(\u001b[0m\u001b[0mlen\u001b[0m\u001b[1;33m(\u001b[0m\u001b[0mshape\u001b[0m\u001b[1;33m)\u001b[0m\u001b[1;33m)\u001b[0m \u001b[1;33m+\u001b[0m \u001b[1;34m' dimensions, but got array '\u001b[0m\u001b[1;33m\u001b[0m\u001b[1;33m\u001b[0m\u001b[0m\n\u001b[1;32m--> 565\u001b[1;33m                            'with shape ' + str(data_shape))\n\u001b[0m\u001b[0;32m    566\u001b[0m         \u001b[1;32mif\u001b[0m \u001b[1;32mnot\u001b[0m \u001b[0mcheck_batch_axis\u001b[0m\u001b[1;33m:\u001b[0m\u001b[1;33m\u001b[0m\u001b[1;33m\u001b[0m\u001b[0m\n\u001b[0;32m    567\u001b[0m           \u001b[0mdata_shape\u001b[0m \u001b[1;33m=\u001b[0m \u001b[0mdata_shape\u001b[0m\u001b[1;33m[\u001b[0m\u001b[1;36m1\u001b[0m\u001b[1;33m:\u001b[0m\u001b[1;33m]\u001b[0m\u001b[1;33m\u001b[0m\u001b[1;33m\u001b[0m\u001b[0m\n",
      "\u001b[1;31mValueError\u001b[0m: Error when checking input: expected lstm_26_input to have 3 dimensions, but got array with shape (2, 64)"
     ]
    }
   ],
   "source": [
    "model.predict(X_train[200][1:])"
   ]
  },
  {
   "cell_type": "code",
   "execution_count": null,
   "metadata": {},
   "outputs": [],
   "source": []
  }
 ],
 "metadata": {
  "accelerator": "GPU",
  "colab": {
   "include_colab_link": true,
   "name": "Model.ipynb",
   "provenance": [],
   "toc_visible": true
  },
  "kernelspec": {
   "display_name": "Python [conda env:master-thesis] *",
   "language": "python",
   "name": "conda-env-master-thesis-py"
  },
  "language_info": {
   "codemirror_mode": {
    "name": "ipython",
    "version": 3
   },
   "file_extension": ".py",
   "mimetype": "text/x-python",
   "name": "python",
   "nbconvert_exporter": "python",
   "pygments_lexer": "ipython3",
   "version": "3.7.6"
  },
  "toc": {
   "base_numbering": 1,
   "nav_menu": {},
   "number_sections": true,
   "sideBar": true,
   "skip_h1_title": false,
   "title_cell": "Table of Contents",
   "title_sidebar": "Contents",
   "toc_cell": false,
   "toc_position": {},
   "toc_section_display": true,
   "toc_window_display": false
  },
  "widgets": {
   "application/vnd.jupyter.widget-state+json": {
    "55504d26a7ff4c95a9d5c2f3a1980db8": {
     "model_module": "@jupyter-widgets/base",
     "model_name": "LayoutModel",
     "state": {
      "_model_module": "@jupyter-widgets/base",
      "_model_module_version": "1.2.0",
      "_model_name": "LayoutModel",
      "_view_count": null,
      "_view_module": "@jupyter-widgets/base",
      "_view_module_version": "1.2.0",
      "_view_name": "LayoutView",
      "align_content": null,
      "align_items": null,
      "align_self": null,
      "border": null,
      "bottom": null,
      "display": null,
      "flex": null,
      "flex_flow": null,
      "grid_area": null,
      "grid_auto_columns": null,
      "grid_auto_flow": null,
      "grid_auto_rows": null,
      "grid_column": null,
      "grid_gap": null,
      "grid_row": null,
      "grid_template_areas": null,
      "grid_template_columns": null,
      "grid_template_rows": null,
      "height": null,
      "justify_content": null,
      "justify_items": null,
      "left": null,
      "margin": null,
      "max_height": null,
      "max_width": null,
      "min_height": null,
      "min_width": null,
      "object_fit": null,
      "object_position": null,
      "order": null,
      "overflow": null,
      "overflow_x": null,
      "overflow_y": null,
      "padding": null,
      "right": null,
      "top": null,
      "visibility": null,
      "width": null
     }
    },
    "915732c5b5b54583afab73d697bb8ab6": {
     "model_module": "@jupyter-widgets/controls",
     "model_name": "HTMLModel",
     "state": {
      "_dom_classes": [],
      "_model_module": "@jupyter-widgets/controls",
      "_model_module_version": "1.5.0",
      "_model_name": "HTMLModel",
      "_view_count": null,
      "_view_module": "@jupyter-widgets/controls",
      "_view_module_version": "1.5.0",
      "_view_name": "HTMLView",
      "description": "",
      "description_tooltip": null,
      "layout": "IPY_MODEL_55504d26a7ff4c95a9d5c2f3a1980db8",
      "placeholder": "​",
      "style": "IPY_MODEL_95a4c841792e494fbd729ca3909129a7",
      "value": "100% 1243944/1243944 [00:30&lt;00:00, 40698.20it/s]"
     }
    },
    "95a4c841792e494fbd729ca3909129a7": {
     "model_module": "@jupyter-widgets/controls",
     "model_name": "DescriptionStyleModel",
     "state": {
      "_model_module": "@jupyter-widgets/controls",
      "_model_module_version": "1.5.0",
      "_model_name": "DescriptionStyleModel",
      "_view_count": null,
      "_view_module": "@jupyter-widgets/base",
      "_view_module_version": "1.2.0",
      "_view_name": "StyleView",
      "description_width": ""
     }
    },
    "99b4e2937d164aff84933e47e8a801c6": {
     "model_module": "@jupyter-widgets/base",
     "model_name": "LayoutModel",
     "state": {
      "_model_module": "@jupyter-widgets/base",
      "_model_module_version": "1.2.0",
      "_model_name": "LayoutModel",
      "_view_count": null,
      "_view_module": "@jupyter-widgets/base",
      "_view_module_version": "1.2.0",
      "_view_name": "LayoutView",
      "align_content": null,
      "align_items": null,
      "align_self": null,
      "border": null,
      "bottom": null,
      "display": null,
      "flex": null,
      "flex_flow": null,
      "grid_area": null,
      "grid_auto_columns": null,
      "grid_auto_flow": null,
      "grid_auto_rows": null,
      "grid_column": null,
      "grid_gap": null,
      "grid_row": null,
      "grid_template_areas": null,
      "grid_template_columns": null,
      "grid_template_rows": null,
      "height": null,
      "justify_content": null,
      "justify_items": null,
      "left": null,
      "margin": null,
      "max_height": null,
      "max_width": null,
      "min_height": null,
      "min_width": null,
      "object_fit": null,
      "object_position": null,
      "order": null,
      "overflow": null,
      "overflow_x": null,
      "overflow_y": null,
      "padding": null,
      "right": null,
      "top": null,
      "visibility": null,
      "width": null
     }
    },
    "b69902d0b19e49baa971944aca1cd927": {
     "model_module": "@jupyter-widgets/controls",
     "model_name": "IntProgressModel",
     "state": {
      "_dom_classes": [],
      "_model_module": "@jupyter-widgets/controls",
      "_model_module_version": "1.5.0",
      "_model_name": "IntProgressModel",
      "_view_count": null,
      "_view_module": "@jupyter-widgets/controls",
      "_view_module_version": "1.5.0",
      "_view_name": "ProgressView",
      "bar_style": "success",
      "description": "FastText Encoding",
      "description_tooltip": null,
      "layout": "IPY_MODEL_99b4e2937d164aff84933e47e8a801c6",
      "max": 1243944,
      "min": 0,
      "orientation": "horizontal",
      "style": "IPY_MODEL_cb4a29d231a44104bee798adc8b5a6ca",
      "value": 1243944
     }
    },
    "cb4a29d231a44104bee798adc8b5a6ca": {
     "model_module": "@jupyter-widgets/controls",
     "model_name": "ProgressStyleModel",
     "state": {
      "_model_module": "@jupyter-widgets/controls",
      "_model_module_version": "1.5.0",
      "_model_name": "ProgressStyleModel",
      "_view_count": null,
      "_view_module": "@jupyter-widgets/base",
      "_view_module_version": "1.2.0",
      "_view_name": "StyleView",
      "bar_color": null,
      "description_width": "initial"
     }
    },
    "df27fa01fb7e42fd823b032562b9a86f": {
     "model_module": "@jupyter-widgets/base",
     "model_name": "LayoutModel",
     "state": {
      "_model_module": "@jupyter-widgets/base",
      "_model_module_version": "1.2.0",
      "_model_name": "LayoutModel",
      "_view_count": null,
      "_view_module": "@jupyter-widgets/base",
      "_view_module_version": "1.2.0",
      "_view_name": "LayoutView",
      "align_content": null,
      "align_items": null,
      "align_self": null,
      "border": null,
      "bottom": null,
      "display": null,
      "flex": null,
      "flex_flow": null,
      "grid_area": null,
      "grid_auto_columns": null,
      "grid_auto_flow": null,
      "grid_auto_rows": null,
      "grid_column": null,
      "grid_gap": null,
      "grid_row": null,
      "grid_template_areas": null,
      "grid_template_columns": null,
      "grid_template_rows": null,
      "height": null,
      "justify_content": null,
      "justify_items": null,
      "left": null,
      "margin": null,
      "max_height": null,
      "max_width": null,
      "min_height": null,
      "min_width": null,
      "object_fit": null,
      "object_position": null,
      "order": null,
      "overflow": null,
      "overflow_x": null,
      "overflow_y": null,
      "padding": null,
      "right": null,
      "top": null,
      "visibility": null,
      "width": null
     }
    },
    "ff803e5ea87a46f8b7e8bd498afeb980": {
     "model_module": "@jupyter-widgets/controls",
     "model_name": "HBoxModel",
     "state": {
      "_dom_classes": [],
      "_model_module": "@jupyter-widgets/controls",
      "_model_module_version": "1.5.0",
      "_model_name": "HBoxModel",
      "_view_count": null,
      "_view_module": "@jupyter-widgets/controls",
      "_view_module_version": "1.5.0",
      "_view_name": "HBoxView",
      "box_style": "",
      "children": [
       "IPY_MODEL_b69902d0b19e49baa971944aca1cd927",
       "IPY_MODEL_915732c5b5b54583afab73d697bb8ab6"
      ],
      "layout": "IPY_MODEL_df27fa01fb7e42fd823b032562b9a86f"
     }
    }
   }
  }
 },
 "nbformat": 4,
 "nbformat_minor": 4
}
