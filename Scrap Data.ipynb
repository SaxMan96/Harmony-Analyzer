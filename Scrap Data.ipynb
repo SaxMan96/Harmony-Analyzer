{
 "cells": [
  {
   "cell_type": "code",
   "execution_count": 11,
   "metadata": {},
   "outputs": [],
   "source": [
    "from bs4 import BeautifulSoup\n",
    "import urllib\n",
    "import re\n",
    "import json\n",
    "from pyRealParser import Tune\n",
    "import pandas as pd\n",
    "from collections import Counter\n",
    "from pychord import Chord\n",
    "import ast\n",
    "\n",
    "def get_song_urls(web_links):\n",
    "    songs_urls = []\n",
    "    for link in web_links:\n",
    "        fp = urllib.request.urlopen(link)\n",
    "        mystr = fp.read().decode(\"latin-1\")\n",
    "        soup = BeautifulSoup(mystr)\n",
    "        for link in soup.findAll('a', attrs={'href':\n",
    "                                             re.compile(\"^irealb://\")}):\n",
    "            songs_urls.append(link.get('href'))\n",
    "    return songs_urls\n",
    "\n",
    "def extract_chords_from_measure(measure):\n",
    "    elements = re.findall(\n",
    "        r\"([A-G][#b]?)(11|7b13sus|13sus|9sus|7susadd3|7b9sus|13#9|13b9|13#11|13|7alt|7b9b13|7b9#9|7b9#5|7b9b5|7b9#11|7#9#11|7#9b5|7#9#5|7b13|9#5|9b5|9#11|7#5|7b5|7#11|7#9|7b9|9|-#5|-b6|h9|-7b5|-11|-9|-\\^9|-\\^7|-69|-6|\\^7#5|\\^9#11|\\^7#11|69|6|\\^13|\\^9|o7|h7|7sus|7|-7|\\^7|-|\\^|sus|h|o|\\+|add9|2|5?)?(/[A-G][#b]?)?\",\n",
    "        measure)\n",
    "    chords = []\n",
    "    for (root, extension, bass) in elements:\n",
    "#         chords.append({'Root': root, 'Ext': extension, 'Bass': bass[1:]})\n",
    "        chords.append(root+extension+bass)\n",
    "    return chords\n",
    "\n",
    "\n",
    "def string_to_chords(string):\n",
    "    chords = [{\n",
    "        'Root': chord.split(',')[0][2:-1],\n",
    "        'Ext': chord.split(',')[1][2:-1],\n",
    "        'Bass': chord.split(',')[2][2:-2]\n",
    "    } for chord in string.split(\";\")]\n",
    "    return chords\n",
    "\n",
    "\n",
    "def chords_to_string(chords):\n",
    "    string = ';'.join(json.dumps(list(d.values())) for d in chords)\n",
    "    return string\n",
    "\n",
    "\n",
    "def extract_meta_data(songs_urls):\n",
    "    songs_meta = []\n",
    "    for song_url in songs_urls:\n",
    "        if len(Tune.parse_ireal_url(song_url))>0:\n",
    "            my_tune = Tune.parse_ireal_url(song_url)[0]\n",
    "            song_meta = {}\n",
    "            song_meta[\"title\"] = my_tune.title\n",
    "            song_meta[\"composer\"] = my_tune.composer\n",
    "            song_meta[\"style\"] = my_tune.style\n",
    "            song_meta[\"key\"] = my_tune.key\n",
    "            song_meta[\"transpose\"] = my_tune.transpose\n",
    "            song_meta[\"comp_style\"] = my_tune.comp_style\n",
    "            song_meta[\"bpm\"] = my_tune.bpm\n",
    "            song_meta[\"repeats\"] = my_tune.repeats\n",
    "            song_meta[\"time_signature\"] = my_tune.time_signature\n",
    "            songs_meta.append(song_meta)\n",
    "            chords = []\n",
    "            for measure in my_tune.measures_as_strings:\n",
    "                chords += extract_chords_from_measure(measure)\n",
    "            notes_numbers = []\n",
    "            for c in chords:\n",
    "                notes_numbers.append(Chord(c).components(visible=False))\n",
    "            # We are assuming that each note is interval from C\n",
    "            song_meta[\"notes_numbers\"] = notes_numbers\n",
    "    return pd.DataFrame(songs_meta)"
   ]
  },
  {
   "cell_type": "code",
   "execution_count": 3,
   "metadata": {},
   "outputs": [],
   "source": [
    "web_links = [\n",
    "    \"https://www.irealb.com/forums/showthread.php?22620-Suggestions-for-additions-or-changes-to-the-Main-Jazz-Playlist\",\n",
    "    \"https://www.irealb.com/forums/showthread.php?4522-Jazz-1350-Standards-Individual-Songs\",\n",
    "    \"https://www.irealb.com/forums/showthread.php?10591-Dixieland-Trad-Playlists\",\n",
    "    \"https://www.irealb.com/forums/showthread.php?210-Fusion-and-Smooth-Jazz\",\n",
    "    \"https://www.irealb.com/forums/showthread.php?204-Contemporary-Jazz\",\n",
    "    \"https://www.irealb.com/forums/showthread.php?209-Pat-Metheny-songs\",\n",
    "    \"https://www.irealb.com/forums/showthread.php?215-Gypsy-Jazz\"\n",
    "]\n",
    "songs_urls = get_song_urls(web_links)"
   ]
  },
  {
   "cell_type": "code",
   "execution_count": 10,
   "metadata": {},
   "outputs": [
    {
     "name": "stdout",
     "output_type": "stream",
     "text": [
      "Parsed Trane's Blues (Vierd Blues)\n",
      "Parsed Trane's Blues (Vierd Blues)\n"
     ]
    },
    {
     "ename": "AttributeError",
     "evalue": "'dict' object has no attribute 'at'",
     "output_type": "error",
     "traceback": [
      "\u001b[1;31m---------------------------------------------------------------------------\u001b[0m",
      "\u001b[1;31mAttributeError\u001b[0m                            Traceback (most recent call last)",
      "\u001b[1;32m<ipython-input-10-701b86c5c596>\u001b[0m in \u001b[0;36m<module>\u001b[1;34m\u001b[0m\n\u001b[1;32m----> 1\u001b[1;33m \u001b[0mdf\u001b[0m \u001b[1;33m=\u001b[0m \u001b[0mextract_meta_data\u001b[0m\u001b[1;33m(\u001b[0m\u001b[0msongs_urls\u001b[0m\u001b[1;33m)\u001b[0m\u001b[1;33m\u001b[0m\u001b[1;33m\u001b[0m\u001b[0m\n\u001b[0m",
      "\u001b[1;32m<ipython-input-9-9f07cf24aba7>\u001b[0m in \u001b[0;36mextract_meta_data\u001b[1;34m(songs_urls)\u001b[0m\n\u001b[0;32m     67\u001b[0m                 \u001b[0mnotes_numbers\u001b[0m\u001b[1;33m.\u001b[0m\u001b[0mappend\u001b[0m\u001b[1;33m(\u001b[0m\u001b[0mChord\u001b[0m\u001b[1;33m(\u001b[0m\u001b[0mc\u001b[0m\u001b[1;33m)\u001b[0m\u001b[1;33m.\u001b[0m\u001b[0mcomponents\u001b[0m\u001b[1;33m(\u001b[0m\u001b[0mvisible\u001b[0m\u001b[1;33m=\u001b[0m\u001b[1;32mFalse\u001b[0m\u001b[1;33m)\u001b[0m\u001b[1;33m)\u001b[0m\u001b[1;33m\u001b[0m\u001b[1;33m\u001b[0m\u001b[0m\n\u001b[0;32m     68\u001b[0m             \u001b[1;31m# We are assuming that each note is interval from C\u001b[0m\u001b[1;33m\u001b[0m\u001b[1;33m\u001b[0m\u001b[1;33m\u001b[0m\u001b[0m\n\u001b[1;32m---> 69\u001b[1;33m             \u001b[0msong_meta\u001b[0m\u001b[1;33m.\u001b[0m\u001b[0mat\u001b[0m\u001b[1;33m[\u001b[0m\u001b[1;34m\"notes_numbers\"\u001b[0m\u001b[1;33m]\u001b[0m \u001b[1;33m=\u001b[0m \u001b[0mnotes_numbers\u001b[0m\u001b[1;33m\u001b[0m\u001b[1;33m\u001b[0m\u001b[0m\n\u001b[0m\u001b[0;32m     70\u001b[0m     \u001b[1;32mreturn\u001b[0m \u001b[0mpd\u001b[0m\u001b[1;33m.\u001b[0m\u001b[0mDataFrame\u001b[0m\u001b[1;33m(\u001b[0m\u001b[0msongs_meta\u001b[0m\u001b[1;33m)\u001b[0m\u001b[1;33m\u001b[0m\u001b[1;33m\u001b[0m\u001b[0m\n",
      "\u001b[1;31mAttributeError\u001b[0m: 'dict' object has no attribute 'at'"
     ]
    }
   ],
   "source": [
    "df = extract_meta_data(songs_urls)"
   ]
  },
  {
   "cell_type": "code",
   "execution_count": 12,
   "metadata": {},
   "outputs": [
    {
     "name": "stdout",
     "output_type": "stream",
     "text": [
      "repetitions:  0\n",
      "total:  2137\n",
      "unique:  2137\n",
      "repetitions:  0\n",
      "total:  2137\n",
      "unique:  2137\n"
     ]
    }
   ],
   "source": [
    "print(\"repetitions: \", len([i for i in Counter(df[\"title\"]).most_common() if i[1]>1]))\n",
    "print(\"total: \", df.shape[0])\n",
    "print(\"unique: \", len(Counter(df[\"title\"]).most_common()))\n",
    "df.drop_duplicates(subset=\"title\", inplace=True)\n",
    "print(\"repetitions: \", len([i for i in Counter(df[\"title\"]).most_common() if i[1]>1]))\n",
    "print(\"total: \", df.shape[0])\n",
    "print(\"unique: \", len(Counter(df[\"title\"]).most_common()))"
   ]
  },
  {
   "cell_type": "code",
   "execution_count": 13,
   "metadata": {},
   "outputs": [
    {
     "data": {
      "text/html": [
       "<div>\n",
       "<style scoped>\n",
       "    .dataframe tbody tr th:only-of-type {\n",
       "        vertical-align: middle;\n",
       "    }\n",
       "\n",
       "    .dataframe tbody tr th {\n",
       "        vertical-align: top;\n",
       "    }\n",
       "\n",
       "    .dataframe thead th {\n",
       "        text-align: right;\n",
       "    }\n",
       "</style>\n",
       "<table border=\"1\" class=\"dataframe\">\n",
       "  <thead>\n",
       "    <tr style=\"text-align: right;\">\n",
       "      <th></th>\n",
       "      <th>title</th>\n",
       "      <th>composer</th>\n",
       "      <th>style</th>\n",
       "      <th>key</th>\n",
       "      <th>transpose</th>\n",
       "      <th>comp_style</th>\n",
       "      <th>bpm</th>\n",
       "      <th>repeats</th>\n",
       "      <th>time_signature</th>\n",
       "      <th>notes_numbers</th>\n",
       "    </tr>\n",
       "  </thead>\n",
       "  <tbody>\n",
       "    <tr>\n",
       "      <th>0</th>\n",
       "      <td>Trane's Blues (Vierd Blues)</td>\n",
       "      <td>Davis Miles</td>\n",
       "      <td>Medium Swing</td>\n",
       "      <td>Bb</td>\n",
       "      <td>None</td>\n",
       "      <td>150</td>\n",
       "      <td>0</td>\n",
       "      <td>None</td>\n",
       "      <td>(4, 4)</td>\n",
       "      <td>[[10, 14, 17, 20], [3, 7, 10, 13], [10, 14, 17...</td>\n",
       "    </tr>\n",
       "    <tr>\n",
       "      <th>1</th>\n",
       "      <td>Fall</td>\n",
       "      <td>Shorter Wayne</td>\n",
       "      <td>Ballad</td>\n",
       "      <td>E-</td>\n",
       "      <td>None</td>\n",
       "      <td>Jazz-Ballad Swing</td>\n",
       "      <td>82</td>\n",
       "      <td>3</td>\n",
       "      <td>(4, 4)</td>\n",
       "      <td>[[1, 6, 11, 13, 16, 22], [11, 15, 18, 21, 24, ...</td>\n",
       "    </tr>\n",
       "    <tr>\n",
       "      <th>2</th>\n",
       "      <td>Blue Train</td>\n",
       "      <td>Coltrane John</td>\n",
       "      <td>Medium Up Swing</td>\n",
       "      <td>Eb</td>\n",
       "      <td>None</td>\n",
       "      <td>Jazz-Medium Up Swing</td>\n",
       "      <td>154</td>\n",
       "      <td>8</td>\n",
       "      <td>(4, 4)</td>\n",
       "      <td>[[3, 7, 10, 13, 18], [3, 7, 10, 13, 18], [3, 7...</td>\n",
       "    </tr>\n",
       "    <tr>\n",
       "      <th>3</th>\n",
       "      <td>Cousin Mary</td>\n",
       "      <td>Coltrane John</td>\n",
       "      <td>Up Tempo Swing</td>\n",
       "      <td>Ab</td>\n",
       "      <td>None</td>\n",
       "      <td>Jazz-Up Tempo Swing</td>\n",
       "      <td>218</td>\n",
       "      <td>3</td>\n",
       "      <td>(4, 4)</td>\n",
       "      <td>[[8, 12, 15, 18], [3, 7, 10, 13, 18], [8, 12, ...</td>\n",
       "    </tr>\n",
       "    <tr>\n",
       "      <th>4</th>\n",
       "      <td>Beauty And The Beast (Wayne Shorter)</td>\n",
       "      <td>Shorter Wayne</td>\n",
       "      <td>Funk Jazz</td>\n",
       "      <td>F</td>\n",
       "      <td>None</td>\n",
       "      <td>Jazz-Even 8ths</td>\n",
       "      <td>140</td>\n",
       "      <td>1</td>\n",
       "      <td>(4, 4)</td>\n",
       "      <td>[[5, 10, 14, 17], [5, 10, 14, 17], [5, 10, 14,...</td>\n",
       "    </tr>\n",
       "  </tbody>\n",
       "</table>\n",
       "</div>"
      ],
      "text/plain": [
       "                                  title       composer            style key  \\\n",
       "0           Trane's Blues (Vierd Blues)    Davis Miles     Medium Swing  Bb   \n",
       "1                                  Fall  Shorter Wayne           Ballad  E-   \n",
       "2                            Blue Train  Coltrane John  Medium Up Swing  Eb   \n",
       "3                           Cousin Mary  Coltrane John   Up Tempo Swing  Ab   \n",
       "4  Beauty And The Beast (Wayne Shorter)  Shorter Wayne        Funk Jazz   F   \n",
       "\n",
       "  transpose            comp_style  bpm repeats time_signature  \\\n",
       "0      None                   150    0    None         (4, 4)   \n",
       "1      None     Jazz-Ballad Swing   82       3         (4, 4)   \n",
       "2      None  Jazz-Medium Up Swing  154       8         (4, 4)   \n",
       "3      None   Jazz-Up Tempo Swing  218       3         (4, 4)   \n",
       "4      None        Jazz-Even 8ths  140       1         (4, 4)   \n",
       "\n",
       "                                       notes_numbers  \n",
       "0  [[10, 14, 17, 20], [3, 7, 10, 13], [10, 14, 17...  \n",
       "1  [[1, 6, 11, 13, 16, 22], [11, 15, 18, 21, 24, ...  \n",
       "2  [[3, 7, 10, 13, 18], [3, 7, 10, 13, 18], [3, 7...  \n",
       "3  [[8, 12, 15, 18], [3, 7, 10, 13, 18], [8, 12, ...  \n",
       "4  [[5, 10, 14, 17], [5, 10, 14, 17], [5, 10, 14,...  "
      ]
     },
     "execution_count": 13,
     "metadata": {},
     "output_type": "execute_result"
    }
   ],
   "source": [
    "df.head()"
   ]
  },
  {
   "cell_type": "code",
   "execution_count": 14,
   "metadata": {},
   "outputs": [],
   "source": [
    "df.to_csv(\"songs_and_chords.csv\", index=False)"
   ]
  },
  {
   "cell_type": "code",
   "execution_count": 25,
   "metadata": {},
   "outputs": [
    {
     "data": {
      "text/plain": [
       "[[10, 14, 17, 20],\n",
       " [3, 7, 10, 13],\n",
       " [10, 14, 17, 20],\n",
       " [10, 14, 17, 20],\n",
       " [3, 7, 10, 13],\n",
       " [3, 7, 10, 13],\n",
       " [10, 14, 17, 20],\n",
       " [2, 5, 9, 12],\n",
       " [7, 11, 14, 17],\n",
       " [0, 3, 7, 10],\n",
       " [5, 9, 12, 15],\n",
       " [10, 14, 17, 20],\n",
       " [7, 11, 14, 17],\n",
       " [0, 3, 7, 10],\n",
       " [5, 9, 12, 15]]"
      ]
     },
     "execution_count": 25,
     "metadata": {},
     "output_type": "execute_result"
    }
   ],
   "source": [
    "ast.literal_eval(pd.read_csv(\"songs_and_chords.csv\")[\"notes_numbers\"][0])"
   ]
  },
  {
   "cell_type": "code",
   "execution_count": null,
   "metadata": {},
   "outputs": [],
   "source": []
  }
 ],
 "metadata": {
  "kernelspec": {
   "display_name": "Python 3",
   "language": "python",
   "name": "python3"
  },
  "language_info": {
   "codemirror_mode": {
    "name": "ipython",
    "version": 3
   },
   "file_extension": ".py",
   "mimetype": "text/x-python",
   "name": "python",
   "nbconvert_exporter": "python",
   "pygments_lexer": "ipython3",
   "version": "3.7.3"
  },
  "toc": {
   "base_numbering": 1,
   "nav_menu": {},
   "number_sections": true,
   "sideBar": true,
   "skip_h1_title": false,
   "title_cell": "Table of Contents",
   "title_sidebar": "Contents",
   "toc_cell": false,
   "toc_position": {},
   "toc_section_display": true,
   "toc_window_display": false
  }
 },
 "nbformat": 4,
 "nbformat_minor": 4
}
